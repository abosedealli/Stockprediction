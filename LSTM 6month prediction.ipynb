{
  "nbformat": 4,
  "nbformat_minor": 0,
  "metadata": {
    "colab": {
      "provenance": [],
      "authorship_tag": "ABX9TyPAHtw9KeOdhSxsao8BBDZS",
      "include_colab_link": true
    },
    "kernelspec": {
      "name": "python3",
      "display_name": "Python 3"
    },
    "language_info": {
      "name": "python"
    }
  },
  "cells": [
    {
      "cell_type": "markdown",
      "metadata": {
        "id": "view-in-github",
        "colab_type": "text"
      },
      "source": [
        "<a href=\"https://colab.research.google.com/github/abosedealli/Stockprediction/blob/main/LSTM%206month%20prediction.ipynb\" target=\"_parent\"><img src=\"https://colab.research.google.com/assets/colab-badge.svg\" alt=\"Open In Colab\"/></a>"
      ]
    },
    {
      "cell_type": "code",
      "execution_count": 38,
      "metadata": {
        "colab": {
          "base_uri": "https://localhost:8080/"
        },
        "id": "r93n_biSnNKc",
        "outputId": "fc09ca64-e495-4325-9207-9870ac5ddc0e"
      },
      "outputs": [
        {
          "output_type": "stream",
          "name": "stdout",
          "text": [
            "Looking in indexes: https://pypi.org/simple, https://us-python.pkg.dev/colab-wheels/public/simple/\n",
            "Requirement already satisfied: pmdarima in /usr/local/lib/python3.8/dist-packages (2.0.2)\n",
            "Requirement already satisfied: joblib>=0.11 in /usr/local/lib/python3.8/dist-packages (from pmdarima) (1.2.0)\n",
            "Requirement already satisfied: statsmodels>=0.13.2 in /usr/local/lib/python3.8/dist-packages (from pmdarima) (0.13.5)\n",
            "Requirement already satisfied: pandas>=0.19 in /usr/local/lib/python3.8/dist-packages (from pmdarima) (1.3.5)\n",
            "Requirement already satisfied: urllib3 in /usr/local/lib/python3.8/dist-packages (from pmdarima) (1.24.3)\n",
            "Requirement already satisfied: scikit-learn>=0.22 in /usr/local/lib/python3.8/dist-packages (from pmdarima) (1.0.2)\n",
            "Requirement already satisfied: Cython!=0.29.18,!=0.29.31,>=0.29 in /usr/local/lib/python3.8/dist-packages (from pmdarima) (0.29.33)\n",
            "Requirement already satisfied: setuptools!=50.0.0,>=38.6.0 in /usr/local/lib/python3.8/dist-packages (from pmdarima) (57.4.0)\n",
            "Requirement already satisfied: scipy>=1.3.2 in /usr/local/lib/python3.8/dist-packages (from pmdarima) (1.7.3)\n",
            "Requirement already satisfied: numpy>=1.21.2 in /usr/local/lib/python3.8/dist-packages (from pmdarima) (1.21.6)\n",
            "Requirement already satisfied: python-dateutil>=2.7.3 in /usr/local/lib/python3.8/dist-packages (from pandas>=0.19->pmdarima) (2.8.2)\n",
            "Requirement already satisfied: pytz>=2017.3 in /usr/local/lib/python3.8/dist-packages (from pandas>=0.19->pmdarima) (2022.7)\n",
            "Requirement already satisfied: threadpoolctl>=2.0.0 in /usr/local/lib/python3.8/dist-packages (from scikit-learn>=0.22->pmdarima) (3.1.0)\n",
            "Requirement already satisfied: patsy>=0.5.2 in /usr/local/lib/python3.8/dist-packages (from statsmodels>=0.13.2->pmdarima) (0.5.3)\n",
            "Requirement already satisfied: packaging>=21.3 in /usr/local/lib/python3.8/dist-packages (from statsmodels>=0.13.2->pmdarima) (21.3)\n",
            "Requirement already satisfied: pyparsing!=3.0.5,>=2.0.2 in /usr/local/lib/python3.8/dist-packages (from packaging>=21.3->statsmodels>=0.13.2->pmdarima) (3.0.9)\n",
            "Requirement already satisfied: six in /usr/local/lib/python3.8/dist-packages (from patsy>=0.5.2->statsmodels>=0.13.2->pmdarima) (1.15.0)\n",
            "Looking in indexes: https://pypi.org/simple, https://us-python.pkg.dev/colab-wheels/public/simple/\n",
            "Requirement already satisfied: tensorflow in /usr/local/lib/python3.8/dist-packages (2.9.2)\n",
            "Requirement already satisfied: h5py>=2.9.0 in /usr/local/lib/python3.8/dist-packages (from tensorflow) (3.1.0)\n",
            "Requirement already satisfied: google-pasta>=0.1.1 in /usr/local/lib/python3.8/dist-packages (from tensorflow) (0.2.0)\n",
            "Requirement already satisfied: keras-preprocessing>=1.1.1 in /usr/local/lib/python3.8/dist-packages (from tensorflow) (1.1.2)\n",
            "Requirement already satisfied: tensorflow-io-gcs-filesystem>=0.23.1 in /usr/local/lib/python3.8/dist-packages (from tensorflow) (0.29.0)\n",
            "Requirement already satisfied: tensorboard<2.10,>=2.9 in /usr/local/lib/python3.8/dist-packages (from tensorflow) (2.9.1)\n",
            "Requirement already satisfied: wrapt>=1.11.0 in /usr/local/lib/python3.8/dist-packages (from tensorflow) (1.14.1)\n",
            "Requirement already satisfied: keras<2.10.0,>=2.9.0rc0 in /usr/local/lib/python3.8/dist-packages (from tensorflow) (2.9.0)\n",
            "Requirement already satisfied: absl-py>=1.0.0 in /usr/local/lib/python3.8/dist-packages (from tensorflow) (1.3.0)\n",
            "Requirement already satisfied: flatbuffers<2,>=1.12 in /usr/local/lib/python3.8/dist-packages (from tensorflow) (1.12)\n",
            "Requirement already satisfied: libclang>=13.0.0 in /usr/local/lib/python3.8/dist-packages (from tensorflow) (15.0.6.1)\n",
            "Requirement already satisfied: opt-einsum>=2.3.2 in /usr/local/lib/python3.8/dist-packages (from tensorflow) (3.3.0)\n",
            "Requirement already satisfied: tensorflow-estimator<2.10.0,>=2.9.0rc0 in /usr/local/lib/python3.8/dist-packages (from tensorflow) (2.9.0)\n",
            "Requirement already satisfied: typing-extensions>=3.6.6 in /usr/local/lib/python3.8/dist-packages (from tensorflow) (4.4.0)\n",
            "Requirement already satisfied: astunparse>=1.6.0 in /usr/local/lib/python3.8/dist-packages (from tensorflow) (1.6.3)\n",
            "Requirement already satisfied: protobuf<3.20,>=3.9.2 in /usr/local/lib/python3.8/dist-packages (from tensorflow) (3.19.6)\n",
            "Requirement already satisfied: grpcio<2.0,>=1.24.3 in /usr/local/lib/python3.8/dist-packages (from tensorflow) (1.51.1)\n",
            "Requirement already satisfied: numpy>=1.20 in /usr/local/lib/python3.8/dist-packages (from tensorflow) (1.21.6)\n",
            "Requirement already satisfied: setuptools in /usr/local/lib/python3.8/dist-packages (from tensorflow) (57.4.0)\n",
            "Requirement already satisfied: gast<=0.4.0,>=0.2.1 in /usr/local/lib/python3.8/dist-packages (from tensorflow) (0.4.0)\n",
            "Requirement already satisfied: packaging in /usr/local/lib/python3.8/dist-packages (from tensorflow) (21.3)\n",
            "Requirement already satisfied: termcolor>=1.1.0 in /usr/local/lib/python3.8/dist-packages (from tensorflow) (2.2.0)\n",
            "Requirement already satisfied: six>=1.12.0 in /usr/local/lib/python3.8/dist-packages (from tensorflow) (1.15.0)\n",
            "Requirement already satisfied: wheel<1.0,>=0.23.0 in /usr/local/lib/python3.8/dist-packages (from astunparse>=1.6.0->tensorflow) (0.38.4)\n",
            "Requirement already satisfied: tensorboard-data-server<0.7.0,>=0.6.0 in /usr/local/lib/python3.8/dist-packages (from tensorboard<2.10,>=2.9->tensorflow) (0.6.1)\n",
            "Requirement already satisfied: google-auth-oauthlib<0.5,>=0.4.1 in /usr/local/lib/python3.8/dist-packages (from tensorboard<2.10,>=2.9->tensorflow) (0.4.6)\n",
            "Requirement already satisfied: google-auth<3,>=1.6.3 in /usr/local/lib/python3.8/dist-packages (from tensorboard<2.10,>=2.9->tensorflow) (2.16.0)\n",
            "Requirement already satisfied: requests<3,>=2.21.0 in /usr/local/lib/python3.8/dist-packages (from tensorboard<2.10,>=2.9->tensorflow) (2.25.1)\n",
            "Requirement already satisfied: markdown>=2.6.8 in /usr/local/lib/python3.8/dist-packages (from tensorboard<2.10,>=2.9->tensorflow) (3.4.1)\n",
            "Requirement already satisfied: werkzeug>=1.0.1 in /usr/local/lib/python3.8/dist-packages (from tensorboard<2.10,>=2.9->tensorflow) (1.0.1)\n",
            "Requirement already satisfied: tensorboard-plugin-wit>=1.6.0 in /usr/local/lib/python3.8/dist-packages (from tensorboard<2.10,>=2.9->tensorflow) (1.8.1)\n",
            "Requirement already satisfied: pyparsing!=3.0.5,>=2.0.2 in /usr/local/lib/python3.8/dist-packages (from packaging->tensorflow) (3.0.9)\n",
            "Requirement already satisfied: cachetools<6.0,>=2.0.0 in /usr/local/lib/python3.8/dist-packages (from google-auth<3,>=1.6.3->tensorboard<2.10,>=2.9->tensorflow) (5.2.1)\n",
            "Requirement already satisfied: pyasn1-modules>=0.2.1 in /usr/local/lib/python3.8/dist-packages (from google-auth<3,>=1.6.3->tensorboard<2.10,>=2.9->tensorflow) (0.2.8)\n",
            "Requirement already satisfied: rsa<5,>=3.1.4 in /usr/local/lib/python3.8/dist-packages (from google-auth<3,>=1.6.3->tensorboard<2.10,>=2.9->tensorflow) (4.9)\n",
            "Requirement already satisfied: requests-oauthlib>=0.7.0 in /usr/local/lib/python3.8/dist-packages (from google-auth-oauthlib<0.5,>=0.4.1->tensorboard<2.10,>=2.9->tensorflow) (1.3.1)\n",
            "Requirement already satisfied: importlib-metadata>=4.4 in /usr/local/lib/python3.8/dist-packages (from markdown>=2.6.8->tensorboard<2.10,>=2.9->tensorflow) (6.0.0)\n",
            "Requirement already satisfied: idna<3,>=2.5 in /usr/local/lib/python3.8/dist-packages (from requests<3,>=2.21.0->tensorboard<2.10,>=2.9->tensorflow) (2.10)\n",
            "Requirement already satisfied: urllib3<1.27,>=1.21.1 in /usr/local/lib/python3.8/dist-packages (from requests<3,>=2.21.0->tensorboard<2.10,>=2.9->tensorflow) (1.24.3)\n",
            "Requirement already satisfied: certifi>=2017.4.17 in /usr/local/lib/python3.8/dist-packages (from requests<3,>=2.21.0->tensorboard<2.10,>=2.9->tensorflow) (2022.12.7)\n",
            "Requirement already satisfied: chardet<5,>=3.0.2 in /usr/local/lib/python3.8/dist-packages (from requests<3,>=2.21.0->tensorboard<2.10,>=2.9->tensorflow) (4.0.0)\n",
            "Requirement already satisfied: zipp>=0.5 in /usr/local/lib/python3.8/dist-packages (from importlib-metadata>=4.4->markdown>=2.6.8->tensorboard<2.10,>=2.9->tensorflow) (3.11.0)\n",
            "Requirement already satisfied: pyasn1<0.5.0,>=0.4.6 in /usr/local/lib/python3.8/dist-packages (from pyasn1-modules>=0.2.1->google-auth<3,>=1.6.3->tensorboard<2.10,>=2.9->tensorflow) (0.4.8)\n",
            "Requirement already satisfied: oauthlib>=3.0.0 in /usr/local/lib/python3.8/dist-packages (from requests-oauthlib>=0.7.0->google-auth-oauthlib<0.5,>=0.4.1->tensorboard<2.10,>=2.9->tensorflow) (3.2.2)\n",
            "ERROR: unknown command \"inatall\" - maybe you meant \"install\"\n",
            "(101, 7)\n",
            "<class 'pandas.core.frame.DataFrame'>\n",
            "RangeIndex: 101 entries, 0 to 100\n",
            "Data columns (total 7 columns):\n",
            " #   Column     Non-Null Count  Dtype  \n",
            "---  ------     --------------  -----  \n",
            " 0   Date       101 non-null    object \n",
            " 1   Open       101 non-null    float64\n",
            " 2   High       101 non-null    float64\n",
            " 3   Low        101 non-null    float64\n",
            " 4   Close      101 non-null    float64\n",
            " 5   Adj Close  101 non-null    float64\n",
            " 6   Volume     101 non-null    int64  \n",
            "dtypes: float64(5), int64(1), object(1)\n",
            "memory usage: 5.6+ KB\n",
            "<class 'pandas.core.frame.DataFrame'>\n",
            "RangeIndex: 21 entries, 80 to 100\n",
            "Data columns (total 6 columns):\n",
            " #   Column     Non-Null Count  Dtype  \n",
            "---  ------     --------------  -----  \n",
            " 0   Open       21 non-null     float64\n",
            " 1   High       21 non-null     float64\n",
            " 2   Low        21 non-null     float64\n",
            " 3   Close      21 non-null     float64\n",
            " 4   Adj Close  21 non-null     float64\n",
            " 5   Volume     21 non-null     int64  \n",
            "dtypes: float64(5), int64(1)\n",
            "memory usage: 1.1 KB\n",
            "(101, 6)\n"
          ]
        },
        {
          "output_type": "stream",
          "name": "stderr",
          "text": [
            "/usr/local/lib/python3.8/dist-packages/pandas/core/frame.py:4906: SettingWithCopyWarning: \n",
            "A value is trying to be set on a copy of a slice from a DataFrame\n",
            "\n",
            "See the caveats in the documentation: https://pandas.pydata.org/pandas-docs/stable/user_guide/indexing.html#returning-a-view-versus-a-copy\n",
            "  return super().drop(\n"
          ]
        },
        {
          "output_type": "stream",
          "name": "stdout",
          "text": [
            "2/2 [==============================] - 3s 42ms/step - loss: 0.3457\n"
          ]
        },
        {
          "output_type": "execute_result",
          "data": {
            "text/plain": [
              "<keras.callbacks.History at 0x7f3beabe32e0>"
            ]
          },
          "metadata": {},
          "execution_count": 38
        }
      ],
      "source": [
        "!pip install pmdarima\n",
        "import pmdarima as pm\n",
        "import numpy as np\n",
        "!pip install tensorflow\n",
        "import tensorflow as tf\n",
        "import random\n",
        "!pip inatall pandas \n",
        "import pandas as pd\n",
        "from keras.models import Sequential\n",
        "from keras.layers import Dense\n",
        "from keras.layers import LSTM\n",
        "from keras.layers import Dropout\n",
        "from sklearn.preprocessing import MinMaxScaler,StandardScaler\n",
        "from keras.layers import *\n",
        "from keras.callbacks import EarlyStopping \n",
        "\n",
        "from datetime import datetime\n",
        "xapp= pd.read_csv(\"/content/newntflixs.csv\")\n",
        "xapp.shape\n",
        "data = xapp.iloc[:int(0.8*len(xapp))]\n",
        "print(data.shape)\n",
        "data.info()\n",
        "data\n",
        "\n",
        "\n",
        "\n",
        "data.drop([\"Date\"],axis=1,inplace=True)\n",
        "\n",
        "Netflix= data.assign(**{'average': lambda df: df.loc[:,['Open','High','Low','Close']].mean(axis=1), \n",
        "                    'EMA20': lambda df: df['average'].ewm(span=20, adjust=False).mean(), \n",
        "                    'EMA5': lambda df: df['average'].ewm(span=5, adjust=False).mean(), \n",
        "                    'dist_EMA20': lambda df: (df['average'] - df['EMA20'])/df['EMA20']*100, \n",
        "                    'dist_EMA5': lambda df: (df['average'] - df['EMA5'])/df['EMA5']*100})\n",
        "Netflix.head()\n",
        "     \n",
        "\n",
        "\n",
        "testdata=  data.iloc[int(0.8*len(data)):]\n",
        "testdata.info()\n",
        "\n",
        "\n",
        "testdata.head()\n",
        "#testdf.drop([\"Date\"],axis=1,inplace=True)\n",
        "scalar = MinMaxScaler()\n",
        "Netflix_scaled = scalar.fit_transform(data)\n",
        "print(Netflix_scaled.shape)\n",
        "Netflix_scaled\n",
        "\n",
        "X_train = []\n",
        "y_train = []\n",
        "for i in range(60, Netflix.shape[0]):\n",
        "    X_train.append(Netflix_scaled[i-60: i])\n",
        "    y_train.append(Netflix_scaled[i, 0])\n",
        "\n",
        "X_train, y_train = np.array(X_train), np.array(y_train)\n",
        "X_train.shape, y_train.shape\n",
        "X_train, y_train = np.array(X_train), np.array(y_train)\n",
        "X_train.shape, y_train.shape\n",
        "\n",
        "model = Sequential()\n",
        "model.add(LSTM(50, return_sequences=True,  activation = 'relu',input_shape=(X_train.shape[1], 6)))\n",
        "model.add(LSTM(50))\n",
        "model.add(Dense(1))\n",
        "model.add(Dropout(0.2))\n",
        "\n",
        "model.compile(optimizer='adam', loss='mean_squared_error')\n",
        "\n",
        "# fit the model to the training data\n",
        "model.fit(X_train, y_train,batch_size=32)\n",
        "\n",
        "\n",
        "\n",
        "\n",
        "     "
      ]
    },
    {
      "cell_type": "code",
      "source": [
        "past_60 = data.tail(60)\n",
        "\n",
        "dt = past_60.append(testdata, ignore_index = True)\n"
      ],
      "metadata": {
        "id": "zVOLZoSjpGAu"
      },
      "execution_count": 43,
      "outputs": []
    },
    {
      "cell_type": "code",
      "source": [
        "inputs = scalar.fit_transform(dt)\n",
        "print(inputs.shape)\n",
        "inputs"
      ],
      "metadata": {
        "colab": {
          "base_uri": "https://localhost:8080/"
        },
        "id": "FGNN6TdqwwWM",
        "outputId": "e0fec6bd-0ecd-4ab1-d66d-9c9ea8edd1ff"
      },
      "execution_count": 44,
      "outputs": [
        {
          "output_type": "stream",
          "name": "stdout",
          "text": [
            "(81, 6)\n"
          ]
        },
        {
          "output_type": "execute_result",
          "data": {
            "text/plain": [
              "array([[0.14365041, 0.0687331 , 0.07629527, 0.06631216, 0.06631216,\n",
              "        0.        ],\n",
              "       [0.14714651, 0.11466765, 0.12733999, 0.09665315, 0.09665315,\n",
              "        0.07022853],\n",
              "       [0.08257068, 0.07524705, 0.08424038, 0.16421642, 0.16421642,\n",
              "        0.03791681],\n",
              "       [0.18858609, 0.11466765, 0.14486285, 0.1232406 , 0.1232406 ,\n",
              "        0.05921372],\n",
              "       [0.13264775, 0.03571438, 0.032216  , 0.04274846, 0.04274846,\n",
              "        0.04221771],\n",
              "       [0.07732653, 0.06356699, 0.0711799 , 0.15295601, 0.15295601,\n",
              "        0.05883272],\n",
              "       [0.11794347, 0.05694078, 0.10415769, 0.13710777, 0.13710777,\n",
              "        0.0243498 ],\n",
              "       [0.17408733, 0.1247754 , 0.1947105 , 0.2010219 , 0.2010219 ,\n",
              "        0.02342661],\n",
              "       [0.21511567, 0.17767305, 0.23552461, 0.23188407, 0.23188407,\n",
              "        0.00749788],\n",
              "       [0.14200512, 0.0451483 , 0.06519379, 0.04003765, 0.04003765,\n",
              "        0.0551888 ],\n",
              "       [0.07331625, 0.04862986, 0.04429699, 0.10249192, 0.10249192,\n",
              "        0.06081099],\n",
              "       [0.18282775, 0.20911946, 0.18905107, 0.21989373, 0.21989373,\n",
              "        0.3349306 ],\n",
              "       [0.19053984, 0.1986748 , 0.17522865, 0.26941932, 0.26941932,\n",
              "        0.32174459],\n",
              "       [0.33275065, 0.24236302, 0.26142802, 0.30591186, 0.30591186,\n",
              "        0.29727756],\n",
              "       [0.28462718, 0.30121304, 0.30398358, 0.29777924, 0.29777924,\n",
              "        0.25148431],\n",
              "       [0.30827759, 0.27661733, 0.27154985, 0.23542902, 0.23542902,\n",
              "        0.08368319],\n",
              "       [0.23300775, 0.18901621, 0.21691348, 0.23730586, 0.23730586,\n",
              "        0.10447211],\n",
              "       [0.2308483 , 0.143531  , 0.10557247, 0.12636856, 0.12636856,\n",
              "        0.13351602],\n",
              "       [0.13275068, 0.10141509, 0.12276883, 0.10197072, 0.10197072,\n",
              "        0.06090868],\n",
              "       [0.16390749, 0.07827944, 0.09784508, 0.10499433, 0.10499433,\n",
              "        0.04937856],\n",
              "       [0.1748072 , 0.25808623, 0.17033098, 0.32228128, 0.32228128,\n",
              "        0.28915201],\n",
              "       [0.29737788, 0.26179245, 0.26066608, 0.26504024, 0.26504024,\n",
              "        0.32371553],\n",
              "       [0.24997427, 0.21080419, 0.2343274 , 0.22051929, 0.22051929,\n",
              "        0.14918097],\n",
              "       [0.25871469, 0.20069628, 0.22986518, 0.25805437, 0.25805437,\n",
              "        0.07124208],\n",
              "       [0.3305912 , 0.24854006, 0.23421862, 0.27577945, 0.27577945,\n",
              "        0.19991501],\n",
              "       [0.26807191, 0.20125785, 0.17033098, 0.23396933, 0.23396933,\n",
              "        0.12419618],\n",
              "       [0.24668371, 0.23146903, 0.24140194, 0.2682724 , 0.2682724 ,\n",
              "        0.08422294],\n",
              "       [0.2373265 , 0.15341425, 0.13659125, 0.10906063, 0.10906063,\n",
              "        0.09929686],\n",
              "       [0.13316192, 0.11410607, 0.13604703, 0.16359087, 0.16359087,\n",
              "        0.10381513],\n",
              "       [0.1373779 , 0.07603329, 0.02144102, 0.        , 0.        ,\n",
              "        0.2330449 ],\n",
              "       [0.01655528, 0.        , 0.00990426, 0.06860599, 0.06860599,\n",
              "        0.17614404],\n",
              "       [0.        , 0.12129384, 0.        , 0.18996975, 0.18996975,\n",
              "        0.2873276 ],\n",
              "       [0.25820052, 0.1699237 , 0.19351329, 0.16379944, 0.16379944,\n",
              "        0.23331355],\n",
              "       [0.22334192, 0.29481134, 0.24673488, 0.32123873, 0.32123873,\n",
              "        0.37409787],\n",
              "       [0.38159384, 0.29986522, 0.28297783, 0.27703058, 0.27703058,\n",
              "        0.48934788],\n",
              "       [0.53789201, 0.62477532, 0.55431012, 0.60567199, 0.60567199,\n",
              "        1.        ],\n",
              "       [0.617892  , 0.61444307, 0.59479773, 0.5616724 , 0.5616724 ,\n",
              "        0.28005197],\n",
              "       [0.5785091 , 0.75336935, 0.58717897, 0.7849025 , 0.7849025 ,\n",
              "        0.46766997],\n",
              "       [0.79732657, 0.75044921, 0.74695252, 0.71066631, 0.71066631,\n",
              "        0.18527338],\n",
              "       [0.76359907, 0.83018872, 0.80343928, 0.80002065, 0.80002065,\n",
              "        0.22860723],\n",
              "       [0.79537282, 0.92048533, 0.83054008, 0.87926165, 0.87926165,\n",
              "        0.24358833],\n",
              "       [0.88061681, 0.91576819, 0.90389653, 0.86174531, 0.86174531,\n",
              "        0.21668633],\n",
              "       [0.87413892, 0.87062006, 0.87679607, 0.84902504, 0.84902504,\n",
              "        0.10306778],\n",
              "       [0.84771211, 0.83052564, 0.84643027, 0.80898756, 0.80898756,\n",
              "        0.04309938],\n",
              "       [0.85840628, 0.85388612, 0.81290842, 0.75549987, 0.75549987,\n",
              "        0.02872153],\n",
              "       [0.75794336, 0.7149595 , 0.66510674, 0.61213633, 0.61213633,\n",
              "        0.11301041],\n",
              "       [0.60215936, 0.59097052, 0.62113625, 0.57105614, 0.57105614,\n",
              "        0.03216518],\n",
              "       [0.61007699, 0.57614563, 0.47442334, 0.4848296 , 0.4848296 ,\n",
              "        0.13150111],\n",
              "       [0.49737785, 0.4209344 , 0.43926866, 0.46199566, 0.46199566,\n",
              "        0.05340348],\n",
              "       [0.48565564, 0.4763027 , 0.49140199, 0.512668  , 0.512668  ,\n",
              "        0.04746379],\n",
              "       [0.48298203, 0.41812667, 0.46245113, 0.42091547, 0.42091547,\n",
              "        0.03725983],\n",
              "       [0.54807186, 0.58052551, 0.52633877, 0.63267643, 0.63267643,\n",
              "        0.09590694],\n",
              "       [0.63526991, 0.75235862, 0.65117555, 0.79074129, 0.79074129,\n",
              "        0.09362338],\n",
              "       [0.79496142, 0.98079525, 0.83217256, 0.88603878, 0.88603878,\n",
              "        0.2988846 ],\n",
              "       [0.99239085, 1.        , 0.98846324, 1.        , 1.        ,\n",
              "        0.21703558],\n",
              "       [1.        , 0.97506737, 1.        , 0.95641724, 0.95641724,\n",
              "        0.05612909],\n",
              "       [0.84349613, 0.85523377, 0.86275592, 0.84443739, 0.84443739,\n",
              "        0.10008084],\n",
              "       [0.87033404, 0.83479344, 0.81922086, 0.76832451, 0.76832451,\n",
              "        0.06495803],\n",
              "       [0.8052442 , 0.76594792, 0.77198538, 0.7377748 , 0.7377748 ,\n",
              "        0.03702781],\n",
              "       [0.74344461, 0.71102895, 0.71408367, 0.75487431, 0.75487431,\n",
              "        0.01232632],\n",
              "       [0.76359907, 0.83018872, 0.80343928, 0.80002065, 0.80002065,\n",
              "        0.22860723],\n",
              "       [0.79537282, 0.92048533, 0.83054008, 0.87926165, 0.87926165,\n",
              "        0.24358833],\n",
              "       [0.88061681, 0.91576819, 0.90389653, 0.86174531, 0.86174531,\n",
              "        0.21668633],\n",
              "       [0.87413892, 0.87062006, 0.87679607, 0.84902504, 0.84902504,\n",
              "        0.10306778],\n",
              "       [0.84771211, 0.83052564, 0.84643027, 0.80898756, 0.80898756,\n",
              "        0.04309938],\n",
              "       [0.85840628, 0.85388612, 0.81290842, 0.75549987, 0.75549987,\n",
              "        0.02872153],\n",
              "       [0.75794336, 0.7149595 , 0.66510674, 0.61213633, 0.61213633,\n",
              "        0.11301041],\n",
              "       [0.60215936, 0.59097052, 0.62113625, 0.57105614, 0.57105614,\n",
              "        0.03216518],\n",
              "       [0.61007699, 0.57614563, 0.47442334, 0.4848296 , 0.4848296 ,\n",
              "        0.13150111],\n",
              "       [0.49737785, 0.4209344 , 0.43926866, 0.46199566, 0.46199566,\n",
              "        0.05340348],\n",
              "       [0.48565564, 0.4763027 , 0.49140199, 0.512668  , 0.512668  ,\n",
              "        0.04746379],\n",
              "       [0.48298203, 0.41812667, 0.46245113, 0.42091547, 0.42091547,\n",
              "        0.03725983],\n",
              "       [0.54807186, 0.58052551, 0.52633877, 0.63267643, 0.63267643,\n",
              "        0.09590694],\n",
              "       [0.63526991, 0.75235862, 0.65117555, 0.79074129, 0.79074129,\n",
              "        0.09362338],\n",
              "       [0.79496142, 0.98079525, 0.83217256, 0.88603878, 0.88603878,\n",
              "        0.2988846 ],\n",
              "       [0.99239085, 1.        , 0.98846324, 1.        , 1.        ,\n",
              "        0.21703558],\n",
              "       [1.        , 0.97506737, 1.        , 0.95641724, 0.95641724,\n",
              "        0.05612909],\n",
              "       [0.84349613, 0.85523377, 0.86275592, 0.84443739, 0.84443739,\n",
              "        0.10008084],\n",
              "       [0.87033404, 0.83479344, 0.81922086, 0.76832451, 0.76832451,\n",
              "        0.06495803],\n",
              "       [0.8052442 , 0.76594792, 0.77198538, 0.7377748 , 0.7377748 ,\n",
              "        0.03702781],\n",
              "       [0.74344461, 0.71102895, 0.71408367, 0.75487431, 0.75487431,\n",
              "        0.01232632]])"
            ]
          },
          "metadata": {},
          "execution_count": 44
        }
      ]
    },
    {
      "cell_type": "code",
      "source": [
        "\n",
        "X_test = []\n",
        "y_test = []\n",
        "\n",
        "for i in range(60, inputs.shape[0]):\n",
        "    X_test.append(inputs[i-60:i])\n",
        "    y_test.append(inputs[i, 0])\n",
        "    \n",
        "X_test, y_test = np.array(X_test), np.array(y_test).reshape(-1,1)\n",
        "X_test.shape, y_test.shape"
      ],
      "metadata": {
        "colab": {
          "base_uri": "https://localhost:8080/"
        },
        "id": "fnuWl5nCxfWm",
        "outputId": "ef5f3c2e-75a2-4f84-9314-fdb8e035f935"
      },
      "execution_count": 45,
      "outputs": [
        {
          "output_type": "execute_result",
          "data": {
            "text/plain": [
              "((21, 60, 6), (21, 1))"
            ]
          },
          "metadata": {},
          "execution_count": 45
        }
      ]
    },
    {
      "cell_type": "code",
      "source": [
        "dt"
      ],
      "metadata": {
        "colab": {
          "base_uri": "https://localhost:8080/",
          "height": 423
        },
        "id": "sgs1MuXTx3wx",
        "outputId": "4db0397e-1dc4-42f6-f0d4-186089526d6e"
      },
      "execution_count": 46,
      "outputs": [
        {
          "output_type": "execute_result",
          "data": {
            "text/plain": [
              "          Open        High         Low       Close   Adj Close   Volume\n",
              "0   226.660004  229.789993  218.740005  220.649994  220.649994  5740400\n",
              "1   227.000000  233.880005  223.429993  223.559998  223.559998  8615900\n",
              "2   220.720001  230.369995  219.470001  230.039993  230.039993  7292900\n",
              "3   231.029999  233.880005  225.039993  226.110001  226.110001  8164900\n",
              "4   225.589996  226.850006  214.690002  218.389999  218.389999  7469000\n",
              "..         ...         ...         ...         ...         ...      ...\n",
              "76  309.940002  310.489990  303.609985  306.019989  306.019989  8038600\n",
              "77  294.720001  299.820007  291.000000  295.279999  295.279999  9838200\n",
              "78  297.329987  298.000000  287.000000  287.980011  287.980011  8400100\n",
              "79  291.000000  291.869995  282.660004  285.049988  285.049988  7256500\n",
              "80  284.989990  286.980011  277.339996  286.690002  286.690002  6245100\n",
              "\n",
              "[81 rows x 6 columns]"
            ],
            "text/html": [
              "\n",
              "  <div id=\"df-05f7090a-08b5-442f-95f3-b1d052605670\">\n",
              "    <div class=\"colab-df-container\">\n",
              "      <div>\n",
              "<style scoped>\n",
              "    .dataframe tbody tr th:only-of-type {\n",
              "        vertical-align: middle;\n",
              "    }\n",
              "\n",
              "    .dataframe tbody tr th {\n",
              "        vertical-align: top;\n",
              "    }\n",
              "\n",
              "    .dataframe thead th {\n",
              "        text-align: right;\n",
              "    }\n",
              "</style>\n",
              "<table border=\"1\" class=\"dataframe\">\n",
              "  <thead>\n",
              "    <tr style=\"text-align: right;\">\n",
              "      <th></th>\n",
              "      <th>Open</th>\n",
              "      <th>High</th>\n",
              "      <th>Low</th>\n",
              "      <th>Close</th>\n",
              "      <th>Adj Close</th>\n",
              "      <th>Volume</th>\n",
              "    </tr>\n",
              "  </thead>\n",
              "  <tbody>\n",
              "    <tr>\n",
              "      <th>0</th>\n",
              "      <td>226.660004</td>\n",
              "      <td>229.789993</td>\n",
              "      <td>218.740005</td>\n",
              "      <td>220.649994</td>\n",
              "      <td>220.649994</td>\n",
              "      <td>5740400</td>\n",
              "    </tr>\n",
              "    <tr>\n",
              "      <th>1</th>\n",
              "      <td>227.000000</td>\n",
              "      <td>233.880005</td>\n",
              "      <td>223.429993</td>\n",
              "      <td>223.559998</td>\n",
              "      <td>223.559998</td>\n",
              "      <td>8615900</td>\n",
              "    </tr>\n",
              "    <tr>\n",
              "      <th>2</th>\n",
              "      <td>220.720001</td>\n",
              "      <td>230.369995</td>\n",
              "      <td>219.470001</td>\n",
              "      <td>230.039993</td>\n",
              "      <td>230.039993</td>\n",
              "      <td>7292900</td>\n",
              "    </tr>\n",
              "    <tr>\n",
              "      <th>3</th>\n",
              "      <td>231.029999</td>\n",
              "      <td>233.880005</td>\n",
              "      <td>225.039993</td>\n",
              "      <td>226.110001</td>\n",
              "      <td>226.110001</td>\n",
              "      <td>8164900</td>\n",
              "    </tr>\n",
              "    <tr>\n",
              "      <th>4</th>\n",
              "      <td>225.589996</td>\n",
              "      <td>226.850006</td>\n",
              "      <td>214.690002</td>\n",
              "      <td>218.389999</td>\n",
              "      <td>218.389999</td>\n",
              "      <td>7469000</td>\n",
              "    </tr>\n",
              "    <tr>\n",
              "      <th>...</th>\n",
              "      <td>...</td>\n",
              "      <td>...</td>\n",
              "      <td>...</td>\n",
              "      <td>...</td>\n",
              "      <td>...</td>\n",
              "      <td>...</td>\n",
              "    </tr>\n",
              "    <tr>\n",
              "      <th>76</th>\n",
              "      <td>309.940002</td>\n",
              "      <td>310.489990</td>\n",
              "      <td>303.609985</td>\n",
              "      <td>306.019989</td>\n",
              "      <td>306.019989</td>\n",
              "      <td>8038600</td>\n",
              "    </tr>\n",
              "    <tr>\n",
              "      <th>77</th>\n",
              "      <td>294.720001</td>\n",
              "      <td>299.820007</td>\n",
              "      <td>291.000000</td>\n",
              "      <td>295.279999</td>\n",
              "      <td>295.279999</td>\n",
              "      <td>9838200</td>\n",
              "    </tr>\n",
              "    <tr>\n",
              "      <th>78</th>\n",
              "      <td>297.329987</td>\n",
              "      <td>298.000000</td>\n",
              "      <td>287.000000</td>\n",
              "      <td>287.980011</td>\n",
              "      <td>287.980011</td>\n",
              "      <td>8400100</td>\n",
              "    </tr>\n",
              "    <tr>\n",
              "      <th>79</th>\n",
              "      <td>291.000000</td>\n",
              "      <td>291.869995</td>\n",
              "      <td>282.660004</td>\n",
              "      <td>285.049988</td>\n",
              "      <td>285.049988</td>\n",
              "      <td>7256500</td>\n",
              "    </tr>\n",
              "    <tr>\n",
              "      <th>80</th>\n",
              "      <td>284.989990</td>\n",
              "      <td>286.980011</td>\n",
              "      <td>277.339996</td>\n",
              "      <td>286.690002</td>\n",
              "      <td>286.690002</td>\n",
              "      <td>6245100</td>\n",
              "    </tr>\n",
              "  </tbody>\n",
              "</table>\n",
              "<p>81 rows × 6 columns</p>\n",
              "</div>\n",
              "      <button class=\"colab-df-convert\" onclick=\"convertToInteractive('df-05f7090a-08b5-442f-95f3-b1d052605670')\"\n",
              "              title=\"Convert this dataframe to an interactive table.\"\n",
              "              style=\"display:none;\">\n",
              "        \n",
              "  <svg xmlns=\"http://www.w3.org/2000/svg\" height=\"24px\"viewBox=\"0 0 24 24\"\n",
              "       width=\"24px\">\n",
              "    <path d=\"M0 0h24v24H0V0z\" fill=\"none\"/>\n",
              "    <path d=\"M18.56 5.44l.94 2.06.94-2.06 2.06-.94-2.06-.94-.94-2.06-.94 2.06-2.06.94zm-11 1L8.5 8.5l.94-2.06 2.06-.94-2.06-.94L8.5 2.5l-.94 2.06-2.06.94zm10 10l.94 2.06.94-2.06 2.06-.94-2.06-.94-.94-2.06-.94 2.06-2.06.94z\"/><path d=\"M17.41 7.96l-1.37-1.37c-.4-.4-.92-.59-1.43-.59-.52 0-1.04.2-1.43.59L10.3 9.45l-7.72 7.72c-.78.78-.78 2.05 0 2.83L4 21.41c.39.39.9.59 1.41.59.51 0 1.02-.2 1.41-.59l7.78-7.78 2.81-2.81c.8-.78.8-2.07 0-2.86zM5.41 20L4 18.59l7.72-7.72 1.47 1.35L5.41 20z\"/>\n",
              "  </svg>\n",
              "      </button>\n",
              "      \n",
              "  <style>\n",
              "    .colab-df-container {\n",
              "      display:flex;\n",
              "      flex-wrap:wrap;\n",
              "      gap: 12px;\n",
              "    }\n",
              "\n",
              "    .colab-df-convert {\n",
              "      background-color: #E8F0FE;\n",
              "      border: none;\n",
              "      border-radius: 50%;\n",
              "      cursor: pointer;\n",
              "      display: none;\n",
              "      fill: #1967D2;\n",
              "      height: 32px;\n",
              "      padding: 0 0 0 0;\n",
              "      width: 32px;\n",
              "    }\n",
              "\n",
              "    .colab-df-convert:hover {\n",
              "      background-color: #E2EBFA;\n",
              "      box-shadow: 0px 1px 2px rgba(60, 64, 67, 0.3), 0px 1px 3px 1px rgba(60, 64, 67, 0.15);\n",
              "      fill: #174EA6;\n",
              "    }\n",
              "\n",
              "    [theme=dark] .colab-df-convert {\n",
              "      background-color: #3B4455;\n",
              "      fill: #D2E3FC;\n",
              "    }\n",
              "\n",
              "    [theme=dark] .colab-df-convert:hover {\n",
              "      background-color: #434B5C;\n",
              "      box-shadow: 0px 1px 3px 1px rgba(0, 0, 0, 0.15);\n",
              "      filter: drop-shadow(0px 1px 2px rgba(0, 0, 0, 0.3));\n",
              "      fill: #FFFFFF;\n",
              "    }\n",
              "  </style>\n",
              "\n",
              "      <script>\n",
              "        const buttonEl =\n",
              "          document.querySelector('#df-05f7090a-08b5-442f-95f3-b1d052605670 button.colab-df-convert');\n",
              "        buttonEl.style.display =\n",
              "          google.colab.kernel.accessAllowed ? 'block' : 'none';\n",
              "\n",
              "        async function convertToInteractive(key) {\n",
              "          const element = document.querySelector('#df-05f7090a-08b5-442f-95f3-b1d052605670');\n",
              "          const dataTable =\n",
              "            await google.colab.kernel.invokeFunction('convertToInteractive',\n",
              "                                                     [key], {});\n",
              "          if (!dataTable) return;\n",
              "\n",
              "          const docLinkHtml = 'Like what you see? Visit the ' +\n",
              "            '<a target=\"_blank\" href=https://colab.research.google.com/notebooks/data_table.ipynb>data table notebook</a>'\n",
              "            + ' to learn more about interactive tables.';\n",
              "          element.innerHTML = '';\n",
              "          dataTable['output_type'] = 'display_data';\n",
              "          await google.colab.output.renderOutput(dataTable, element);\n",
              "          const docLink = document.createElement('div');\n",
              "          docLink.innerHTML = docLinkHtml;\n",
              "          element.appendChild(docLink);\n",
              "        }\n",
              "      </script>\n",
              "    </div>\n",
              "  </div>\n",
              "  "
            ]
          },
          "metadata": {},
          "execution_count": 46
        }
      ]
    },
    {
      "cell_type": "code",
      "source": [
        "y_pred = model.predict(X_test)"
      ],
      "metadata": {
        "colab": {
          "base_uri": "https://localhost:8080/"
        },
        "id": "q0Z_m9lYxoj2",
        "outputId": "ca0f9008-8c0b-4af5-d861-86b0966fe775"
      },
      "execution_count": 47,
      "outputs": [
        {
          "output_type": "stream",
          "name": "stdout",
          "text": [
            "1/1 [==============================] - 1s 510ms/step\n"
          ]
        }
      ]
    },
    {
      "cell_type": "code",
      "source": [
        "node = pd.isnull(y_pred).any(1).nonzero()[0]"
      ],
      "metadata": {
        "id": "16qzN4gYyh-q"
      },
      "execution_count": 48,
      "outputs": []
    },
    {
      "cell_type": "code",
      "source": [
        "y_pred = np.delete(y_pred,node)\n",
        "y_test = np.delete(y_test,node)"
      ],
      "metadata": {
        "id": "uqom-lGlyl4f"
      },
      "execution_count": 49,
      "outputs": []
    },
    {
      "cell_type": "code",
      "source": [
        "ans = pd.DataFrame()\n",
        "ans['y_pred'] = y_pred\n",
        "ans['y_test'] = y_test    \n",
        "     \n",
        "ans = ans.dropna()\n",
        "scale = 1/scalar.scale_[0]"
      ],
      "metadata": {
        "id": "U7xBVTqlypuO"
      },
      "execution_count": 50,
      "outputs": []
    },
    {
      "cell_type": "code",
      "source": [
        "y_pred = y_pred*scale\n",
        "y_test = y_test*scale"
      ],
      "metadata": {
        "id": "ua8CSP7oyubq"
      },
      "execution_count": 51,
      "outputs": []
    },
    {
      "cell_type": "code",
      "source": [
        " #Visualising the results\n",
        "import matplotlib.pyplot as plt\n",
        "plt.figure(figsize=(10,6))\n",
        "plt.plot(y_test, color = 'red', label = 'Netflix Prices of Netflix')\n",
        "plt.plot(y_pred, color = 'blue', label = 'Predicted Netflix Price')\n",
        "plt.title('Netflix Price Prediction')\n",
        "plt.xlabel('Time')\n",
        "plt.ylabel('Price')\n",
        "plt.legend()\n",
        "plt.show()"
      ],
      "metadata": {
        "colab": {
          "base_uri": "https://localhost:8080/",
          "height": 404
        },
        "id": "cHMnwSm6yydy",
        "outputId": "94e7f677-4fff-4c22-ad7e-7eabfcd1205b"
      },
      "execution_count": 56,
      "outputs": [
        {
          "output_type": "display_data",
          "data": {
            "text/plain": [
              "<Figure size 720x432 with 1 Axes>"
            ],
            "image/png": "[encoded data removed]"
          },
          "metadata": {
            "needs_background": "light"
          }
        }
      ]
    },
    {
      "cell_type": "code",
      "source": [
        "from sklearn.metrics import mean_squared_error\n",
        "print(mean_squared_error(ans.y_test, ans.y_pred, squared = False))      #MSE"
      ],
      "metadata": {
        "colab": {
          "base_uri": "https://localhost:8080/"
        },
        "id": "RzNP5njrzuUf",
        "outputId": "1073ce82-1f1f-4844-b162-54bbd0087f9b"
      },
      "execution_count": 61,
      "outputs": [
        {
          "output_type": "stream",
          "name": "stdout",
          "text": [
            "0.43377852899977093\n"
          ]
        }
      ]
    },
    {
      "cell_type": "code",
      "source": [
        "print(mean_squared_error(ans.y_test, ans.y_pred, squared = True))         #RMSE\n"
      ],
      "metadata": {
        "colab": {
          "base_uri": "https://localhost:8080/"
        },
        "id": "mzwfx10S0AxB",
        "outputId": "2871c05f-bb40-48ce-8fe6-b060d9aa3bc8"
      },
      "execution_count": 62,
      "outputs": [
        {
          "output_type": "stream",
          "name": "stdout",
          "text": [
            "0.1881638122212051\n"
          ]
        }
      ]
    },
    {
      "cell_type": "code",
      "source": [
        "from sklearn.metrics import mean_absolute_error\n",
        "mae= np.mean(np.abs(ans.y_pred - y_test))\n",
        "from keras.metrics.metrics import mean_absolute_percentage_error\n",
        "mape = (np.mean(np.abs(ans.y_pred - y_test) /y_test))\n",
        "\n",
        "print(\"MAE:\", mae)\n",
        "print(\"MAPE:\", mape)"
      ],
      "metadata": {
        "colab": {
          "base_uri": "https://localhost:8080/"
        },
        "id": "yjS6bG3mzfnE",
        "outputId": "1990f636-83a2-4596-f354-8ad1a5876e7e"
      },
      "execution_count": 63,
      "outputs": [
        {
          "output_type": "stream",
          "name": "stdout",
          "text": [
            "MAE: 72.31087038376225\n",
            "MAPE: 0.9949872545191957\n"
          ]
        }
      ]
    }
  ]
}