{
  "nbformat": 4,
  "nbformat_minor": 0,
  "metadata": {
    "colab": {
      "provenance": [],
      "authorship_tag": "ABX9TyN5WF+ZcNJyqgnQSj3RJcDG",
      "include_colab_link": true
    },
    "kernelspec": {
      "name": "python3",
      "display_name": "Python 3"
    },
    "language_info": {
      "name": "python"
    }
  },
  "cells": [
    {
      "cell_type": "markdown",
      "metadata": {
        "id": "view-in-github",
        "colab_type": "text"
      },
      "source": [
        "<a href=\"https://colab.research.google.com/github/abosedealli/Stockprediction/blob/main/AR%20sixtydays.ipynb\" target=\"_parent\"><img src=\"https://colab.research.google.com/assets/colab-badge.svg\" alt=\"Open In Colab\"/></a>"
      ]
    },
    {
      "cell_type": "code",
      "execution_count": 13,
      "metadata": {
        "colab": {
          "base_uri": "https://localhost:8080/",
          "height": 1000
        },
        "id": "thf_G_cbMxeY",
        "outputId": "9130b027-16d4-43b8-c45e-9a1357261e3a"
      },
      "outputs": [
        {
          "output_type": "stream",
          "name": "stdout",
          "text": [
            "Looking in indexes: https://pypi.org/simple, https://us-python.pkg.dev/colab-wheels/public/simple/\n",
            "Requirement already satisfied: pmdarima in /usr/local/lib/python3.8/dist-packages (2.0.2)\n",
            "Requirement already satisfied: Cython!=0.29.18,!=0.29.31,>=0.29 in /usr/local/lib/python3.8/dist-packages (from pmdarima) (0.29.33)\n",
            "Requirement already satisfied: setuptools!=50.0.0,>=38.6.0 in /usr/local/lib/python3.8/dist-packages (from pmdarima) (57.4.0)\n",
            "Requirement already satisfied: statsmodels>=0.13.2 in /usr/local/lib/python3.8/dist-packages (from pmdarima) (0.13.5)\n",
            "Requirement already satisfied: numpy>=1.21.2 in /usr/local/lib/python3.8/dist-packages (from pmdarima) (1.21.6)\n",
            "Requirement already satisfied: urllib3 in /usr/local/lib/python3.8/dist-packages (from pmdarima) (1.24.3)\n",
            "Requirement already satisfied: scipy>=1.3.2 in /usr/local/lib/python3.8/dist-packages (from pmdarima) (1.7.3)\n",
            "Requirement already satisfied: scikit-learn>=0.22 in /usr/local/lib/python3.8/dist-packages (from pmdarima) (1.0.2)\n",
            "Requirement already satisfied: pandas>=0.19 in /usr/local/lib/python3.8/dist-packages (from pmdarima) (1.3.5)\n",
            "Requirement already satisfied: joblib>=0.11 in /usr/local/lib/python3.8/dist-packages (from pmdarima) (1.2.0)\n",
            "Requirement already satisfied: python-dateutil>=2.7.3 in /usr/local/lib/python3.8/dist-packages (from pandas>=0.19->pmdarima) (2.8.2)\n",
            "Requirement already satisfied: pytz>=2017.3 in /usr/local/lib/python3.8/dist-packages (from pandas>=0.19->pmdarima) (2022.7)\n",
            "Requirement already satisfied: threadpoolctl>=2.0.0 in /usr/local/lib/python3.8/dist-packages (from scikit-learn>=0.22->pmdarima) (3.1.0)\n",
            "Requirement already satisfied: packaging>=21.3 in /usr/local/lib/python3.8/dist-packages (from statsmodels>=0.13.2->pmdarima) (21.3)\n",
            "Requirement already satisfied: patsy>=0.5.2 in /usr/local/lib/python3.8/dist-packages (from statsmodels>=0.13.2->pmdarima) (0.5.3)\n",
            "Requirement already satisfied: pyparsing!=3.0.5,>=2.0.2 in /usr/local/lib/python3.8/dist-packages (from packaging>=21.3->statsmodels>=0.13.2->pmdarima) (3.0.9)\n",
            "Requirement already satisfied: six in /usr/local/lib/python3.8/dist-packages (from patsy>=0.5.2->statsmodels>=0.13.2->pmdarima) (1.15.0)\n",
            "Looking in indexes: https://pypi.org/simple, https://us-python.pkg.dev/colab-wheels/public/simple/\n",
            "Requirement already satisfied: pandas in /usr/local/lib/python3.8/dist-packages (1.3.5)\n",
            "Requirement already satisfied: python-dateutil>=2.7.3 in /usr/local/lib/python3.8/dist-packages (from pandas) (2.8.2)\n",
            "Requirement already satisfied: pytz>=2017.3 in /usr/local/lib/python3.8/dist-packages (from pandas) (2022.7)\n",
            "Requirement already satisfied: numpy>=1.17.3 in /usr/local/lib/python3.8/dist-packages (from pandas) (1.21.6)\n",
            "Requirement already satisfied: six>=1.5 in /usr/local/lib/python3.8/dist-packages (from python-dateutil>=2.7.3->pandas) (1.15.0)\n",
            "Looking in indexes: https://pypi.org/simple, https://us-python.pkg.dev/colab-wheels/public/simple/\n",
            "Requirement already satisfied: yfinance in /usr/local/lib/python3.8/dist-packages (0.2.9)\n",
            "Requirement already satisfied: pandas>=1.3.0 in /usr/local/lib/python3.8/dist-packages (from yfinance) (1.3.5)\n",
            "Requirement already satisfied: pytz>=2022.5 in /usr/local/lib/python3.8/dist-packages (from yfinance) (2022.7)\n",
            "Requirement already satisfied: cryptography>=3.3.2 in /usr/local/lib/python3.8/dist-packages (from yfinance) (39.0.0)\n",
            "Requirement already satisfied: beautifulsoup4>=4.11.1 in /usr/local/lib/python3.8/dist-packages (from yfinance) (4.11.1)\n",
            "Requirement already satisfied: html5lib>=1.1 in /usr/local/lib/python3.8/dist-packages (from yfinance) (1.1)\n",
            "Requirement already satisfied: numpy>=1.16.5 in /usr/local/lib/python3.8/dist-packages (from yfinance) (1.21.6)\n",
            "Requirement already satisfied: frozendict>=2.3.4 in /usr/local/lib/python3.8/dist-packages (from yfinance) (2.3.4)\n",
            "Requirement already satisfied: multitasking>=0.0.7 in /usr/local/lib/python3.8/dist-packages (from yfinance) (0.0.11)\n",
            "Requirement already satisfied: appdirs>=1.4.4 in /usr/local/lib/python3.8/dist-packages (from yfinance) (1.4.4)\n",
            "Requirement already satisfied: requests>=2.26 in /usr/local/lib/python3.8/dist-packages (from yfinance) (2.28.2)\n",
            "Requirement already satisfied: lxml>=4.9.1 in /usr/local/lib/python3.8/dist-packages (from yfinance) (4.9.2)\n",
            "Requirement already satisfied: soupsieve>1.2 in /usr/local/lib/python3.8/dist-packages (from beautifulsoup4>=4.11.1->yfinance) (2.3.2.post1)\n",
            "Requirement already satisfied: cffi>=1.12 in /usr/local/lib/python3.8/dist-packages (from cryptography>=3.3.2->yfinance) (1.15.1)\n",
            "Requirement already satisfied: six>=1.9 in /usr/local/lib/python3.8/dist-packages (from html5lib>=1.1->yfinance) (1.15.0)\n",
            "Requirement already satisfied: webencodings in /usr/local/lib/python3.8/dist-packages (from html5lib>=1.1->yfinance) (0.5.1)\n",
            "Requirement already satisfied: python-dateutil>=2.7.3 in /usr/local/lib/python3.8/dist-packages (from pandas>=1.3.0->yfinance) (2.8.2)\n",
            "Requirement already satisfied: certifi>=2017.4.17 in /usr/local/lib/python3.8/dist-packages (from requests>=2.26->yfinance) (2022.12.7)\n",
            "Requirement already satisfied: charset-normalizer<4,>=2 in /usr/local/lib/python3.8/dist-packages (from requests>=2.26->yfinance) (2.1.1)\n",
            "Requirement already satisfied: idna<4,>=2.5 in /usr/local/lib/python3.8/dist-packages (from requests>=2.26->yfinance) (2.10)\n",
            "Requirement already satisfied: urllib3<1.27,>=1.21.1 in /usr/local/lib/python3.8/dist-packages (from requests>=2.26->yfinance) (1.24.3)\n",
            "Requirement already satisfied: pycparser in /usr/local/lib/python3.8/dist-packages (from cffi>=1.12->cryptography>=3.3.2->yfinance) (2.21)\n"
          ]
        },
        {
          "output_type": "stream",
          "name": "stderr",
          "text": [
            "/usr/local/lib/python3.8/dist-packages/statsmodels/tsa/base/tsa_model.py:471: ValueWarning: An unsupported index was provided and will be ignored when e.g. forecasting.\n",
            "  self._init_dates(dates, freq)\n",
            "/usr/local/lib/python3.8/dist-packages/statsmodels/tsa/base/tsa_model.py:471: ValueWarning: An unsupported index was provided and will be ignored when e.g. forecasting.\n",
            "  self._init_dates(dates, freq)\n",
            "/usr/local/lib/python3.8/dist-packages/statsmodels/tsa/base/tsa_model.py:471: ValueWarning: An unsupported index was provided and will be ignored when e.g. forecasting.\n",
            "  self._init_dates(dates, freq)\n",
            "/usr/local/lib/python3.8/dist-packages/statsmodels/graphics/tsaplots.py:348: FutureWarning: The default method 'yw' can produce PACF values outside of the [-1,1] interval. After 0.13, the default will change tounadjusted Yule-Walker ('ywm'). You can use this method now by setting method='ywm'.\n",
            "  warnings.warn(\n",
            "/usr/local/lib/python3.8/dist-packages/statsmodels/tsa/base/tsa_model.py:834: ValueWarning: No supported index is available. Prediction results will be given with an integer index beginning at `start`.\n",
            "  return get_prediction_index(\n",
            "/usr/local/lib/python3.8/dist-packages/statsmodels/tsa/deterministic.py:302: UserWarning: Only PeriodIndexes, DatetimeIndexes with a frequency set, RangesIndexes, and Index with a unit increment support extending. The index is set will contain the position relative to the data length.\n",
            "  fcast_index = self._extend_index(index, steps, forecast_index)\n"
          ]
        },
        {
          "output_type": "stream",
          "name": "stdout",
          "text": [
            "P-value:  0.41674776142924774\n",
            "                            AutoReg Model Results                             \n",
            "==============================================================================\n",
            "Dep. Variable:              Adj Close   No. Observations:                  102\n",
            "Model:                     AutoReg(8)   Log Likelihood                -469.562\n",
            "Method:               Conditional MLE   S.D. of innovations             35.745\n",
            "Date:                Mon, 30 Jan 2023   AIC                            959.125\n",
            "Time:                        01:19:30   BIC                            984.558\n",
            "Sample:                             8   HQIC                           969.398\n",
            "                                  102                                         \n",
            "================================================================================\n",
            "                   coef    std err          z      P>|z|      [0.025      0.975]\n",
            "--------------------------------------------------------------------------------\n",
            "const          347.3875     95.251      3.647      0.000     160.699     534.076\n",
            "Adj Close.L1    -0.0287      0.102     -0.280      0.779      -0.229       0.172\n",
            "Adj Close.L2    -0.1490      0.103     -1.452      0.146      -0.350       0.052\n",
            "Adj Close.L3    -0.2805      0.104     -2.705      0.007      -0.484      -0.077\n",
            "Adj Close.L4     0.0104      0.108      0.097      0.923      -0.200       0.221\n",
            "Adj Close.L5     0.0506      0.107      0.470      0.638      -0.160       0.261\n",
            "Adj Close.L6    -0.0245      0.104     -0.236      0.814      -0.229       0.180\n",
            "Adj Close.L7    -0.0631      0.104     -0.609      0.542      -0.266       0.140\n",
            "Adj Close.L8     0.1137      0.104      1.093      0.275      -0.090       0.318\n",
            "                                    Roots                                    \n",
            "=============================================================================\n",
            "                  Real          Imaginary           Modulus         Frequency\n",
            "-----------------------------------------------------------------------------\n",
            "AR.1           -1.2314           -0.0000j            1.2314           -0.5000\n",
            "AR.2           -0.9483           -0.9122j            1.3158           -0.3781\n",
            "AR.3           -0.9483           +0.9122j            1.3158            0.3781\n",
            "AR.4            0.1804           -1.2029j            1.2163           -0.2263\n",
            "AR.5            0.1804           +1.2029j            1.2163            0.2263\n",
            "AR.6            0.8934           -1.0090j            1.3477           -0.1347\n",
            "AR.7            0.8934           +1.0090j            1.3477            0.1347\n",
            "AR.8            1.5356           -0.0000j            1.5356           -0.0000\n",
            "-----------------------------------------------------------------------------\n",
            "RMSE: 52.6243129651078\n",
            "MAPE: 0.16771147970130643\n",
            "MSE: 2769.3183150496125\n",
            "MAE: 51.20479811246164\n"
          ]
        },
        {
          "output_type": "display_data",
          "data": {
            "text/plain": [
              "<Figure size 432x288 with 1 Axes>"
            ],
            "image/png": "[encoded data removed]"
          },
          "metadata": {
            "needs_background": "light"
          }
        }
      ],
      "source": [
        "!pip install pmdarima\n",
        "!pip  install pandas\n",
        "!pip install yfinance\n",
        "from pmdarima.arima import auto_arima\n",
        "\n",
        "import numpy as np\n",
        "import pandas as pd\n",
        "import matplotlib.pyplot as plt\n",
        "import yfinance as yf\n",
        "import seaborn as sns\n",
        "\n",
        "from statsmodels.tsa.ar_model import AutoReg, ar_select_order\n",
        "from sklearn.model_selection import train_test_split\n",
        "data = pd.read_csv('/content/newntflixs.csv')\n",
        "a_df = stock_data['Adj Close']\n",
        "a_df = pd.DataFrame(a_df)\n",
        "\n",
        "import statsmodels.tsa.stattools as sts\n",
        "from statsmodels.tsa.stattools import adfuller\n",
        "\n",
        "df_stationarityTest = adfuller(a_df['Adj Close'], autolag='AIC')\n",
        "train_df = a_df.sample(frac=0.8, random_state=25)\n",
        "test_df = a_df.drop(train_df.index)\n",
        "\n",
        "from statsmodels.tsa.ar_model import AutoReg\n",
        "\n",
        "model = AutoReg(train_df, lags=50)  # use time span of 1 year for lagging\n",
        "trained_model = model.fit()\n",
        "\n",
        "trained_model = AutoReg(train_df, 50).fit(cov_type=\"HC0\")\n",
        "\n",
        "print(\"P-value: \", df_stationarityTest[1])\n",
        "\n",
        "ar_model = AutoReg(train_df, lags=8).fit()\n",
        "print(ar_model.summary())\n",
        "\n",
        "from statsmodels.graphics.tsaplots import plot_pacf\n",
        "pacf = plot_pacf(a_df)\n",
        "\n",
        "\n",
        "# Define start and end for prediction \n",
        "start = len(train_df)\n",
        "end = len(train_df) + len(test_df) - 1\n",
        "\n",
        "prediction = ar_model.predict(start=start, end=end+100, dynamic=True)\n",
        "\n",
        "#  RMSE and MAPE  we will Calculate the RMSE and MAPE values\n",
        "rmse = np.sqrt(np.mean((prediction - test_df['Adj Close'])**2))\n",
        "mse=(np.mean((prediction - test_df['Adj Close'])**2))\n",
        "mape = np.mean(np.abs(prediction - test_df['Adj Close']) / test_df['Adj Close'])\n",
        "mae= np.mean(np.abs(prediction - test_df['Adj Close']))\n",
        "\n",
        "print(\"RMSE:\", rmse)\n",
        "print(\"MAPE:\", mape)\n",
        "print(\"MSE:\", mse)\n",
        "print(\"MAE:\", mae)"
      ]
    },
    {
      "cell_type": "code",
      "source": [],
      "metadata": {
        "id": "CZz8jh5XNbCr"
      },
      "execution_count": null,
      "outputs": []
    }
  ]
}