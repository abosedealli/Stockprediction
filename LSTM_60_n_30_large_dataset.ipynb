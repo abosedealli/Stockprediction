{
  "nbformat": 4,
  "nbformat_minor": 0,
  "metadata": {
    "colab": {
      "provenance": []
    },
    "kernelspec": {
      "name": "python3",
      "display_name": "Python 3"
    },
    "language_info": {
      "name": "python"
    }
  },
  "cells": [
    {
      "cell_type": "code",
      "execution_count": 1,
      "metadata": {
        "colab": {
          "base_uri": "https://localhost:8080/"
        },
        "id": "eITHYQZWf7A2",
        "outputId": "9d437fa6-649b-43d5-e51e-4e88d4404da3"
      },
      "outputs": [
        {
          "output_type": "stream",
          "name": "stdout",
          "text": [
            "Looking in indexes: https://pypi.org/simple, https://us-python.pkg.dev/colab-wheels/public/simple/\n",
            "Requirement already satisfied: tensorflow in /usr/local/lib/python3.8/dist-packages (2.9.2)\n",
            "Requirement already satisfied: wrapt>=1.11.0 in /usr/local/lib/python3.8/dist-packages (from tensorflow) (1.14.1)\n",
            "Requirement already satisfied: protobuf<3.20,>=3.9.2 in /usr/local/lib/python3.8/dist-packages (from tensorflow) (3.19.6)\n",
            "Requirement already satisfied: absl-py>=1.0.0 in /usr/local/lib/python3.8/dist-packages (from tensorflow) (1.3.0)\n",
            "Requirement already satisfied: numpy>=1.20 in /usr/local/lib/python3.8/dist-packages (from tensorflow) (1.21.6)\n",
            "Requirement already satisfied: setuptools in /usr/local/lib/python3.8/dist-packages (from tensorflow) (57.4.0)\n",
            "Requirement already satisfied: google-pasta>=0.1.1 in /usr/local/lib/python3.8/dist-packages (from tensorflow) (0.2.0)\n",
            "Requirement already satisfied: termcolor>=1.1.0 in /usr/local/lib/python3.8/dist-packages (from tensorflow) (2.2.0)\n",
            "Requirement already satisfied: h5py>=2.9.0 in /usr/local/lib/python3.8/dist-packages (from tensorflow) (3.1.0)\n",
            "Requirement already satisfied: tensorflow-io-gcs-filesystem>=0.23.1 in /usr/local/lib/python3.8/dist-packages (from tensorflow) (0.29.0)\n",
            "Requirement already satisfied: astunparse>=1.6.0 in /usr/local/lib/python3.8/dist-packages (from tensorflow) (1.6.3)\n",
            "Requirement already satisfied: tensorboard<2.10,>=2.9 in /usr/local/lib/python3.8/dist-packages (from tensorflow) (2.9.1)\n",
            "Requirement already satisfied: six>=1.12.0 in /usr/local/lib/python3.8/dist-packages (from tensorflow) (1.15.0)\n",
            "Requirement already satisfied: keras-preprocessing>=1.1.1 in /usr/local/lib/python3.8/dist-packages (from tensorflow) (1.1.2)\n",
            "Requirement already satisfied: typing-extensions>=3.6.6 in /usr/local/lib/python3.8/dist-packages (from tensorflow) (4.4.0)\n",
            "Requirement already satisfied: flatbuffers<2,>=1.12 in /usr/local/lib/python3.8/dist-packages (from tensorflow) (1.12)\n",
            "Requirement already satisfied: libclang>=13.0.0 in /usr/local/lib/python3.8/dist-packages (from tensorflow) (14.0.6)\n",
            "Requirement already satisfied: opt-einsum>=2.3.2 in /usr/local/lib/python3.8/dist-packages (from tensorflow) (3.3.0)\n",
            "Requirement already satisfied: packaging in /usr/local/lib/python3.8/dist-packages (from tensorflow) (21.3)\n",
            "Requirement already satisfied: keras<2.10.0,>=2.9.0rc0 in /usr/local/lib/python3.8/dist-packages (from tensorflow) (2.9.0)\n",
            "Requirement already satisfied: gast<=0.4.0,>=0.2.1 in /usr/local/lib/python3.8/dist-packages (from tensorflow) (0.4.0)\n",
            "Requirement already satisfied: grpcio<2.0,>=1.24.3 in /usr/local/lib/python3.8/dist-packages (from tensorflow) (1.51.1)\n",
            "Requirement already satisfied: tensorflow-estimator<2.10.0,>=2.9.0rc0 in /usr/local/lib/python3.8/dist-packages (from tensorflow) (2.9.0)\n",
            "Requirement already satisfied: wheel<1.0,>=0.23.0 in /usr/local/lib/python3.8/dist-packages (from astunparse>=1.6.0->tensorflow) (0.38.4)\n",
            "Requirement already satisfied: requests<3,>=2.21.0 in /usr/local/lib/python3.8/dist-packages (from tensorboard<2.10,>=2.9->tensorflow) (2.25.1)\n",
            "Requirement already satisfied: google-auth-oauthlib<0.5,>=0.4.1 in /usr/local/lib/python3.8/dist-packages (from tensorboard<2.10,>=2.9->tensorflow) (0.4.6)\n",
            "Requirement already satisfied: markdown>=2.6.8 in /usr/local/lib/python3.8/dist-packages (from tensorboard<2.10,>=2.9->tensorflow) (3.4.1)\n",
            "Requirement already satisfied: tensorboard-data-server<0.7.0,>=0.6.0 in /usr/local/lib/python3.8/dist-packages (from tensorboard<2.10,>=2.9->tensorflow) (0.6.1)\n",
            "Requirement already satisfied: google-auth<3,>=1.6.3 in /usr/local/lib/python3.8/dist-packages (from tensorboard<2.10,>=2.9->tensorflow) (2.15.0)\n",
            "Requirement already satisfied: tensorboard-plugin-wit>=1.6.0 in /usr/local/lib/python3.8/dist-packages (from tensorboard<2.10,>=2.9->tensorflow) (1.8.1)\n",
            "Requirement already satisfied: werkzeug>=1.0.1 in /usr/local/lib/python3.8/dist-packages (from tensorboard<2.10,>=2.9->tensorflow) (1.0.1)\n",
            "Requirement already satisfied: pyparsing!=3.0.5,>=2.0.2 in /usr/local/lib/python3.8/dist-packages (from packaging->tensorflow) (3.0.9)\n",
            "Requirement already satisfied: rsa<5,>=3.1.4 in /usr/local/lib/python3.8/dist-packages (from google-auth<3,>=1.6.3->tensorboard<2.10,>=2.9->tensorflow) (4.9)\n",
            "Requirement already satisfied: cachetools<6.0,>=2.0.0 in /usr/local/lib/python3.8/dist-packages (from google-auth<3,>=1.6.3->tensorboard<2.10,>=2.9->tensorflow) (5.2.0)\n",
            "Requirement already satisfied: pyasn1-modules>=0.2.1 in /usr/local/lib/python3.8/dist-packages (from google-auth<3,>=1.6.3->tensorboard<2.10,>=2.9->tensorflow) (0.2.8)\n",
            "Requirement already satisfied: requests-oauthlib>=0.7.0 in /usr/local/lib/python3.8/dist-packages (from google-auth-oauthlib<0.5,>=0.4.1->tensorboard<2.10,>=2.9->tensorflow) (1.3.1)\n",
            "Requirement already satisfied: importlib-metadata>=4.4 in /usr/local/lib/python3.8/dist-packages (from markdown>=2.6.8->tensorboard<2.10,>=2.9->tensorflow) (6.0.0)\n",
            "Requirement already satisfied: certifi>=2017.4.17 in /usr/local/lib/python3.8/dist-packages (from requests<3,>=2.21.0->tensorboard<2.10,>=2.9->tensorflow) (2022.12.7)\n",
            "Requirement already satisfied: urllib3<1.27,>=1.21.1 in /usr/local/lib/python3.8/dist-packages (from requests<3,>=2.21.0->tensorboard<2.10,>=2.9->tensorflow) (1.24.3)\n",
            "Requirement already satisfied: idna<3,>=2.5 in /usr/local/lib/python3.8/dist-packages (from requests<3,>=2.21.0->tensorboard<2.10,>=2.9->tensorflow) (2.10)\n",
            "Requirement already satisfied: chardet<5,>=3.0.2 in /usr/local/lib/python3.8/dist-packages (from requests<3,>=2.21.0->tensorboard<2.10,>=2.9->tensorflow) (4.0.0)\n",
            "Requirement already satisfied: zipp>=0.5 in /usr/local/lib/python3.8/dist-packages (from importlib-metadata>=4.4->markdown>=2.6.8->tensorboard<2.10,>=2.9->tensorflow) (3.11.0)\n",
            "Requirement already satisfied: pyasn1<0.5.0,>=0.4.6 in /usr/local/lib/python3.8/dist-packages (from pyasn1-modules>=0.2.1->google-auth<3,>=1.6.3->tensorboard<2.10,>=2.9->tensorflow) (0.4.8)\n",
            "Requirement already satisfied: oauthlib>=3.0.0 in /usr/local/lib/python3.8/dist-packages (from requests-oauthlib>=0.7.0->google-auth-oauthlib<0.5,>=0.4.1->tensorboard<2.10,>=2.9->tensorflow) (3.2.2)\n"
          ]
        }
      ],
      "source": [
        "import numpy as np\n",
        "!pip install tensorflow\n",
        "import tensorflow as tf\n",
        "import random"
      ]
    },
    {
      "cell_type": "code",
      "source": [
        "import pandas as pd\n",
        "import numpy as np\n",
        "import matplotlib.pyplot as plt\n",
        "from keras.callbacks import History \n",
        "import seaborn as sns\n",
        "import keras\n",
        "from keras.callbacks import History \n",
        "from sklearn.metrics import mean_squared_error"
      ],
      "metadata": {
        "id": "SZdSnGhDgFFk"
      },
      "execution_count": 2,
      "outputs": []
    },
    {
      "cell_type": "code",
      "source": [
        "import numpy as np\n",
        "from keras.models import Sequential\n",
        "from keras.layers import Dense\n",
        "from keras.layers import LSTM\n",
        "from keras.layers import Dropout\n",
        "from sklearn.preprocessing import MinMaxScaler,StandardScaler\n",
        "from keras.layers import *\n",
        "from keras.callbacks import EarlyStopping "
      ],
      "metadata": {
        "id": "gr0ae2JEgQYc"
      },
      "execution_count": 3,
      "outputs": []
    },
    {
      "cell_type": "code",
      "source": [
        "sns.set_style('whitegrid')\n",
        "from datetime import datetime"
      ],
      "metadata": {
        "id": "6ieyzefGgZDP"
      },
      "execution_count": 9,
      "outputs": []
    },
    {
      "cell_type": "code",
      "source": [
        "xapp= pd.read_csv(\"/content/appledataset.csv\")"
      ],
      "metadata": {
        "id": "FnxXwGnBgjhb"
      },
      "execution_count": 10,
      "outputs": []
    },
    {
      "cell_type": "code",
      "source": [
        "xapp.shape"
      ],
      "metadata": {
        "colab": {
          "base_uri": "https://localhost:8080/"
        },
        "id": "gmPCBZyJhbob",
        "outputId": "877aa60b-05c5-4294-ecec-070ea47ac2d4"
      },
      "execution_count": 11,
      "outputs": [
        {
          "output_type": "execute_result",
          "data": {
            "text/plain": [
              "(10100, 7)"
            ]
          },
          "metadata": {},
          "execution_count": 11
        }
      ]
    },
    {
      "cell_type": "code",
      "source": [
        "data = xapp.iloc[:int(0.8*len(xapp))]\n",
        "print(data.shape)"
      ],
      "metadata": {
        "colab": {
          "base_uri": "https://localhost:8080/"
        },
        "id": "MyL5nrCXhhFl",
        "outputId": "33bfceeb-406d-48aa-e569-d96b256c444f"
      },
      "execution_count": 12,
      "outputs": [
        {
          "output_type": "stream",
          "name": "stdout",
          "text": [
            "(8080, 7)\n"
          ]
        }
      ]
    },
    {
      "cell_type": "code",
      "source": [
        "data.info()"
      ],
      "metadata": {
        "colab": {
          "base_uri": "https://localhost:8080/"
        },
        "id": "CtDnE4XfhpBp",
        "outputId": "7bb549c1-fd10-4371-b729-0859e7521387"
      },
      "execution_count": 13,
      "outputs": [
        {
          "output_type": "stream",
          "name": "stdout",
          "text": [
            "<class 'pandas.core.frame.DataFrame'>\n",
            "RangeIndex: 8080 entries, 0 to 8079\n",
            "Data columns (total 7 columns):\n",
            " #   Column     Non-Null Count  Dtype  \n",
            "---  ------     --------------  -----  \n",
            " 0   Date       8080 non-null   object \n",
            " 1   High       8080 non-null   float64\n",
            " 2   Low        8080 non-null   float64\n",
            " 3   Open       8080 non-null   float64\n",
            " 4   Close      8080 non-null   float64\n",
            " 5   Volume     8080 non-null   int64  \n",
            " 6   Adj Close  8080 non-null   float64\n",
            "dtypes: float64(5), int64(1), object(1)\n",
            "memory usage: 442.0+ KB\n"
          ]
        }
      ]
    },
    {
      "cell_type": "code",
      "source": [
        "data"
      ],
      "metadata": {
        "colab": {
          "base_uri": "https://localhost:8080/",
          "height": 423
        },
        "id": "Dl0S5v-Wis78",
        "outputId": "c4b84f24-9a80-4fcb-9ee4-d78136137793"
      },
      "execution_count": 14,
      "outputs": [
        {
          "output_type": "execute_result",
          "data": {
            "text/plain": [
              "            Date       High        Low       Open      Close     Volume  \\\n",
              "0     12/12/1980   0.128906   0.128348   0.128348   0.128348  469033600   \n",
              "1     15/12/1980   0.122210   0.121652   0.122210   0.121652  175884800   \n",
              "2     16/12/1980   0.113281   0.112723   0.113281   0.112723  105728000   \n",
              "3     17/12/1980   0.116071   0.115513   0.115513   0.115513   86441600   \n",
              "4     18/12/1980   0.119420   0.118862   0.118862   0.118862   73449600   \n",
              "...          ...        ...        ...        ...        ...        ...   \n",
              "8075  17/12/2012  18.571428  17.901072  18.176071  18.529642  757607200   \n",
              "8076  18/12/2012  19.103571  18.580357  18.750000  19.067858  625685200   \n",
              "8077  19/12/2012  19.060715  18.767857  18.981071  18.796785  449369200   \n",
              "8078  20/12/2012  18.935715  18.531429  18.928572  18.633215  481689600   \n",
              "8079  21/12/2012  18.559643  18.222857  18.302500  18.547501  596268400   \n",
              "\n",
              "      Adj Close  \n",
              "0      0.100039  \n",
              "1      0.094820  \n",
              "2      0.087861  \n",
              "3      0.090035  \n",
              "4      0.092646  \n",
              "...         ...  \n",
              "8075  15.961703  \n",
              "8076  16.425322  \n",
              "8077  16.191816  \n",
              "8078  16.050920  \n",
              "8079  15.977083  \n",
              "\n",
              "[8080 rows x 7 columns]"
            ],
            "text/html": [
              "\n",
              "  <div id=\"df-2ae6f594-b2ed-4395-ac31-5d83e787b9a6\">\n",
              "    <div class=\"colab-df-container\">\n",
              "      <div>\n",
              "<style scoped>\n",
              "    .dataframe tbody tr th:only-of-type {\n",
              "        vertical-align: middle;\n",
              "    }\n",
              "\n",
              "    .dataframe tbody tr th {\n",
              "        vertical-align: top;\n",
              "    }\n",
              "\n",
              "    .dataframe thead th {\n",
              "        text-align: right;\n",
              "    }\n",
              "</style>\n",
              "<table border=\"1\" class=\"dataframe\">\n",
              "  <thead>\n",
              "    <tr style=\"text-align: right;\">\n",
              "      <th></th>\n",
              "      <th>Date</th>\n",
              "      <th>High</th>\n",
              "      <th>Low</th>\n",
              "      <th>Open</th>\n",
              "      <th>Close</th>\n",
              "      <th>Volume</th>\n",
              "      <th>Adj Close</th>\n",
              "    </tr>\n",
              "  </thead>\n",
              "  <tbody>\n",
              "    <tr>\n",
              "      <th>0</th>\n",
              "      <td>12/12/1980</td>\n",
              "      <td>0.128906</td>\n",
              "      <td>0.128348</td>\n",
              "      <td>0.128348</td>\n",
              "      <td>0.128348</td>\n",
              "      <td>469033600</td>\n",
              "      <td>0.100039</td>\n",
              "    </tr>\n",
              "    <tr>\n",
              "      <th>1</th>\n",
              "      <td>15/12/1980</td>\n",
              "      <td>0.122210</td>\n",
              "      <td>0.121652</td>\n",
              "      <td>0.122210</td>\n",
              "      <td>0.121652</td>\n",
              "      <td>175884800</td>\n",
              "      <td>0.094820</td>\n",
              "    </tr>\n",
              "    <tr>\n",
              "      <th>2</th>\n",
              "      <td>16/12/1980</td>\n",
              "      <td>0.113281</td>\n",
              "      <td>0.112723</td>\n",
              "      <td>0.113281</td>\n",
              "      <td>0.112723</td>\n",
              "      <td>105728000</td>\n",
              "      <td>0.087861</td>\n",
              "    </tr>\n",
              "    <tr>\n",
              "      <th>3</th>\n",
              "      <td>17/12/1980</td>\n",
              "      <td>0.116071</td>\n",
              "      <td>0.115513</td>\n",
              "      <td>0.115513</td>\n",
              "      <td>0.115513</td>\n",
              "      <td>86441600</td>\n",
              "      <td>0.090035</td>\n",
              "    </tr>\n",
              "    <tr>\n",
              "      <th>4</th>\n",
              "      <td>18/12/1980</td>\n",
              "      <td>0.119420</td>\n",
              "      <td>0.118862</td>\n",
              "      <td>0.118862</td>\n",
              "      <td>0.118862</td>\n",
              "      <td>73449600</td>\n",
              "      <td>0.092646</td>\n",
              "    </tr>\n",
              "    <tr>\n",
              "      <th>...</th>\n",
              "      <td>...</td>\n",
              "      <td>...</td>\n",
              "      <td>...</td>\n",
              "      <td>...</td>\n",
              "      <td>...</td>\n",
              "      <td>...</td>\n",
              "      <td>...</td>\n",
              "    </tr>\n",
              "    <tr>\n",
              "      <th>8075</th>\n",
              "      <td>17/12/2012</td>\n",
              "      <td>18.571428</td>\n",
              "      <td>17.901072</td>\n",
              "      <td>18.176071</td>\n",
              "      <td>18.529642</td>\n",
              "      <td>757607200</td>\n",
              "      <td>15.961703</td>\n",
              "    </tr>\n",
              "    <tr>\n",
              "      <th>8076</th>\n",
              "      <td>18/12/2012</td>\n",
              "      <td>19.103571</td>\n",
              "      <td>18.580357</td>\n",
              "      <td>18.750000</td>\n",
              "      <td>19.067858</td>\n",
              "      <td>625685200</td>\n",
              "      <td>16.425322</td>\n",
              "    </tr>\n",
              "    <tr>\n",
              "      <th>8077</th>\n",
              "      <td>19/12/2012</td>\n",
              "      <td>19.060715</td>\n",
              "      <td>18.767857</td>\n",
              "      <td>18.981071</td>\n",
              "      <td>18.796785</td>\n",
              "      <td>449369200</td>\n",
              "      <td>16.191816</td>\n",
              "    </tr>\n",
              "    <tr>\n",
              "      <th>8078</th>\n",
              "      <td>20/12/2012</td>\n",
              "      <td>18.935715</td>\n",
              "      <td>18.531429</td>\n",
              "      <td>18.928572</td>\n",
              "      <td>18.633215</td>\n",
              "      <td>481689600</td>\n",
              "      <td>16.050920</td>\n",
              "    </tr>\n",
              "    <tr>\n",
              "      <th>8079</th>\n",
              "      <td>21/12/2012</td>\n",
              "      <td>18.559643</td>\n",
              "      <td>18.222857</td>\n",
              "      <td>18.302500</td>\n",
              "      <td>18.547501</td>\n",
              "      <td>596268400</td>\n",
              "      <td>15.977083</td>\n",
              "    </tr>\n",
              "  </tbody>\n",
              "</table>\n",
              "<p>8080 rows × 7 columns</p>\n",
              "</div>\n",
              "      <button class=\"colab-df-convert\" onclick=\"convertToInteractive('df-2ae6f594-b2ed-4395-ac31-5d83e787b9a6')\"\n",
              "              title=\"Convert this dataframe to an interactive table.\"\n",
              "              style=\"display:none;\">\n",
              "        \n",
              "  <svg xmlns=\"http://www.w3.org/2000/svg\" height=\"24px\"viewBox=\"0 0 24 24\"\n",
              "       width=\"24px\">\n",
              "    <path d=\"M0 0h24v24H0V0z\" fill=\"none\"/>\n",
              "    <path d=\"M18.56 5.44l.94 2.06.94-2.06 2.06-.94-2.06-.94-.94-2.06-.94 2.06-2.06.94zm-11 1L8.5 8.5l.94-2.06 2.06-.94-2.06-.94L8.5 2.5l-.94 2.06-2.06.94zm10 10l.94 2.06.94-2.06 2.06-.94-2.06-.94-.94-2.06-.94 2.06-2.06.94z\"/><path d=\"M17.41 7.96l-1.37-1.37c-.4-.4-.92-.59-1.43-.59-.52 0-1.04.2-1.43.59L10.3 9.45l-7.72 7.72c-.78.78-.78 2.05 0 2.83L4 21.41c.39.39.9.59 1.41.59.51 0 1.02-.2 1.41-.59l7.78-7.78 2.81-2.81c.8-.78.8-2.07 0-2.86zM5.41 20L4 18.59l7.72-7.72 1.47 1.35L5.41 20z\"/>\n",
              "  </svg>\n",
              "      </button>\n",
              "      \n",
              "  <style>\n",
              "    .colab-df-container {\n",
              "      display:flex;\n",
              "      flex-wrap:wrap;\n",
              "      gap: 12px;\n",
              "    }\n",
              "\n",
              "    .colab-df-convert {\n",
              "      background-color: #E8F0FE;\n",
              "      border: none;\n",
              "      border-radius: 50%;\n",
              "      cursor: pointer;\n",
              "      display: none;\n",
              "      fill: #1967D2;\n",
              "      height: 32px;\n",
              "      padding: 0 0 0 0;\n",
              "      width: 32px;\n",
              "    }\n",
              "\n",
              "    .colab-df-convert:hover {\n",
              "      background-color: #E2EBFA;\n",
              "      box-shadow: 0px 1px 2px rgba(60, 64, 67, 0.3), 0px 1px 3px 1px rgba(60, 64, 67, 0.15);\n",
              "      fill: #174EA6;\n",
              "    }\n",
              "\n",
              "    [theme=dark] .colab-df-convert {\n",
              "      background-color: #3B4455;\n",
              "      fill: #D2E3FC;\n",
              "    }\n",
              "\n",
              "    [theme=dark] .colab-df-convert:hover {\n",
              "      background-color: #434B5C;\n",
              "      box-shadow: 0px 1px 3px 1px rgba(0, 0, 0, 0.15);\n",
              "      filter: drop-shadow(0px 1px 2px rgba(0, 0, 0, 0.3));\n",
              "      fill: #FFFFFF;\n",
              "    }\n",
              "  </style>\n",
              "\n",
              "      <script>\n",
              "        const buttonEl =\n",
              "          document.querySelector('#df-2ae6f594-b2ed-4395-ac31-5d83e787b9a6 button.colab-df-convert');\n",
              "        buttonEl.style.display =\n",
              "          google.colab.kernel.accessAllowed ? 'block' : 'none';\n",
              "\n",
              "        async function convertToInteractive(key) {\n",
              "          const element = document.querySelector('#df-2ae6f594-b2ed-4395-ac31-5d83e787b9a6');\n",
              "          const dataTable =\n",
              "            await google.colab.kernel.invokeFunction('convertToInteractive',\n",
              "                                                     [key], {});\n",
              "          if (!dataTable) return;\n",
              "\n",
              "          const docLinkHtml = 'Like what you see? Visit the ' +\n",
              "            '<a target=\"_blank\" href=https://colab.research.google.com/notebooks/data_table.ipynb>data table notebook</a>'\n",
              "            + ' to learn more about interactive tables.';\n",
              "          element.innerHTML = '';\n",
              "          dataTable['output_type'] = 'display_data';\n",
              "          await google.colab.output.renderOutput(dataTable, element);\n",
              "          const docLink = document.createElement('div');\n",
              "          docLink.innerHTML = docLinkHtml;\n",
              "          element.appendChild(docLink);\n",
              "        }\n",
              "      </script>\n",
              "    </div>\n",
              "  </div>\n",
              "  "
            ]
          },
          "metadata": {},
          "execution_count": 14
        }
      ]
    },
    {
      "cell_type": "code",
      "source": [
        "apple= data.assign(**{'average': lambda df: df.loc[:,['Open','High','Low','Close']].mean(axis=1), \n",
        "                    'EMA20': lambda df: df['average'].ewm(span=20, adjust=False).mean(), \n",
        "                    'EMA5': lambda df: df['average'].ewm(span=5, adjust=False).mean(), \n",
        "                    'dist_EMA20': lambda df: (df['average'] - df['EMA20'])/df['EMA20']*100, \n",
        "                    'dist_EMA5': lambda df: (df['average'] - df['EMA5'])/df['EMA5']*100})\n",
        "apple.head()"
      ],
      "metadata": {
        "colab": {
          "base_uri": "https://localhost:8080/",
          "height": 206
        },
        "id": "HcmZI63pi3iw",
        "outputId": "e6c6056c-f6e7-45af-f110-7c94d871ebbe"
      },
      "execution_count": 16,
      "outputs": [
        {
          "output_type": "execute_result",
          "data": {
            "text/plain": [
              "         Date      High       Low      Open     Close     Volume  Adj Close  \\\n",
              "0  12/12/1980  0.128906  0.128348  0.128348  0.128348  469033600   0.100039   \n",
              "1  15/12/1980  0.122210  0.121652  0.122210  0.121652  175884800   0.094820   \n",
              "2  16/12/1980  0.113281  0.112723  0.113281  0.112723  105728000   0.087861   \n",
              "3  17/12/1980  0.116071  0.115513  0.115513  0.115513   86441600   0.090035   \n",
              "4  18/12/1980  0.119420  0.118862  0.118862  0.118862   73449600   0.092646   \n",
              "\n",
              "    average     EMA20      EMA5  dist_EMA20  dist_EMA5  \n",
              "0  0.128487  0.128487  0.128487    0.000000   0.000000  \n",
              "1  0.121931  0.127863  0.126302   -4.639389  -3.460749  \n",
              "2  0.113002  0.126448  0.121869  -10.633428  -7.275591  \n",
              "3  0.115652  0.125420  0.119797   -7.787547  -3.459289  \n",
              "4  0.119002  0.124808  0.119532   -4.652620  -0.443457  "
            ],
            "text/html": [
              "\n",
              "  <div id=\"df-747131f0-77a4-41c6-b722-3b070fccf263\">\n",
              "    <div class=\"colab-df-container\">\n",
              "      <div>\n",
              "<style scoped>\n",
              "    .dataframe tbody tr th:only-of-type {\n",
              "        vertical-align: middle;\n",
              "    }\n",
              "\n",
              "    .dataframe tbody tr th {\n",
              "        vertical-align: top;\n",
              "    }\n",
              "\n",
              "    .dataframe thead th {\n",
              "        text-align: right;\n",
              "    }\n",
              "</style>\n",
              "<table border=\"1\" class=\"dataframe\">\n",
              "  <thead>\n",
              "    <tr style=\"text-align: right;\">\n",
              "      <th></th>\n",
              "      <th>Date</th>\n",
              "      <th>High</th>\n",
              "      <th>Low</th>\n",
              "      <th>Open</th>\n",
              "      <th>Close</th>\n",
              "      <th>Volume</th>\n",
              "      <th>Adj Close</th>\n",
              "      <th>average</th>\n",
              "      <th>EMA20</th>\n",
              "      <th>EMA5</th>\n",
              "      <th>dist_EMA20</th>\n",
              "      <th>dist_EMA5</th>\n",
              "    </tr>\n",
              "  </thead>\n",
              "  <tbody>\n",
              "    <tr>\n",
              "      <th>0</th>\n",
              "      <td>12/12/1980</td>\n",
              "      <td>0.128906</td>\n",
              "      <td>0.128348</td>\n",
              "      <td>0.128348</td>\n",
              "      <td>0.128348</td>\n",
              "      <td>469033600</td>\n",
              "      <td>0.100039</td>\n",
              "      <td>0.128487</td>\n",
              "      <td>0.128487</td>\n",
              "      <td>0.128487</td>\n",
              "      <td>0.000000</td>\n",
              "      <td>0.000000</td>\n",
              "    </tr>\n",
              "    <tr>\n",
              "      <th>1</th>\n",
              "      <td>15/12/1980</td>\n",
              "      <td>0.122210</td>\n",
              "      <td>0.121652</td>\n",
              "      <td>0.122210</td>\n",
              "      <td>0.121652</td>\n",
              "      <td>175884800</td>\n",
              "      <td>0.094820</td>\n",
              "      <td>0.121931</td>\n",
              "      <td>0.127863</td>\n",
              "      <td>0.126302</td>\n",
              "      <td>-4.639389</td>\n",
              "      <td>-3.460749</td>\n",
              "    </tr>\n",
              "    <tr>\n",
              "      <th>2</th>\n",
              "      <td>16/12/1980</td>\n",
              "      <td>0.113281</td>\n",
              "      <td>0.112723</td>\n",
              "      <td>0.113281</td>\n",
              "      <td>0.112723</td>\n",
              "      <td>105728000</td>\n",
              "      <td>0.087861</td>\n",
              "      <td>0.113002</td>\n",
              "      <td>0.126448</td>\n",
              "      <td>0.121869</td>\n",
              "      <td>-10.633428</td>\n",
              "      <td>-7.275591</td>\n",
              "    </tr>\n",
              "    <tr>\n",
              "      <th>3</th>\n",
              "      <td>17/12/1980</td>\n",
              "      <td>0.116071</td>\n",
              "      <td>0.115513</td>\n",
              "      <td>0.115513</td>\n",
              "      <td>0.115513</td>\n",
              "      <td>86441600</td>\n",
              "      <td>0.090035</td>\n",
              "      <td>0.115652</td>\n",
              "      <td>0.125420</td>\n",
              "      <td>0.119797</td>\n",
              "      <td>-7.787547</td>\n",
              "      <td>-3.459289</td>\n",
              "    </tr>\n",
              "    <tr>\n",
              "      <th>4</th>\n",
              "      <td>18/12/1980</td>\n",
              "      <td>0.119420</td>\n",
              "      <td>0.118862</td>\n",
              "      <td>0.118862</td>\n",
              "      <td>0.118862</td>\n",
              "      <td>73449600</td>\n",
              "      <td>0.092646</td>\n",
              "      <td>0.119002</td>\n",
              "      <td>0.124808</td>\n",
              "      <td>0.119532</td>\n",
              "      <td>-4.652620</td>\n",
              "      <td>-0.443457</td>\n",
              "    </tr>\n",
              "  </tbody>\n",
              "</table>\n",
              "</div>\n",
              "      <button class=\"colab-df-convert\" onclick=\"convertToInteractive('df-747131f0-77a4-41c6-b722-3b070fccf263')\"\n",
              "              title=\"Convert this dataframe to an interactive table.\"\n",
              "              style=\"display:none;\">\n",
              "        \n",
              "  <svg xmlns=\"http://www.w3.org/2000/svg\" height=\"24px\"viewBox=\"0 0 24 24\"\n",
              "       width=\"24px\">\n",
              "    <path d=\"M0 0h24v24H0V0z\" fill=\"none\"/>\n",
              "    <path d=\"M18.56 5.44l.94 2.06.94-2.06 2.06-.94-2.06-.94-.94-2.06-.94 2.06-2.06.94zm-11 1L8.5 8.5l.94-2.06 2.06-.94-2.06-.94L8.5 2.5l-.94 2.06-2.06.94zm10 10l.94 2.06.94-2.06 2.06-.94-2.06-.94-.94-2.06-.94 2.06-2.06.94z\"/><path d=\"M17.41 7.96l-1.37-1.37c-.4-.4-.92-.59-1.43-.59-.52 0-1.04.2-1.43.59L10.3 9.45l-7.72 7.72c-.78.78-.78 2.05 0 2.83L4 21.41c.39.39.9.59 1.41.59.51 0 1.02-.2 1.41-.59l7.78-7.78 2.81-2.81c.8-.78.8-2.07 0-2.86zM5.41 20L4 18.59l7.72-7.72 1.47 1.35L5.41 20z\"/>\n",
              "  </svg>\n",
              "      </button>\n",
              "      \n",
              "  <style>\n",
              "    .colab-df-container {\n",
              "      display:flex;\n",
              "      flex-wrap:wrap;\n",
              "      gap: 12px;\n",
              "    }\n",
              "\n",
              "    .colab-df-convert {\n",
              "      background-color: #E8F0FE;\n",
              "      border: none;\n",
              "      border-radius: 50%;\n",
              "      cursor: pointer;\n",
              "      display: none;\n",
              "      fill: #1967D2;\n",
              "      height: 32px;\n",
              "      padding: 0 0 0 0;\n",
              "      width: 32px;\n",
              "    }\n",
              "\n",
              "    .colab-df-convert:hover {\n",
              "      background-color: #E2EBFA;\n",
              "      box-shadow: 0px 1px 2px rgba(60, 64, 67, 0.3), 0px 1px 3px 1px rgba(60, 64, 67, 0.15);\n",
              "      fill: #174EA6;\n",
              "    }\n",
              "\n",
              "    [theme=dark] .colab-df-convert {\n",
              "      background-color: #3B4455;\n",
              "      fill: #D2E3FC;\n",
              "    }\n",
              "\n",
              "    [theme=dark] .colab-df-convert:hover {\n",
              "      background-color: #434B5C;\n",
              "      box-shadow: 0px 1px 3px 1px rgba(0, 0, 0, 0.15);\n",
              "      filter: drop-shadow(0px 1px 2px rgba(0, 0, 0, 0.3));\n",
              "      fill: #FFFFFF;\n",
              "    }\n",
              "  </style>\n",
              "\n",
              "      <script>\n",
              "        const buttonEl =\n",
              "          document.querySelector('#df-747131f0-77a4-41c6-b722-3b070fccf263 button.colab-df-convert');\n",
              "        buttonEl.style.display =\n",
              "          google.colab.kernel.accessAllowed ? 'block' : 'none';\n",
              "\n",
              "        async function convertToInteractive(key) {\n",
              "          const element = document.querySelector('#df-747131f0-77a4-41c6-b722-3b070fccf263');\n",
              "          const dataTable =\n",
              "            await google.colab.kernel.invokeFunction('convertToInteractive',\n",
              "                                                     [key], {});\n",
              "          if (!dataTable) return;\n",
              "\n",
              "          const docLinkHtml = 'Like what you see? Visit the ' +\n",
              "            '<a target=\"_blank\" href=https://colab.research.google.com/notebooks/data_table.ipynb>data table notebook</a>'\n",
              "            + ' to learn more about interactive tables.';\n",
              "          element.innerHTML = '';\n",
              "          dataTable['output_type'] = 'display_data';\n",
              "          await google.colab.output.renderOutput(dataTable, element);\n",
              "          const docLink = document.createElement('div');\n",
              "          docLink.innerHTML = docLinkHtml;\n",
              "          element.appendChild(docLink);\n",
              "        }\n",
              "      </script>\n",
              "    </div>\n",
              "  </div>\n",
              "  "
            ]
          },
          "metadata": {},
          "execution_count": 16
        }
      ]
    },
    {
      "cell_type": "code",
      "source": [
        "apple.columns"
      ],
      "metadata": {
        "colab": {
          "base_uri": "https://localhost:8080/"
        },
        "id": "CtsxwtbZjCM4",
        "outputId": "a7ae80f2-1694-43c8-e5c0-ecd50d6b0c9f"
      },
      "execution_count": 17,
      "outputs": [
        {
          "output_type": "execute_result",
          "data": {
            "text/plain": [
              "Index(['Date', 'High', 'Low', 'Open', 'Close', 'Volume', 'Adj Close',\n",
              "       'average', 'EMA20', 'EMA5', 'dist_EMA20', 'dist_EMA5'],\n",
              "      dtype='object')"
            ]
          },
          "metadata": {},
          "execution_count": 17
        }
      ]
    },
    {
      "cell_type": "code",
      "source": [
        "apple"
      ],
      "metadata": {
        "colab": {
          "base_uri": "https://localhost:8080/",
          "height": 423
        },
        "id": "8N-_9iwJjKxF",
        "outputId": "0e1ad2af-5a3f-402f-b63a-1277cdf682db"
      },
      "execution_count": 18,
      "outputs": [
        {
          "output_type": "execute_result",
          "data": {
            "text/plain": [
              "            Date       High        Low       Open      Close     Volume  \\\n",
              "0     12/12/1980   0.128906   0.128348   0.128348   0.128348  469033600   \n",
              "1     15/12/1980   0.122210   0.121652   0.122210   0.121652  175884800   \n",
              "2     16/12/1980   0.113281   0.112723   0.113281   0.112723  105728000   \n",
              "3     17/12/1980   0.116071   0.115513   0.115513   0.115513   86441600   \n",
              "4     18/12/1980   0.119420   0.118862   0.118862   0.118862   73449600   \n",
              "...          ...        ...        ...        ...        ...        ...   \n",
              "8075  17/12/2012  18.571428  17.901072  18.176071  18.529642  757607200   \n",
              "8076  18/12/2012  19.103571  18.580357  18.750000  19.067858  625685200   \n",
              "8077  19/12/2012  19.060715  18.767857  18.981071  18.796785  449369200   \n",
              "8078  20/12/2012  18.935715  18.531429  18.928572  18.633215  481689600   \n",
              "8079  21/12/2012  18.559643  18.222857  18.302500  18.547501  596268400   \n",
              "\n",
              "      Adj Close    average      EMA20       EMA5  dist_EMA20  dist_EMA5  \n",
              "0      0.100039   0.128487   0.128487   0.128487    0.000000   0.000000  \n",
              "1      0.094820   0.121931   0.127863   0.126302   -4.639389  -3.460749  \n",
              "2      0.087861   0.113002   0.126448   0.121869  -10.633428  -7.275591  \n",
              "3      0.090035   0.115652   0.125420   0.119797   -7.787547  -3.459289  \n",
              "4      0.092646   0.119002   0.124808   0.119532   -4.652620  -0.443457  \n",
              "...         ...        ...        ...        ...         ...        ...  \n",
              "8075  15.961703  18.294553  19.638589  18.730060   -6.843849  -2.325174  \n",
              "8076  16.425322  18.875446  19.565908  18.778522   -3.528904   0.516145  \n",
              "8077  16.191816  18.901607  19.502642  18.819550   -3.081811   0.436018  \n",
              "8078  16.050920  18.757233  19.431650  18.798778   -3.470717  -0.220999  \n",
              "8079  15.977083  18.408125  19.334172  18.668560   -4.789689  -1.395047  \n",
              "\n",
              "[8080 rows x 12 columns]"
            ],
            "text/html": [
              "\n",
              "  <div id=\"df-35528377-d953-44c8-b559-7acb0471b2d9\">\n",
              "    <div class=\"colab-df-container\">\n",
              "      <div>\n",
              "<style scoped>\n",
              "    .dataframe tbody tr th:only-of-type {\n",
              "        vertical-align: middle;\n",
              "    }\n",
              "\n",
              "    .dataframe tbody tr th {\n",
              "        vertical-align: top;\n",
              "    }\n",
              "\n",
              "    .dataframe thead th {\n",
              "        text-align: right;\n",
              "    }\n",
              "</style>\n",
              "<table border=\"1\" class=\"dataframe\">\n",
              "  <thead>\n",
              "    <tr style=\"text-align: right;\">\n",
              "      <th></th>\n",
              "      <th>Date</th>\n",
              "      <th>High</th>\n",
              "      <th>Low</th>\n",
              "      <th>Open</th>\n",
              "      <th>Close</th>\n",
              "      <th>Volume</th>\n",
              "      <th>Adj Close</th>\n",
              "      <th>average</th>\n",
              "      <th>EMA20</th>\n",
              "      <th>EMA5</th>\n",
              "      <th>dist_EMA20</th>\n",
              "      <th>dist_EMA5</th>\n",
              "    </tr>\n",
              "  </thead>\n",
              "  <tbody>\n",
              "    <tr>\n",
              "      <th>0</th>\n",
              "      <td>12/12/1980</td>\n",
              "      <td>0.128906</td>\n",
              "      <td>0.128348</td>\n",
              "      <td>0.128348</td>\n",
              "      <td>0.128348</td>\n",
              "      <td>469033600</td>\n",
              "      <td>0.100039</td>\n",
              "      <td>0.128487</td>\n",
              "      <td>0.128487</td>\n",
              "      <td>0.128487</td>\n",
              "      <td>0.000000</td>\n",
              "      <td>0.000000</td>\n",
              "    </tr>\n",
              "    <tr>\n",
              "      <th>1</th>\n",
              "      <td>15/12/1980</td>\n",
              "      <td>0.122210</td>\n",
              "      <td>0.121652</td>\n",
              "      <td>0.122210</td>\n",
              "      <td>0.121652</td>\n",
              "      <td>175884800</td>\n",
              "      <td>0.094820</td>\n",
              "      <td>0.121931</td>\n",
              "      <td>0.127863</td>\n",
              "      <td>0.126302</td>\n",
              "      <td>-4.639389</td>\n",
              "      <td>-3.460749</td>\n",
              "    </tr>\n",
              "    <tr>\n",
              "      <th>2</th>\n",
              "      <td>16/12/1980</td>\n",
              "      <td>0.113281</td>\n",
              "      <td>0.112723</td>\n",
              "      <td>0.113281</td>\n",
              "      <td>0.112723</td>\n",
              "      <td>105728000</td>\n",
              "      <td>0.087861</td>\n",
              "      <td>0.113002</td>\n",
              "      <td>0.126448</td>\n",
              "      <td>0.121869</td>\n",
              "      <td>-10.633428</td>\n",
              "      <td>-7.275591</td>\n",
              "    </tr>\n",
              "    <tr>\n",
              "      <th>3</th>\n",
              "      <td>17/12/1980</td>\n",
              "      <td>0.116071</td>\n",
              "      <td>0.115513</td>\n",
              "      <td>0.115513</td>\n",
              "      <td>0.115513</td>\n",
              "      <td>86441600</td>\n",
              "      <td>0.090035</td>\n",
              "      <td>0.115652</td>\n",
              "      <td>0.125420</td>\n",
              "      <td>0.119797</td>\n",
              "      <td>-7.787547</td>\n",
              "      <td>-3.459289</td>\n",
              "    </tr>\n",
              "    <tr>\n",
              "      <th>4</th>\n",
              "      <td>18/12/1980</td>\n",
              "      <td>0.119420</td>\n",
              "      <td>0.118862</td>\n",
              "      <td>0.118862</td>\n",
              "      <td>0.118862</td>\n",
              "      <td>73449600</td>\n",
              "      <td>0.092646</td>\n",
              "      <td>0.119002</td>\n",
              "      <td>0.124808</td>\n",
              "      <td>0.119532</td>\n",
              "      <td>-4.652620</td>\n",
              "      <td>-0.443457</td>\n",
              "    </tr>\n",
              "    <tr>\n",
              "      <th>...</th>\n",
              "      <td>...</td>\n",
              "      <td>...</td>\n",
              "      <td>...</td>\n",
              "      <td>...</td>\n",
              "      <td>...</td>\n",
              "      <td>...</td>\n",
              "      <td>...</td>\n",
              "      <td>...</td>\n",
              "      <td>...</td>\n",
              "      <td>...</td>\n",
              "      <td>...</td>\n",
              "      <td>...</td>\n",
              "    </tr>\n",
              "    <tr>\n",
              "      <th>8075</th>\n",
              "      <td>17/12/2012</td>\n",
              "      <td>18.571428</td>\n",
              "      <td>17.901072</td>\n",
              "      <td>18.176071</td>\n",
              "      <td>18.529642</td>\n",
              "      <td>757607200</td>\n",
              "      <td>15.961703</td>\n",
              "      <td>18.294553</td>\n",
              "      <td>19.638589</td>\n",
              "      <td>18.730060</td>\n",
              "      <td>-6.843849</td>\n",
              "      <td>-2.325174</td>\n",
              "    </tr>\n",
              "    <tr>\n",
              "      <th>8076</th>\n",
              "      <td>18/12/2012</td>\n",
              "      <td>19.103571</td>\n",
              "      <td>18.580357</td>\n",
              "      <td>18.750000</td>\n",
              "      <td>19.067858</td>\n",
              "      <td>625685200</td>\n",
              "      <td>16.425322</td>\n",
              "      <td>18.875446</td>\n",
              "      <td>19.565908</td>\n",
              "      <td>18.778522</td>\n",
              "      <td>-3.528904</td>\n",
              "      <td>0.516145</td>\n",
              "    </tr>\n",
              "    <tr>\n",
              "      <th>8077</th>\n",
              "      <td>19/12/2012</td>\n",
              "      <td>19.060715</td>\n",
              "      <td>18.767857</td>\n",
              "      <td>18.981071</td>\n",
              "      <td>18.796785</td>\n",
              "      <td>449369200</td>\n",
              "      <td>16.191816</td>\n",
              "      <td>18.901607</td>\n",
              "      <td>19.502642</td>\n",
              "      <td>18.819550</td>\n",
              "      <td>-3.081811</td>\n",
              "      <td>0.436018</td>\n",
              "    </tr>\n",
              "    <tr>\n",
              "      <th>8078</th>\n",
              "      <td>20/12/2012</td>\n",
              "      <td>18.935715</td>\n",
              "      <td>18.531429</td>\n",
              "      <td>18.928572</td>\n",
              "      <td>18.633215</td>\n",
              "      <td>481689600</td>\n",
              "      <td>16.050920</td>\n",
              "      <td>18.757233</td>\n",
              "      <td>19.431650</td>\n",
              "      <td>18.798778</td>\n",
              "      <td>-3.470717</td>\n",
              "      <td>-0.220999</td>\n",
              "    </tr>\n",
              "    <tr>\n",
              "      <th>8079</th>\n",
              "      <td>21/12/2012</td>\n",
              "      <td>18.559643</td>\n",
              "      <td>18.222857</td>\n",
              "      <td>18.302500</td>\n",
              "      <td>18.547501</td>\n",
              "      <td>596268400</td>\n",
              "      <td>15.977083</td>\n",
              "      <td>18.408125</td>\n",
              "      <td>19.334172</td>\n",
              "      <td>18.668560</td>\n",
              "      <td>-4.789689</td>\n",
              "      <td>-1.395047</td>\n",
              "    </tr>\n",
              "  </tbody>\n",
              "</table>\n",
              "<p>8080 rows × 12 columns</p>\n",
              "</div>\n",
              "      <button class=\"colab-df-convert\" onclick=\"convertToInteractive('df-35528377-d953-44c8-b559-7acb0471b2d9')\"\n",
              "              title=\"Convert this dataframe to an interactive table.\"\n",
              "              style=\"display:none;\">\n",
              "        \n",
              "  <svg xmlns=\"http://www.w3.org/2000/svg\" height=\"24px\"viewBox=\"0 0 24 24\"\n",
              "       width=\"24px\">\n",
              "    <path d=\"M0 0h24v24H0V0z\" fill=\"none\"/>\n",
              "    <path d=\"M18.56 5.44l.94 2.06.94-2.06 2.06-.94-2.06-.94-.94-2.06-.94 2.06-2.06.94zm-11 1L8.5 8.5l.94-2.06 2.06-.94-2.06-.94L8.5 2.5l-.94 2.06-2.06.94zm10 10l.94 2.06.94-2.06 2.06-.94-2.06-.94-.94-2.06-.94 2.06-2.06.94z\"/><path d=\"M17.41 7.96l-1.37-1.37c-.4-.4-.92-.59-1.43-.59-.52 0-1.04.2-1.43.59L10.3 9.45l-7.72 7.72c-.78.78-.78 2.05 0 2.83L4 21.41c.39.39.9.59 1.41.59.51 0 1.02-.2 1.41-.59l7.78-7.78 2.81-2.81c.8-.78.8-2.07 0-2.86zM5.41 20L4 18.59l7.72-7.72 1.47 1.35L5.41 20z\"/>\n",
              "  </svg>\n",
              "      </button>\n",
              "      \n",
              "  <style>\n",
              "    .colab-df-container {\n",
              "      display:flex;\n",
              "      flex-wrap:wrap;\n",
              "      gap: 12px;\n",
              "    }\n",
              "\n",
              "    .colab-df-convert {\n",
              "      background-color: #E8F0FE;\n",
              "      border: none;\n",
              "      border-radius: 50%;\n",
              "      cursor: pointer;\n",
              "      display: none;\n",
              "      fill: #1967D2;\n",
              "      height: 32px;\n",
              "      padding: 0 0 0 0;\n",
              "      width: 32px;\n",
              "    }\n",
              "\n",
              "    .colab-df-convert:hover {\n",
              "      background-color: #E2EBFA;\n",
              "      box-shadow: 0px 1px 2px rgba(60, 64, 67, 0.3), 0px 1px 3px 1px rgba(60, 64, 67, 0.15);\n",
              "      fill: #174EA6;\n",
              "    }\n",
              "\n",
              "    [theme=dark] .colab-df-convert {\n",
              "      background-color: #3B4455;\n",
              "      fill: #D2E3FC;\n",
              "    }\n",
              "\n",
              "    [theme=dark] .colab-df-convert:hover {\n",
              "      background-color: #434B5C;\n",
              "      box-shadow: 0px 1px 3px 1px rgba(0, 0, 0, 0.15);\n",
              "      filter: drop-shadow(0px 1px 2px rgba(0, 0, 0, 0.3));\n",
              "      fill: #FFFFFF;\n",
              "    }\n",
              "  </style>\n",
              "\n",
              "      <script>\n",
              "        const buttonEl =\n",
              "          document.querySelector('#df-35528377-d953-44c8-b559-7acb0471b2d9 button.colab-df-convert');\n",
              "        buttonEl.style.display =\n",
              "          google.colab.kernel.accessAllowed ? 'block' : 'none';\n",
              "\n",
              "        async function convertToInteractive(key) {\n",
              "          const element = document.querySelector('#df-35528377-d953-44c8-b559-7acb0471b2d9');\n",
              "          const dataTable =\n",
              "            await google.colab.kernel.invokeFunction('convertToInteractive',\n",
              "                                                     [key], {});\n",
              "          if (!dataTable) return;\n",
              "\n",
              "          const docLinkHtml = 'Like what you see? Visit the ' +\n",
              "            '<a target=\"_blank\" href=https://colab.research.google.com/notebooks/data_table.ipynb>data table notebook</a>'\n",
              "            + ' to learn more about interactive tables.';\n",
              "          element.innerHTML = '';\n",
              "          dataTable['output_type'] = 'display_data';\n",
              "          await google.colab.output.renderOutput(dataTable, element);\n",
              "          const docLink = document.createElement('div');\n",
              "          docLink.innerHTML = docLinkHtml;\n",
              "          element.appendChild(docLink);\n",
              "        }\n",
              "      </script>\n",
              "    </div>\n",
              "  </div>\n",
              "  "
            ]
          },
          "metadata": {},
          "execution_count": 18
        }
      ]
    },
    {
      "cell_type": "code",
      "source": [
        "apple.drop([\"Date\"],axis=1,inplace=True)"
      ],
      "metadata": {
        "id": "hihrr9rRjRi_"
      },
      "execution_count": 19,
      "outputs": []
    },
    {
      "cell_type": "code",
      "source": [
        "apple.head()"
      ],
      "metadata": {
        "colab": {
          "base_uri": "https://localhost:8080/",
          "height": 206
        },
        "id": "bEqPxy75jVX4",
        "outputId": "a2664485-4bc5-4892-da05-1997ee0178fa"
      },
      "execution_count": 20,
      "outputs": [
        {
          "output_type": "execute_result",
          "data": {
            "text/plain": [
              "       High       Low      Open     Close     Volume  Adj Close   average  \\\n",
              "0  0.128906  0.128348  0.128348  0.128348  469033600   0.100039  0.128487   \n",
              "1  0.122210  0.121652  0.122210  0.121652  175884800   0.094820  0.121931   \n",
              "2  0.113281  0.112723  0.113281  0.112723  105728000   0.087861  0.113002   \n",
              "3  0.116071  0.115513  0.115513  0.115513   86441600   0.090035  0.115652   \n",
              "4  0.119420  0.118862  0.118862  0.118862   73449600   0.092646  0.119002   \n",
              "\n",
              "      EMA20      EMA5  dist_EMA20  dist_EMA5  \n",
              "0  0.128487  0.128487    0.000000   0.000000  \n",
              "1  0.127863  0.126302   -4.639389  -3.460749  \n",
              "2  0.126448  0.121869  -10.633428  -7.275591  \n",
              "3  0.125420  0.119797   -7.787547  -3.459289  \n",
              "4  0.124808  0.119532   -4.652620  -0.443457  "
            ],
            "text/html": [
              "\n",
              "  <div id=\"df-70a9aff5-6701-4c8d-a3d1-e9acf6decd21\">\n",
              "    <div class=\"colab-df-container\">\n",
              "      <div>\n",
              "<style scoped>\n",
              "    .dataframe tbody tr th:only-of-type {\n",
              "        vertical-align: middle;\n",
              "    }\n",
              "\n",
              "    .dataframe tbody tr th {\n",
              "        vertical-align: top;\n",
              "    }\n",
              "\n",
              "    .dataframe thead th {\n",
              "        text-align: right;\n",
              "    }\n",
              "</style>\n",
              "<table border=\"1\" class=\"dataframe\">\n",
              "  <thead>\n",
              "    <tr style=\"text-align: right;\">\n",
              "      <th></th>\n",
              "      <th>High</th>\n",
              "      <th>Low</th>\n",
              "      <th>Open</th>\n",
              "      <th>Close</th>\n",
              "      <th>Volume</th>\n",
              "      <th>Adj Close</th>\n",
              "      <th>average</th>\n",
              "      <th>EMA20</th>\n",
              "      <th>EMA5</th>\n",
              "      <th>dist_EMA20</th>\n",
              "      <th>dist_EMA5</th>\n",
              "    </tr>\n",
              "  </thead>\n",
              "  <tbody>\n",
              "    <tr>\n",
              "      <th>0</th>\n",
              "      <td>0.128906</td>\n",
              "      <td>0.128348</td>\n",
              "      <td>0.128348</td>\n",
              "      <td>0.128348</td>\n",
              "      <td>469033600</td>\n",
              "      <td>0.100039</td>\n",
              "      <td>0.128487</td>\n",
              "      <td>0.128487</td>\n",
              "      <td>0.128487</td>\n",
              "      <td>0.000000</td>\n",
              "      <td>0.000000</td>\n",
              "    </tr>\n",
              "    <tr>\n",
              "      <th>1</th>\n",
              "      <td>0.122210</td>\n",
              "      <td>0.121652</td>\n",
              "      <td>0.122210</td>\n",
              "      <td>0.121652</td>\n",
              "      <td>175884800</td>\n",
              "      <td>0.094820</td>\n",
              "      <td>0.121931</td>\n",
              "      <td>0.127863</td>\n",
              "      <td>0.126302</td>\n",
              "      <td>-4.639389</td>\n",
              "      <td>-3.460749</td>\n",
              "    </tr>\n",
              "    <tr>\n",
              "      <th>2</th>\n",
              "      <td>0.113281</td>\n",
              "      <td>0.112723</td>\n",
              "      <td>0.113281</td>\n",
              "      <td>0.112723</td>\n",
              "      <td>105728000</td>\n",
              "      <td>0.087861</td>\n",
              "      <td>0.113002</td>\n",
              "      <td>0.126448</td>\n",
              "      <td>0.121869</td>\n",
              "      <td>-10.633428</td>\n",
              "      <td>-7.275591</td>\n",
              "    </tr>\n",
              "    <tr>\n",
              "      <th>3</th>\n",
              "      <td>0.116071</td>\n",
              "      <td>0.115513</td>\n",
              "      <td>0.115513</td>\n",
              "      <td>0.115513</td>\n",
              "      <td>86441600</td>\n",
              "      <td>0.090035</td>\n",
              "      <td>0.115652</td>\n",
              "      <td>0.125420</td>\n",
              "      <td>0.119797</td>\n",
              "      <td>-7.787547</td>\n",
              "      <td>-3.459289</td>\n",
              "    </tr>\n",
              "    <tr>\n",
              "      <th>4</th>\n",
              "      <td>0.119420</td>\n",
              "      <td>0.118862</td>\n",
              "      <td>0.118862</td>\n",
              "      <td>0.118862</td>\n",
              "      <td>73449600</td>\n",
              "      <td>0.092646</td>\n",
              "      <td>0.119002</td>\n",
              "      <td>0.124808</td>\n",
              "      <td>0.119532</td>\n",
              "      <td>-4.652620</td>\n",
              "      <td>-0.443457</td>\n",
              "    </tr>\n",
              "  </tbody>\n",
              "</table>\n",
              "</div>\n",
              "      <button class=\"colab-df-convert\" onclick=\"convertToInteractive('df-70a9aff5-6701-4c8d-a3d1-e9acf6decd21')\"\n",
              "              title=\"Convert this dataframe to an interactive table.\"\n",
              "              style=\"display:none;\">\n",
              "        \n",
              "  <svg xmlns=\"http://www.w3.org/2000/svg\" height=\"24px\"viewBox=\"0 0 24 24\"\n",
              "       width=\"24px\">\n",
              "    <path d=\"M0 0h24v24H0V0z\" fill=\"none\"/>\n",
              "    <path d=\"M18.56 5.44l.94 2.06.94-2.06 2.06-.94-2.06-.94-.94-2.06-.94 2.06-2.06.94zm-11 1L8.5 8.5l.94-2.06 2.06-.94-2.06-.94L8.5 2.5l-.94 2.06-2.06.94zm10 10l.94 2.06.94-2.06 2.06-.94-2.06-.94-.94-2.06-.94 2.06-2.06.94z\"/><path d=\"M17.41 7.96l-1.37-1.37c-.4-.4-.92-.59-1.43-.59-.52 0-1.04.2-1.43.59L10.3 9.45l-7.72 7.72c-.78.78-.78 2.05 0 2.83L4 21.41c.39.39.9.59 1.41.59.51 0 1.02-.2 1.41-.59l7.78-7.78 2.81-2.81c.8-.78.8-2.07 0-2.86zM5.41 20L4 18.59l7.72-7.72 1.47 1.35L5.41 20z\"/>\n",
              "  </svg>\n",
              "      </button>\n",
              "      \n",
              "  <style>\n",
              "    .colab-df-container {\n",
              "      display:flex;\n",
              "      flex-wrap:wrap;\n",
              "      gap: 12px;\n",
              "    }\n",
              "\n",
              "    .colab-df-convert {\n",
              "      background-color: #E8F0FE;\n",
              "      border: none;\n",
              "      border-radius: 50%;\n",
              "      cursor: pointer;\n",
              "      display: none;\n",
              "      fill: #1967D2;\n",
              "      height: 32px;\n",
              "      padding: 0 0 0 0;\n",
              "      width: 32px;\n",
              "    }\n",
              "\n",
              "    .colab-df-convert:hover {\n",
              "      background-color: #E2EBFA;\n",
              "      box-shadow: 0px 1px 2px rgba(60, 64, 67, 0.3), 0px 1px 3px 1px rgba(60, 64, 67, 0.15);\n",
              "      fill: #174EA6;\n",
              "    }\n",
              "\n",
              "    [theme=dark] .colab-df-convert {\n",
              "      background-color: #3B4455;\n",
              "      fill: #D2E3FC;\n",
              "    }\n",
              "\n",
              "    [theme=dark] .colab-df-convert:hover {\n",
              "      background-color: #434B5C;\n",
              "      box-shadow: 0px 1px 3px 1px rgba(0, 0, 0, 0.15);\n",
              "      filter: drop-shadow(0px 1px 2px rgba(0, 0, 0, 0.3));\n",
              "      fill: #FFFFFF;\n",
              "    }\n",
              "  </style>\n",
              "\n",
              "      <script>\n",
              "        const buttonEl =\n",
              "          document.querySelector('#df-70a9aff5-6701-4c8d-a3d1-e9acf6decd21 button.colab-df-convert');\n",
              "        buttonEl.style.display =\n",
              "          google.colab.kernel.accessAllowed ? 'block' : 'none';\n",
              "\n",
              "        async function convertToInteractive(key) {\n",
              "          const element = document.querySelector('#df-70a9aff5-6701-4c8d-a3d1-e9acf6decd21');\n",
              "          const dataTable =\n",
              "            await google.colab.kernel.invokeFunction('convertToInteractive',\n",
              "                                                     [key], {});\n",
              "          if (!dataTable) return;\n",
              "\n",
              "          const docLinkHtml = 'Like what you see? Visit the ' +\n",
              "            '<a target=\"_blank\" href=https://colab.research.google.com/notebooks/data_table.ipynb>data table notebook</a>'\n",
              "            + ' to learn more about interactive tables.';\n",
              "          element.innerHTML = '';\n",
              "          dataTable['output_type'] = 'display_data';\n",
              "          await google.colab.output.renderOutput(dataTable, element);\n",
              "          const docLink = document.createElement('div');\n",
              "          docLink.innerHTML = docLinkHtml;\n",
              "          element.appendChild(docLink);\n",
              "        }\n",
              "      </script>\n",
              "    </div>\n",
              "  </div>\n",
              "  "
            ]
          },
          "metadata": {},
          "execution_count": 20
        }
      ]
    },
    {
      "cell_type": "code",
      "source": [
        "testdf=  xapp.iloc[int(0.8*len(xapp)):]"
      ],
      "metadata": {
        "id": "-4oZdbc7jaoY"
      },
      "execution_count": 22,
      "outputs": []
    },
    {
      "cell_type": "code",
      "source": [
        "testdf.info()"
      ],
      "metadata": {
        "colab": {
          "base_uri": "https://localhost:8080/"
        },
        "id": "LdmvZcw5jhHL",
        "outputId": "7f908d08-feaa-4f1e-c66c-c3ff0c409d77"
      },
      "execution_count": 23,
      "outputs": [
        {
          "output_type": "stream",
          "name": "stdout",
          "text": [
            "<class 'pandas.core.frame.DataFrame'>\n",
            "RangeIndex: 2020 entries, 8080 to 10099\n",
            "Data columns (total 7 columns):\n",
            " #   Column     Non-Null Count  Dtype  \n",
            "---  ------     --------------  -----  \n",
            " 0   Date       2020 non-null   object \n",
            " 1   High       2020 non-null   float64\n",
            " 2   Low        2020 non-null   float64\n",
            " 3   Open       2020 non-null   float64\n",
            " 4   Close      2020 non-null   float64\n",
            " 5   Volume     2020 non-null   int64  \n",
            " 6   Adj Close  2020 non-null   float64\n",
            "dtypes: float64(5), int64(1), object(1)\n",
            "memory usage: 110.6+ KB\n"
          ]
        }
      ]
    },
    {
      "cell_type": "code",
      "source": [
        "testdf.drop([\"Date\"],axis=1,inplace=True)"
      ],
      "metadata": {
        "colab": {
          "base_uri": "https://localhost:8080/"
        },
        "id": "Gh1YXikgjoOu",
        "outputId": "494343a3-bc65-4749-81ba-b47bd256b2f3"
      },
      "execution_count": 24,
      "outputs": [
        {
          "output_type": "stream",
          "name": "stderr",
          "text": [
            "/usr/local/lib/python3.8/dist-packages/pandas/core/frame.py:4906: SettingWithCopyWarning: \n",
            "A value is trying to be set on a copy of a slice from a DataFrame\n",
            "\n",
            "See the caveats in the documentation: https://pandas.pydata.org/pandas-docs/stable/user_guide/indexing.html#returning-a-view-versus-a-copy\n",
            "  return super().drop(\n"
          ]
        }
      ]
    },
    {
      "cell_type": "code",
      "source": [
        "testdata=testdf.assign(**{'average': lambda df: df.loc[:,['Open','High','Low','Close']].mean(axis=1), \n",
        "                    'EMA20': lambda df: df['average'].ewm(span=20, adjust=False).mean(), \n",
        "                    'EMA5': lambda df: df['average'].ewm(span=5, adjust=False).mean(), \n",
        "                    'dist_EMA20': lambda df: (df['average'] - df['EMA20'])/df['EMA20']*100, \n",
        "                    'dist_EMA5': lambda df: (df['average'] - df['EMA5'])/df['EMA5']*100})\n",
        "testdata.head()"
      ],
      "metadata": {
        "colab": {
          "base_uri": "https://localhost:8080/",
          "height": 206
        },
        "id": "8-qjZoJ9j1Ab",
        "outputId": "d4c7a219-5128-4ff5-a6cf-3db878749e7a"
      },
      "execution_count": 25,
      "outputs": [
        {
          "output_type": "execute_result",
          "data": {
            "text/plain": [
              "           High        Low       Open      Close     Volume  Adj Close  \\\n",
              "8080  18.723213  18.525356  18.583929  18.577499  175753200  16.002932   \n",
              "8081  18.552143  18.254286  18.535713  18.321428  302436400  15.782346   \n",
              "8082  18.437500  18.023571  18.340713  18.395000  455120400  15.845722   \n",
              "8083  18.374287  18.147142  18.224644  18.199642  354278400  15.677435   \n",
              "8084  19.121429  18.178572  18.233213  19.006071  659492400  16.372105   \n",
              "\n",
              "        average      EMA20       EMA5  dist_EMA20  dist_EMA5  \n",
              "8080  18.602499  18.602499  18.602499    0.000000   0.000000  \n",
              "8081  18.415893  18.584727  18.540297   -0.908460  -0.670996  \n",
              "8082  18.299196  18.557534  18.459930   -1.392091  -0.870718  \n",
              "8083  18.236429  18.526953  18.385430   -1.568114  -0.810430  \n",
              "8084  18.634821  18.537226  18.468560    0.526485   0.900239  "
            ],
            "text/html": [
              "\n",
              "  <div id=\"df-eee75f89-8e08-4126-b75c-0ef7ac3dfea2\">\n",
              "    <div class=\"colab-df-container\">\n",
              "      <div>\n",
              "<style scoped>\n",
              "    .dataframe tbody tr th:only-of-type {\n",
              "        vertical-align: middle;\n",
              "    }\n",
              "\n",
              "    .dataframe tbody tr th {\n",
              "        vertical-align: top;\n",
              "    }\n",
              "\n",
              "    .dataframe thead th {\n",
              "        text-align: right;\n",
              "    }\n",
              "</style>\n",
              "<table border=\"1\" class=\"dataframe\">\n",
              "  <thead>\n",
              "    <tr style=\"text-align: right;\">\n",
              "      <th></th>\n",
              "      <th>High</th>\n",
              "      <th>Low</th>\n",
              "      <th>Open</th>\n",
              "      <th>Close</th>\n",
              "      <th>Volume</th>\n",
              "      <th>Adj Close</th>\n",
              "      <th>average</th>\n",
              "      <th>EMA20</th>\n",
              "      <th>EMA5</th>\n",
              "      <th>dist_EMA20</th>\n",
              "      <th>dist_EMA5</th>\n",
              "    </tr>\n",
              "  </thead>\n",
              "  <tbody>\n",
              "    <tr>\n",
              "      <th>8080</th>\n",
              "      <td>18.723213</td>\n",
              "      <td>18.525356</td>\n",
              "      <td>18.583929</td>\n",
              "      <td>18.577499</td>\n",
              "      <td>175753200</td>\n",
              "      <td>16.002932</td>\n",
              "      <td>18.602499</td>\n",
              "      <td>18.602499</td>\n",
              "      <td>18.602499</td>\n",
              "      <td>0.000000</td>\n",
              "      <td>0.000000</td>\n",
              "    </tr>\n",
              "    <tr>\n",
              "      <th>8081</th>\n",
              "      <td>18.552143</td>\n",
              "      <td>18.254286</td>\n",
              "      <td>18.535713</td>\n",
              "      <td>18.321428</td>\n",
              "      <td>302436400</td>\n",
              "      <td>15.782346</td>\n",
              "      <td>18.415893</td>\n",
              "      <td>18.584727</td>\n",
              "      <td>18.540297</td>\n",
              "      <td>-0.908460</td>\n",
              "      <td>-0.670996</td>\n",
              "    </tr>\n",
              "    <tr>\n",
              "      <th>8082</th>\n",
              "      <td>18.437500</td>\n",
              "      <td>18.023571</td>\n",
              "      <td>18.340713</td>\n",
              "      <td>18.395000</td>\n",
              "      <td>455120400</td>\n",
              "      <td>15.845722</td>\n",
              "      <td>18.299196</td>\n",
              "      <td>18.557534</td>\n",
              "      <td>18.459930</td>\n",
              "      <td>-1.392091</td>\n",
              "      <td>-0.870718</td>\n",
              "    </tr>\n",
              "    <tr>\n",
              "      <th>8083</th>\n",
              "      <td>18.374287</td>\n",
              "      <td>18.147142</td>\n",
              "      <td>18.224644</td>\n",
              "      <td>18.199642</td>\n",
              "      <td>354278400</td>\n",
              "      <td>15.677435</td>\n",
              "      <td>18.236429</td>\n",
              "      <td>18.526953</td>\n",
              "      <td>18.385430</td>\n",
              "      <td>-1.568114</td>\n",
              "      <td>-0.810430</td>\n",
              "    </tr>\n",
              "    <tr>\n",
              "      <th>8084</th>\n",
              "      <td>19.121429</td>\n",
              "      <td>18.178572</td>\n",
              "      <td>18.233213</td>\n",
              "      <td>19.006071</td>\n",
              "      <td>659492400</td>\n",
              "      <td>16.372105</td>\n",
              "      <td>18.634821</td>\n",
              "      <td>18.537226</td>\n",
              "      <td>18.468560</td>\n",
              "      <td>0.526485</td>\n",
              "      <td>0.900239</td>\n",
              "    </tr>\n",
              "  </tbody>\n",
              "</table>\n",
              "</div>\n",
              "      <button class=\"colab-df-convert\" onclick=\"convertToInteractive('df-eee75f89-8e08-4126-b75c-0ef7ac3dfea2')\"\n",
              "              title=\"Convert this dataframe to an interactive table.\"\n",
              "              style=\"display:none;\">\n",
              "        \n",
              "  <svg xmlns=\"http://www.w3.org/2000/svg\" height=\"24px\"viewBox=\"0 0 24 24\"\n",
              "       width=\"24px\">\n",
              "    <path d=\"M0 0h24v24H0V0z\" fill=\"none\"/>\n",
              "    <path d=\"M18.56 5.44l.94 2.06.94-2.06 2.06-.94-2.06-.94-.94-2.06-.94 2.06-2.06.94zm-11 1L8.5 8.5l.94-2.06 2.06-.94-2.06-.94L8.5 2.5l-.94 2.06-2.06.94zm10 10l.94 2.06.94-2.06 2.06-.94-2.06-.94-.94-2.06-.94 2.06-2.06.94z\"/><path d=\"M17.41 7.96l-1.37-1.37c-.4-.4-.92-.59-1.43-.59-.52 0-1.04.2-1.43.59L10.3 9.45l-7.72 7.72c-.78.78-.78 2.05 0 2.83L4 21.41c.39.39.9.59 1.41.59.51 0 1.02-.2 1.41-.59l7.78-7.78 2.81-2.81c.8-.78.8-2.07 0-2.86zM5.41 20L4 18.59l7.72-7.72 1.47 1.35L5.41 20z\"/>\n",
              "  </svg>\n",
              "      </button>\n",
              "      \n",
              "  <style>\n",
              "    .colab-df-container {\n",
              "      display:flex;\n",
              "      flex-wrap:wrap;\n",
              "      gap: 12px;\n",
              "    }\n",
              "\n",
              "    .colab-df-convert {\n",
              "      background-color: #E8F0FE;\n",
              "      border: none;\n",
              "      border-radius: 50%;\n",
              "      cursor: pointer;\n",
              "      display: none;\n",
              "      fill: #1967D2;\n",
              "      height: 32px;\n",
              "      padding: 0 0 0 0;\n",
              "      width: 32px;\n",
              "    }\n",
              "\n",
              "    .colab-df-convert:hover {\n",
              "      background-color: #E2EBFA;\n",
              "      box-shadow: 0px 1px 2px rgba(60, 64, 67, 0.3), 0px 1px 3px 1px rgba(60, 64, 67, 0.15);\n",
              "      fill: #174EA6;\n",
              "    }\n",
              "\n",
              "    [theme=dark] .colab-df-convert {\n",
              "      background-color: #3B4455;\n",
              "      fill: #D2E3FC;\n",
              "    }\n",
              "\n",
              "    [theme=dark] .colab-df-convert:hover {\n",
              "      background-color: #434B5C;\n",
              "      box-shadow: 0px 1px 3px 1px rgba(0, 0, 0, 0.15);\n",
              "      filter: drop-shadow(0px 1px 2px rgba(0, 0, 0, 0.3));\n",
              "      fill: #FFFFFF;\n",
              "    }\n",
              "  </style>\n",
              "\n",
              "      <script>\n",
              "        const buttonEl =\n",
              "          document.querySelector('#df-eee75f89-8e08-4126-b75c-0ef7ac3dfea2 button.colab-df-convert');\n",
              "        buttonEl.style.display =\n",
              "          google.colab.kernel.accessAllowed ? 'block' : 'none';\n",
              "\n",
              "        async function convertToInteractive(key) {\n",
              "          const element = document.querySelector('#df-eee75f89-8e08-4126-b75c-0ef7ac3dfea2');\n",
              "          const dataTable =\n",
              "            await google.colab.kernel.invokeFunction('convertToInteractive',\n",
              "                                                     [key], {});\n",
              "          if (!dataTable) return;\n",
              "\n",
              "          const docLinkHtml = 'Like what you see? Visit the ' +\n",
              "            '<a target=\"_blank\" href=https://colab.research.google.com/notebooks/data_table.ipynb>data table notebook</a>'\n",
              "            + ' to learn more about interactive tables.';\n",
              "          element.innerHTML = '';\n",
              "          dataTable['output_type'] = 'display_data';\n",
              "          await google.colab.output.renderOutput(dataTable, element);\n",
              "          const docLink = document.createElement('div');\n",
              "          docLink.innerHTML = docLinkHtml;\n",
              "          element.appendChild(docLink);\n",
              "        }\n",
              "      </script>\n",
              "    </div>\n",
              "  </div>\n",
              "  "
            ]
          },
          "metadata": {},
          "execution_count": 25
        }
      ]
    },
    {
      "cell_type": "code",
      "source": [
        "scalar = MinMaxScaler()\n",
        "\n",
        "apple_scaled = scalar.fit_transform(apple)\n",
        "print(apple_scaled.shape)\n",
        "apple_scaled"
      ],
      "metadata": {
        "colab": {
          "base_uri": "https://localhost:8080/"
        },
        "id": "TkBSI6AOj6Mk",
        "outputId": "e37478b4-504e-48a5-e470-5b8759c4c20f"
      },
      "execution_count": 26,
      "outputs": [
        {
          "output_type": "stream",
          "name": "stdout",
          "text": [
            "(8080, 11)\n"
          ]
        },
        {
          "output_type": "execute_result",
          "data": {
            "text/plain": [
              "array([[0.00315307, 0.00317783, 0.00314274, ..., 0.00308441, 0.48475612,\n",
              "        0.62170279],\n",
              "       [0.00288663, 0.0029093 , 0.00289758, ..., 0.00299648, 0.4400364 ,\n",
              "        0.56572327],\n",
              "       [0.00253133, 0.00255122, 0.00254094, ..., 0.00281813, 0.38225901,\n",
              "        0.50401612],\n",
              "       ...,\n",
              "       [0.75646584, 0.75068564, 0.75615512, ..., 0.75503627, 0.4550501 ,\n",
              "        0.62875562],\n",
              "       [0.75149199, 0.7412041 , 0.75405818, ..., 0.75420058, 0.45130139,\n",
              "        0.61812801],\n",
              "       [0.73652776, 0.72882928, 0.72905172, ..., 0.74896185, 0.43858763,\n",
              "        0.59913713]])"
            ]
          },
          "metadata": {},
          "execution_count": 26
        }
      ]
    },
    {
      "cell_type": "code",
      "source": [
        "X_train = []\n",
        "y_train = []"
      ],
      "metadata": {
        "id": "bPvjaUR2j_vf"
      },
      "execution_count": 27,
      "outputs": []
    },
    {
      "cell_type": "code",
      "source": [
        "for i in range(60, apple.shape[0]):\n",
        "    X_train.append(apple_scaled[i-60: i])\n",
        "    y_train.append(apple_scaled[i, 0])\n",
        "\n",
        "X_train, y_train = np.array(X_train), np.array(y_train)\n",
        "X_train.shape, y_train.shape"
      ],
      "metadata": {
        "colab": {
          "base_uri": "https://localhost:8080/"
        },
        "id": "K7_P5I6UkDj5",
        "outputId": "07597772-210b-4b2e-a657-0db0401b311f"
      },
      "execution_count": 28,
      "outputs": [
        {
          "output_type": "execute_result",
          "data": {
            "text/plain": [
              "((8020, 60, 11), (8020,))"
            ]
          },
          "metadata": {},
          "execution_count": 28
        }
      ]
    },
    {
      "cell_type": "code",
      "source": [
        "X_train, y_train = np.array(X_train), np.array(y_train)\n",
        "X_train.shape, y_train.shape"
      ],
      "metadata": {
        "colab": {
          "base_uri": "https://localhost:8080/"
        },
        "id": "KU6_l9QOkJB5",
        "outputId": "24a43f1c-e48a-4900-9a9d-7b3644422759"
      },
      "execution_count": 29,
      "outputs": [
        {
          "output_type": "execute_result",
          "data": {
            "text/plain": [
              "((8020, 60, 11), (8020,))"
            ]
          },
          "metadata": {},
          "execution_count": 29
        }
      ]
    },
    {
      "cell_type": "code",
      "source": [
        "regressor = Sequential()\n",
        "\n",
        "regressor.add(LSTM(units = 70, activation = 'relu', return_sequences = True, input_shape = (X_train.shape[1], 11)))\n",
        "regressor.add(Dropout(0.2))\n",
        "\n",
        "regressor.add(LSTM(units = 80, activation = 'relu', return_sequences = True))\n",
        "regressor.add(Dropout(0.3))\n",
        "\n",
        "regressor.add(LSTM(units = 100, activation = 'relu', return_sequences = True))\n",
        "regressor.add(Dropout(0.4))\n",
        "\n",
        "regressor.add(LSTM(units = 140, activation = 'relu'))\n",
        "regressor.add(Dropout(0.5))\n",
        "\n",
        "regressor.add(Dense(units = 1))"
      ],
      "metadata": {
        "id": "TYbBqroAkNOe"
      },
      "execution_count": 30,
      "outputs": []
    },
    {
      "cell_type": "code",
      "source": [
        "regressor.summary()"
      ],
      "metadata": {
        "colab": {
          "base_uri": "https://localhost:8080/"
        },
        "id": "DuNspVkkkSOl",
        "outputId": "38b93544-e4da-473e-a235-8e58ccf82cb6"
      },
      "execution_count": 31,
      "outputs": [
        {
          "output_type": "stream",
          "name": "stdout",
          "text": [
            "Model: \"sequential\"\n",
            "_________________________________________________________________\n",
            " Layer (type)                Output Shape              Param #   \n",
            "=================================================================\n",
            " lstm (LSTM)                 (None, 60, 70)            22960     \n",
            "                                                                 \n",
            " dropout (Dropout)           (None, 60, 70)            0         \n",
            "                                                                 \n",
            " lstm_1 (LSTM)               (None, 60, 80)            48320     \n",
            "                                                                 \n",
            " dropout_1 (Dropout)         (None, 60, 80)            0         \n",
            "                                                                 \n",
            " lstm_2 (LSTM)               (None, 60, 100)           72400     \n",
            "                                                                 \n",
            " dropout_2 (Dropout)         (None, 60, 100)           0         \n",
            "                                                                 \n",
            " lstm_3 (LSTM)               (None, 140)               134960    \n",
            "                                                                 \n",
            " dropout_3 (Dropout)         (None, 140)               0         \n",
            "                                                                 \n",
            " dense (Dense)               (None, 1)                 141       \n",
            "                                                                 \n",
            "=================================================================\n",
            "Total params: 278,781\n",
            "Trainable params: 278,781\n",
            "Non-trainable params: 0\n",
            "_________________________________________________________________\n"
          ]
        }
      ]
    },
    {
      "cell_type": "code",
      "source": [
        "regressor.compile(optimizer = 'adam', loss = 'mean_squared_error')\n",
        "regressor.fit(X_train, y_train, epochs=5, batch_size = 64)"
      ],
      "metadata": {
        "colab": {
          "base_uri": "https://localhost:8080/"
        },
        "id": "KKlC9c5LkbrP",
        "outputId": "1622e8ea-0360-41b5-bd3c-df49c26b0372"
      },
      "execution_count": 32,
      "outputs": [
        {
          "output_type": "stream",
          "name": "stdout",
          "text": [
            "Epoch 1/5\n",
            "126/126 [==============================] - 58s 412ms/step - loss: 0.0047\n",
            "Epoch 2/5\n",
            "126/126 [==============================] - 53s 421ms/step - loss: 0.0014\n",
            "Epoch 3/5\n",
            "126/126 [==============================] - 51s 401ms/step - loss: 0.0014\n",
            "Epoch 4/5\n",
            "126/126 [==============================] - 51s 406ms/step - loss: 0.0011\n",
            "Epoch 5/5\n",
            "126/126 [==============================] - 51s 403ms/step - loss: 9.4745e-04\n"
          ]
        },
        {
          "output_type": "execute_result",
          "data": {
            "text/plain": [
              "<keras.callbacks.History at 0x7f2c8da5c4f0>"
            ]
          },
          "metadata": {},
          "execution_count": 32
        }
      ]
    },
    {
      "cell_type": "code",
      "source": [
        "past_60 = apple.tail(60)\n",
        "\n",
        "dt = past_60.append(testdata, ignore_index = True)\n",
        "dt"
      ],
      "metadata": {
        "colab": {
          "base_uri": "https://localhost:8080/",
          "height": 423
        },
        "id": "dp37vWkalhQP",
        "outputId": "17fb8440-2175-4359-99f8-cf374b8ab076"
      },
      "execution_count": 33,
      "outputs": [
        {
          "output_type": "execute_result",
          "data": {
            "text/plain": [
              "            High         Low        Open       Close     Volume   Adj Close  \\\n",
              "0      24.024643   23.614286   23.883572   23.756430  576503200   20.371086   \n",
              "1      24.363214   23.583929   23.724644   24.332857  594090000   20.865374   \n",
              "2      24.325357   23.812500   24.241072   23.825001  535110800   20.429888   \n",
              "3      24.169643   23.446428   23.969999   23.549643  543594800   20.193771   \n",
              "4      23.798214   23.237499   23.636070   23.618214  627992400   20.252563   \n",
              "...          ...         ...         ...         ...        ...         ...   \n",
              "2075  133.460007  131.100006  131.320007  131.970001   54930100  130.620911   \n",
              "2076  137.339996  133.509995  133.990005  136.690002  124486200  135.292664   \n",
              "2077  138.789993  134.339996  138.050003  134.869995  121047300  133.491242   \n",
              "2078  135.990005  133.399994  135.580002  133.720001   96452100  132.352997   \n",
              "2079  134.740005  131.720001  134.080002  132.690002   99116600  131.333542   \n",
              "\n",
              "         average       EMA20        EMA5  dist_EMA20  dist_EMA5  \n",
              "0      23.819733   24.235412   24.377284   -1.715173  -2.287178  \n",
              "1      24.001161   24.213102   24.251910   -0.875316  -1.033935  \n",
              "2      24.050982   24.197662   24.184934   -0.606174  -0.553864  \n",
              "3      23.783928   24.158259   24.051266   -1.549494  -1.111531  \n",
              "4      23.572499   24.102472   23.891677   -2.198833  -1.335936  \n",
              "...          ...         ...         ...         ...        ...  \n",
              "2075  131.962505  125.430239  130.265986    5.207888   1.302350  \n",
              "2076  135.382500  126.378074  131.971490    7.124991   2.584656  \n",
              "2077  136.512497  127.343257  133.485159    7.200413   2.267921  \n",
              "2078  134.672501  128.041280  133.880940    5.178971   0.591242  \n",
              "2079  133.307503  128.542825  133.689794    3.706685  -0.285954  \n",
              "\n",
              "[2080 rows x 11 columns]"
            ],
            "text/html": [
              "\n",
              "  <div id=\"df-1174724d-fb28-40b6-8372-278ea120e17d\">\n",
              "    <div class=\"colab-df-container\">\n",
              "      <div>\n",
              "<style scoped>\n",
              "    .dataframe tbody tr th:only-of-type {\n",
              "        vertical-align: middle;\n",
              "    }\n",
              "\n",
              "    .dataframe tbody tr th {\n",
              "        vertical-align: top;\n",
              "    }\n",
              "\n",
              "    .dataframe thead th {\n",
              "        text-align: right;\n",
              "    }\n",
              "</style>\n",
              "<table border=\"1\" class=\"dataframe\">\n",
              "  <thead>\n",
              "    <tr style=\"text-align: right;\">\n",
              "      <th></th>\n",
              "      <th>High</th>\n",
              "      <th>Low</th>\n",
              "      <th>Open</th>\n",
              "      <th>Close</th>\n",
              "      <th>Volume</th>\n",
              "      <th>Adj Close</th>\n",
              "      <th>average</th>\n",
              "      <th>EMA20</th>\n",
              "      <th>EMA5</th>\n",
              "      <th>dist_EMA20</th>\n",
              "      <th>dist_EMA5</th>\n",
              "    </tr>\n",
              "  </thead>\n",
              "  <tbody>\n",
              "    <tr>\n",
              "      <th>0</th>\n",
              "      <td>24.024643</td>\n",
              "      <td>23.614286</td>\n",
              "      <td>23.883572</td>\n",
              "      <td>23.756430</td>\n",
              "      <td>576503200</td>\n",
              "      <td>20.371086</td>\n",
              "      <td>23.819733</td>\n",
              "      <td>24.235412</td>\n",
              "      <td>24.377284</td>\n",
              "      <td>-1.715173</td>\n",
              "      <td>-2.287178</td>\n",
              "    </tr>\n",
              "    <tr>\n",
              "      <th>1</th>\n",
              "      <td>24.363214</td>\n",
              "      <td>23.583929</td>\n",
              "      <td>23.724644</td>\n",
              "      <td>24.332857</td>\n",
              "      <td>594090000</td>\n",
              "      <td>20.865374</td>\n",
              "      <td>24.001161</td>\n",
              "      <td>24.213102</td>\n",
              "      <td>24.251910</td>\n",
              "      <td>-0.875316</td>\n",
              "      <td>-1.033935</td>\n",
              "    </tr>\n",
              "    <tr>\n",
              "      <th>2</th>\n",
              "      <td>24.325357</td>\n",
              "      <td>23.812500</td>\n",
              "      <td>24.241072</td>\n",
              "      <td>23.825001</td>\n",
              "      <td>535110800</td>\n",
              "      <td>20.429888</td>\n",
              "      <td>24.050982</td>\n",
              "      <td>24.197662</td>\n",
              "      <td>24.184934</td>\n",
              "      <td>-0.606174</td>\n",
              "      <td>-0.553864</td>\n",
              "    </tr>\n",
              "    <tr>\n",
              "      <th>3</th>\n",
              "      <td>24.169643</td>\n",
              "      <td>23.446428</td>\n",
              "      <td>23.969999</td>\n",
              "      <td>23.549643</td>\n",
              "      <td>543594800</td>\n",
              "      <td>20.193771</td>\n",
              "      <td>23.783928</td>\n",
              "      <td>24.158259</td>\n",
              "      <td>24.051266</td>\n",
              "      <td>-1.549494</td>\n",
              "      <td>-1.111531</td>\n",
              "    </tr>\n",
              "    <tr>\n",
              "      <th>4</th>\n",
              "      <td>23.798214</td>\n",
              "      <td>23.237499</td>\n",
              "      <td>23.636070</td>\n",
              "      <td>23.618214</td>\n",
              "      <td>627992400</td>\n",
              "      <td>20.252563</td>\n",
              "      <td>23.572499</td>\n",
              "      <td>24.102472</td>\n",
              "      <td>23.891677</td>\n",
              "      <td>-2.198833</td>\n",
              "      <td>-1.335936</td>\n",
              "    </tr>\n",
              "    <tr>\n",
              "      <th>...</th>\n",
              "      <td>...</td>\n",
              "      <td>...</td>\n",
              "      <td>...</td>\n",
              "      <td>...</td>\n",
              "      <td>...</td>\n",
              "      <td>...</td>\n",
              "      <td>...</td>\n",
              "      <td>...</td>\n",
              "      <td>...</td>\n",
              "      <td>...</td>\n",
              "      <td>...</td>\n",
              "    </tr>\n",
              "    <tr>\n",
              "      <th>2075</th>\n",
              "      <td>133.460007</td>\n",
              "      <td>131.100006</td>\n",
              "      <td>131.320007</td>\n",
              "      <td>131.970001</td>\n",
              "      <td>54930100</td>\n",
              "      <td>130.620911</td>\n",
              "      <td>131.962505</td>\n",
              "      <td>125.430239</td>\n",
              "      <td>130.265986</td>\n",
              "      <td>5.207888</td>\n",
              "      <td>1.302350</td>\n",
              "    </tr>\n",
              "    <tr>\n",
              "      <th>2076</th>\n",
              "      <td>137.339996</td>\n",
              "      <td>133.509995</td>\n",
              "      <td>133.990005</td>\n",
              "      <td>136.690002</td>\n",
              "      <td>124486200</td>\n",
              "      <td>135.292664</td>\n",
              "      <td>135.382500</td>\n",
              "      <td>126.378074</td>\n",
              "      <td>131.971490</td>\n",
              "      <td>7.124991</td>\n",
              "      <td>2.584656</td>\n",
              "    </tr>\n",
              "    <tr>\n",
              "      <th>2077</th>\n",
              "      <td>138.789993</td>\n",
              "      <td>134.339996</td>\n",
              "      <td>138.050003</td>\n",
              "      <td>134.869995</td>\n",
              "      <td>121047300</td>\n",
              "      <td>133.491242</td>\n",
              "      <td>136.512497</td>\n",
              "      <td>127.343257</td>\n",
              "      <td>133.485159</td>\n",
              "      <td>7.200413</td>\n",
              "      <td>2.267921</td>\n",
              "    </tr>\n",
              "    <tr>\n",
              "      <th>2078</th>\n",
              "      <td>135.990005</td>\n",
              "      <td>133.399994</td>\n",
              "      <td>135.580002</td>\n",
              "      <td>133.720001</td>\n",
              "      <td>96452100</td>\n",
              "      <td>132.352997</td>\n",
              "      <td>134.672501</td>\n",
              "      <td>128.041280</td>\n",
              "      <td>133.880940</td>\n",
              "      <td>5.178971</td>\n",
              "      <td>0.591242</td>\n",
              "    </tr>\n",
              "    <tr>\n",
              "      <th>2079</th>\n",
              "      <td>134.740005</td>\n",
              "      <td>131.720001</td>\n",
              "      <td>134.080002</td>\n",
              "      <td>132.690002</td>\n",
              "      <td>99116600</td>\n",
              "      <td>131.333542</td>\n",
              "      <td>133.307503</td>\n",
              "      <td>128.542825</td>\n",
              "      <td>133.689794</td>\n",
              "      <td>3.706685</td>\n",
              "      <td>-0.285954</td>\n",
              "    </tr>\n",
              "  </tbody>\n",
              "</table>\n",
              "<p>2080 rows × 11 columns</p>\n",
              "</div>\n",
              "      <button class=\"colab-df-convert\" onclick=\"convertToInteractive('df-1174724d-fb28-40b6-8372-278ea120e17d')\"\n",
              "              title=\"Convert this dataframe to an interactive table.\"\n",
              "              style=\"display:none;\">\n",
              "        \n",
              "  <svg xmlns=\"http://www.w3.org/2000/svg\" height=\"24px\"viewBox=\"0 0 24 24\"\n",
              "       width=\"24px\">\n",
              "    <path d=\"M0 0h24v24H0V0z\" fill=\"none\"/>\n",
              "    <path d=\"M18.56 5.44l.94 2.06.94-2.06 2.06-.94-2.06-.94-.94-2.06-.94 2.06-2.06.94zm-11 1L8.5 8.5l.94-2.06 2.06-.94-2.06-.94L8.5 2.5l-.94 2.06-2.06.94zm10 10l.94 2.06.94-2.06 2.06-.94-2.06-.94-.94-2.06-.94 2.06-2.06.94z\"/><path d=\"M17.41 7.96l-1.37-1.37c-.4-.4-.92-.59-1.43-.59-.52 0-1.04.2-1.43.59L10.3 9.45l-7.72 7.72c-.78.78-.78 2.05 0 2.83L4 21.41c.39.39.9.59 1.41.59.51 0 1.02-.2 1.41-.59l7.78-7.78 2.81-2.81c.8-.78.8-2.07 0-2.86zM5.41 20L4 18.59l7.72-7.72 1.47 1.35L5.41 20z\"/>\n",
              "  </svg>\n",
              "      </button>\n",
              "      \n",
              "  <style>\n",
              "    .colab-df-container {\n",
              "      display:flex;\n",
              "      flex-wrap:wrap;\n",
              "      gap: 12px;\n",
              "    }\n",
              "\n",
              "    .colab-df-convert {\n",
              "      background-color: #E8F0FE;\n",
              "      border: none;\n",
              "      border-radius: 50%;\n",
              "      cursor: pointer;\n",
              "      display: none;\n",
              "      fill: #1967D2;\n",
              "      height: 32px;\n",
              "      padding: 0 0 0 0;\n",
              "      width: 32px;\n",
              "    }\n",
              "\n",
              "    .colab-df-convert:hover {\n",
              "      background-color: #E2EBFA;\n",
              "      box-shadow: 0px 1px 2px rgba(60, 64, 67, 0.3), 0px 1px 3px 1px rgba(60, 64, 67, 0.15);\n",
              "      fill: #174EA6;\n",
              "    }\n",
              "\n",
              "    [theme=dark] .colab-df-convert {\n",
              "      background-color: #3B4455;\n",
              "      fill: #D2E3FC;\n",
              "    }\n",
              "\n",
              "    [theme=dark] .colab-df-convert:hover {\n",
              "      background-color: #434B5C;\n",
              "      box-shadow: 0px 1px 3px 1px rgba(0, 0, 0, 0.15);\n",
              "      filter: drop-shadow(0px 1px 2px rgba(0, 0, 0, 0.3));\n",
              "      fill: #FFFFFF;\n",
              "    }\n",
              "  </style>\n",
              "\n",
              "      <script>\n",
              "        const buttonEl =\n",
              "          document.querySelector('#df-1174724d-fb28-40b6-8372-278ea120e17d button.colab-df-convert');\n",
              "        buttonEl.style.display =\n",
              "          google.colab.kernel.accessAllowed ? 'block' : 'none';\n",
              "\n",
              "        async function convertToInteractive(key) {\n",
              "          const element = document.querySelector('#df-1174724d-fb28-40b6-8372-278ea120e17d');\n",
              "          const dataTable =\n",
              "            await google.colab.kernel.invokeFunction('convertToInteractive',\n",
              "                                                     [key], {});\n",
              "          if (!dataTable) return;\n",
              "\n",
              "          const docLinkHtml = 'Like what you see? Visit the ' +\n",
              "            '<a target=\"_blank\" href=https://colab.research.google.com/notebooks/data_table.ipynb>data table notebook</a>'\n",
              "            + ' to learn more about interactive tables.';\n",
              "          element.innerHTML = '';\n",
              "          dataTable['output_type'] = 'display_data';\n",
              "          await google.colab.output.renderOutput(dataTable, element);\n",
              "          const docLink = document.createElement('div');\n",
              "          docLink.innerHTML = docLinkHtml;\n",
              "          element.appendChild(docLink);\n",
              "        }\n",
              "      </script>\n",
              "    </div>\n",
              "  </div>\n",
              "  "
            ]
          },
          "metadata": {},
          "execution_count": 33
        }
      ]
    },
    {
      "cell_type": "code",
      "source": [
        "inputs = scalar.fit_transform(dt)\n",
        "print(inputs.shape)\n",
        "inputs"
      ],
      "metadata": {
        "colab": {
          "base_uri": "https://localhost:8080/"
        },
        "id": "6tAE2S5all6o",
        "outputId": "c0077112-a95f-4598-8c06-ea3510859bc6"
      },
      "execution_count": 34,
      "outputs": [
        {
          "output_type": "stream",
          "name": "stdout",
          "text": [
            "(2080, 11)\n"
          ]
        },
        {
          "output_type": "execute_result",
          "data": {
            "text/plain": [
              "array([[0.07832739, 0.08177302, 0.08074066, ..., 0.08404548, 0.48962028,\n",
              "        0.37142485],\n",
              "       [0.08104643, 0.08152127, 0.07946099, ..., 0.08299677, 0.51820074,\n",
              "        0.45208056],\n",
              "       [0.08074241, 0.08341676, 0.08361922, ..., 0.08243655, 0.52735971,\n",
              "        0.48297674],\n",
              "       ...,\n",
              "       [1.        , 1.        , 1.        , ..., 0.99668945, 0.79301912,\n",
              "        0.66458004],\n",
              "       [0.97751349, 0.99220474, 0.98011174, ..., 1.        , 0.72422913,\n",
              "        0.55667305],\n",
              "       [0.96747483, 0.97827289, 0.96803385, ..., 0.99840114, 0.674127  ,\n",
              "        0.5002188 ]])"
            ]
          },
          "metadata": {},
          "execution_count": 34
        }
      ]
    },
    {
      "cell_type": "code",
      "source": [
        "X_test = []\n",
        "y_test = []\n",
        "\n",
        "for i in range(60, inputs.shape[0]):\n",
        "    X_test.append(inputs[i-60:i])\n",
        "    y_test.append(inputs[i, 0])\n",
        "    \n",
        "X_test, y_test = np.array(X_test), np.array(y_test).reshape(-1,1)\n",
        "X_test.shape, y_test.shape"
      ],
      "metadata": {
        "colab": {
          "base_uri": "https://localhost:8080/"
        },
        "id": "2kOtg7Ztl1aW",
        "outputId": "49be9cfc-9176-4d78-f30b-38bbd66bb6ca"
      },
      "execution_count": 35,
      "outputs": [
        {
          "output_type": "execute_result",
          "data": {
            "text/plain": [
              "((2020, 60, 11), (2020, 1))"
            ]
          },
          "metadata": {},
          "execution_count": 35
        }
      ]
    },
    {
      "cell_type": "code",
      "source": [
        "y_pred = regressor.predict(X_test)"
      ],
      "metadata": {
        "colab": {
          "base_uri": "https://localhost:8080/"
        },
        "id": "2fDyKZ0Tl56z",
        "outputId": "121d84a7-8f24-473f-8186-b392f4519b5c"
      },
      "execution_count": 36,
      "outputs": [
        {
          "output_type": "stream",
          "name": "stdout",
          "text": [
            "64/64 [==============================] - 5s 74ms/step\n"
          ]
        }
      ]
    },
    {
      "cell_type": "code",
      "source": [
        "y_pred.shape"
      ],
      "metadata": {
        "colab": {
          "base_uri": "https://localhost:8080/"
        },
        "id": "VqRQbqiGmEN_",
        "outputId": "17f605ca-fb39-403a-c059-a1e86a48897a"
      },
      "execution_count": 37,
      "outputs": [
        {
          "output_type": "execute_result",
          "data": {
            "text/plain": [
              "(2020, 1)"
            ]
          },
          "metadata": {},
          "execution_count": 37
        }
      ]
    },
    {
      "cell_type": "code",
      "source": [
        "node = pd.isnull(y_pred).any(1).nonzero()[0]"
      ],
      "metadata": {
        "id": "HjQThI6fmLGr"
      },
      "execution_count": 38,
      "outputs": []
    },
    {
      "cell_type": "code",
      "source": [
        "y_pred = np.delete(y_pred,node)\n",
        "y_test = np.delete(y_test,node)\n"
      ],
      "metadata": {
        "id": "OmqjiZemmZ2A"
      },
      "execution_count": 39,
      "outputs": []
    },
    {
      "cell_type": "code",
      "source": [
        "ans = pd.DataFrame()\n",
        "ans['y_pred'] = y_pred\n",
        "ans['y_test'] = y_test"
      ],
      "metadata": {
        "id": "XUpqawZMmhwV"
      },
      "execution_count": 40,
      "outputs": []
    },
    {
      "cell_type": "code",
      "source": [
        "ans = ans.dropna()"
      ],
      "metadata": {
        "id": "Z-kqoCKMmlFz"
      },
      "execution_count": 41,
      "outputs": []
    },
    {
      "cell_type": "code",
      "source": [
        "scale = 1/scalar.scale_[0]"
      ],
      "metadata": {
        "id": "M_aZ52Rmmqu1"
      },
      "execution_count": 42,
      "outputs": []
    },
    {
      "cell_type": "code",
      "source": [
        "y_pred = y_pred*scale\n",
        "y_test = y_test*scale"
      ],
      "metadata": {
        "id": "uXPpLrYEmtNy"
      },
      "execution_count": 43,
      "outputs": []
    },
    {
      "cell_type": "code",
      "source": [
        "# Visualising the results\n",
        "plt.figure(figsize=(28,12))\n",
        "plt.plot(y_test, color = 'red', label = 'Actual Prices of Apple Inc')\n",
        "plt.plot(y_pred, color = 'blue', label = 'Predicted Apple Price')\n",
        "plt.title('Apple Price Prediction-After 25 epochs and Batch Size=64')\n",
        "plt.xlabel('Time')\n",
        "plt.ylabel('Price')\n",
        "plt.legend()\n",
        "plt.show()"
      ],
      "metadata": {
        "colab": {
          "base_uri": "https://localhost:8080/",
          "height": 750
        },
        "id": "aIn-SOgFm3BH",
        "outputId": "dccb3e54-d71d-48a3-8356-423deb04ccec"
      },
      "execution_count": 44,
      "outputs": [
        {
          "output_type": "display_data",
          "data": {
            "text/plain": [
              "<Figure size 2016x864 with 1 Axes>"
            ],
            "image/png": "[encoded data removed]"
          },
          "metadata": {}
        }
      ]
    },
    {
      "cell_type": "code",
      "source": [
        "# Visualising time.........Visualizing various results at different epoch and batch size\n",
        "plt.figure(figsize=(12,8))\n",
        "plt.plot(y_test, color = 'blue', label = 'Actual Prices of Apple Inc')\n",
        "plt.plot(y_pred, color = 'orange', label = 'Predicted Apple Price')\n",
        "plt.title('Apple Prediction-after 10 epochs and Batch Size=32')\n",
        "plt.xlabel('Time')\n",
        "plt.ylabel('Price')\n",
        "plt.legend()\n",
        "plt.show()"
      ],
      "metadata": {
        "colab": {
          "base_uri": "https://localhost:8080/",
          "height": 513
        },
        "id": "lKMLlBs9m7CP",
        "outputId": "f21cb03c-8c51-44ef-f725-31ff32ab528d"
      },
      "execution_count": 45,
      "outputs": [
        {
          "output_type": "display_data",
          "data": {
            "text/plain": [
              "<Figure size 864x576 with 1 Axes>"
            ],
            "image/png": "[encoded data removed]"
          },
          "metadata": {}
        }
      ]
    },
    {
      "cell_type": "code",
      "source": [
        "plt.figure(figsize=(20,10))\n",
        "plt.plot(y_test,'red',label='Actual Prices')\n",
        "plt.plot(y_pred,'blue',label='Predicted Prices')\n",
        "plt.xlabel('Time')\n",
        "plt.ylabel('Prices')\n",
        "plt.title('Actual vs Predicted Prices')\n",
        "plt.legend(loc='best', fontsize=20)"
      ],
      "metadata": {
        "colab": {
          "base_uri": "https://localhost:8080/",
          "height": 638
        },
        "id": "Teru26CWnEE-",
        "outputId": "1b006c68-c881-41ae-dd96-b62af1c0e547"
      },
      "execution_count": 46,
      "outputs": [
        {
          "output_type": "execute_result",
          "data": {
            "text/plain": [
              "<matplotlib.legend.Legend at 0x7f2c8b9bcf70>"
            ]
          },
          "metadata": {},
          "execution_count": 46
        },
        {
          "output_type": "display_data",
          "data": {
            "text/plain": [
              "<Figure size 1440x720 with 1 Axes>"
            ],
            "image/png": "[encoded data removed]"
          },
          "metadata": {}
        }
      ]
    },
    {
      "cell_type": "code",
      "source": [
        " print(mean_squared_error(ans.y_test, ans.y_pred, squared = False))"
      ],
      "metadata": {
        "colab": {
          "base_uri": "https://localhost:8080/"
        },
        "id": "L7oKIDfhnfGw",
        "outputId": "f6a1b88d-f60b-4e34-d62b-351bb819719a"
      },
      "execution_count": 49,
      "outputs": [
        {
          "output_type": "stream",
          "name": "stdout",
          "text": [
            "0.024970246031989315\n"
          ]
        }
      ]
    },
    {
      "cell_type": "markdown",
      "source": [
        "Calculating squared =true which is the RMSE value"
      ],
      "metadata": {
        "id": "wBMjmyk0nq7O"
      }
    },
    {
      "cell_type": "code",
      "source": [
        " print(mean_squared_error(ans.y_test, ans.y_pred, squared = True))"
      ],
      "metadata": {
        "colab": {
          "base_uri": "https://localhost:8080/"
        },
        "id": "S7AxX-CPnxiP",
        "outputId": "9cb5c267-c53c-4d71-fba6-68e3f6d7dba7"
      },
      "execution_count": 48,
      "outputs": [
        {
          "output_type": "stream",
          "name": "stdout",
          "text": [
            "0.0006235131868980782\n"
          ]
        }
      ]
    },
    {
      "cell_type": "code",
      "source": [
        "apple"
      ],
      "metadata": {
        "colab": {
          "base_uri": "https://localhost:8080/",
          "height": 423
        },
        "id": "KyL20eVboQqI",
        "outputId": "c01485ec-d775-4512-fb18-0a4487bda09a"
      },
      "execution_count": 50,
      "outputs": [
        {
          "output_type": "execute_result",
          "data": {
            "text/plain": [
              "           High        Low       Open      Close     Volume  Adj Close  \\\n",
              "0      0.128906   0.128348   0.128348   0.128348  469033600   0.100039   \n",
              "1      0.122210   0.121652   0.122210   0.121652  175884800   0.094820   \n",
              "2      0.113281   0.112723   0.113281   0.112723  105728000   0.087861   \n",
              "3      0.116071   0.115513   0.115513   0.115513   86441600   0.090035   \n",
              "4      0.119420   0.118862   0.118862   0.118862   73449600   0.092646   \n",
              "...         ...        ...        ...        ...        ...        ...   \n",
              "8075  18.571428  17.901072  18.176071  18.529642  757607200  15.961703   \n",
              "8076  19.103571  18.580357  18.750000  19.067858  625685200  16.425322   \n",
              "8077  19.060715  18.767857  18.981071  18.796785  449369200  16.191816   \n",
              "8078  18.935715  18.531429  18.928572  18.633215  481689600  16.050920   \n",
              "8079  18.559643  18.222857  18.302500  18.547501  596268400  15.977083   \n",
              "\n",
              "        average      EMA20       EMA5  dist_EMA20  dist_EMA5  \n",
              "0      0.128487   0.128487   0.128487    0.000000   0.000000  \n",
              "1      0.121931   0.127863   0.126302   -4.639389  -3.460749  \n",
              "2      0.113002   0.126448   0.121869  -10.633428  -7.275591  \n",
              "3      0.115652   0.125420   0.119797   -7.787547  -3.459289  \n",
              "4      0.119002   0.124808   0.119532   -4.652620  -0.443457  \n",
              "...         ...        ...        ...         ...        ...  \n",
              "8075  18.294553  19.638589  18.730060   -6.843849  -2.325174  \n",
              "8076  18.875446  19.565908  18.778522   -3.528904   0.516145  \n",
              "8077  18.901607  19.502642  18.819550   -3.081811   0.436018  \n",
              "8078  18.757233  19.431650  18.798778   -3.470717  -0.220999  \n",
              "8079  18.408125  19.334172  18.668560   -4.789689  -1.395047  \n",
              "\n",
              "[8080 rows x 11 columns]"
            ],
            "text/html": [
              "\n",
              "  <div id=\"df-f9ae1869-b337-4752-91d8-af3213ae0bc6\">\n",
              "    <div class=\"colab-df-container\">\n",
              "      <div>\n",
              "<style scoped>\n",
              "    .dataframe tbody tr th:only-of-type {\n",
              "        vertical-align: middle;\n",
              "    }\n",
              "\n",
              "    .dataframe tbody tr th {\n",
              "        vertical-align: top;\n",
              "    }\n",
              "\n",
              "    .dataframe thead th {\n",
              "        text-align: right;\n",
              "    }\n",
              "</style>\n",
              "<table border=\"1\" class=\"dataframe\">\n",
              "  <thead>\n",
              "    <tr style=\"text-align: right;\">\n",
              "      <th></th>\n",
              "      <th>High</th>\n",
              "      <th>Low</th>\n",
              "      <th>Open</th>\n",
              "      <th>Close</th>\n",
              "      <th>Volume</th>\n",
              "      <th>Adj Close</th>\n",
              "      <th>average</th>\n",
              "      <th>EMA20</th>\n",
              "      <th>EMA5</th>\n",
              "      <th>dist_EMA20</th>\n",
              "      <th>dist_EMA5</th>\n",
              "    </tr>\n",
              "  </thead>\n",
              "  <tbody>\n",
              "    <tr>\n",
              "      <th>0</th>\n",
              "      <td>0.128906</td>\n",
              "      <td>0.128348</td>\n",
              "      <td>0.128348</td>\n",
              "      <td>0.128348</td>\n",
              "      <td>469033600</td>\n",
              "      <td>0.100039</td>\n",
              "      <td>0.128487</td>\n",
              "      <td>0.128487</td>\n",
              "      <td>0.128487</td>\n",
              "      <td>0.000000</td>\n",
              "      <td>0.000000</td>\n",
              "    </tr>\n",
              "    <tr>\n",
              "      <th>1</th>\n",
              "      <td>0.122210</td>\n",
              "      <td>0.121652</td>\n",
              "      <td>0.122210</td>\n",
              "      <td>0.121652</td>\n",
              "      <td>175884800</td>\n",
              "      <td>0.094820</td>\n",
              "      <td>0.121931</td>\n",
              "      <td>0.127863</td>\n",
              "      <td>0.126302</td>\n",
              "      <td>-4.639389</td>\n",
              "      <td>-3.460749</td>\n",
              "    </tr>\n",
              "    <tr>\n",
              "      <th>2</th>\n",
              "      <td>0.113281</td>\n",
              "      <td>0.112723</td>\n",
              "      <td>0.113281</td>\n",
              "      <td>0.112723</td>\n",
              "      <td>105728000</td>\n",
              "      <td>0.087861</td>\n",
              "      <td>0.113002</td>\n",
              "      <td>0.126448</td>\n",
              "      <td>0.121869</td>\n",
              "      <td>-10.633428</td>\n",
              "      <td>-7.275591</td>\n",
              "    </tr>\n",
              "    <tr>\n",
              "      <th>3</th>\n",
              "      <td>0.116071</td>\n",
              "      <td>0.115513</td>\n",
              "      <td>0.115513</td>\n",
              "      <td>0.115513</td>\n",
              "      <td>86441600</td>\n",
              "      <td>0.090035</td>\n",
              "      <td>0.115652</td>\n",
              "      <td>0.125420</td>\n",
              "      <td>0.119797</td>\n",
              "      <td>-7.787547</td>\n",
              "      <td>-3.459289</td>\n",
              "    </tr>\n",
              "    <tr>\n",
              "      <th>4</th>\n",
              "      <td>0.119420</td>\n",
              "      <td>0.118862</td>\n",
              "      <td>0.118862</td>\n",
              "      <td>0.118862</td>\n",
              "      <td>73449600</td>\n",
              "      <td>0.092646</td>\n",
              "      <td>0.119002</td>\n",
              "      <td>0.124808</td>\n",
              "      <td>0.119532</td>\n",
              "      <td>-4.652620</td>\n",
              "      <td>-0.443457</td>\n",
              "    </tr>\n",
              "    <tr>\n",
              "      <th>...</th>\n",
              "      <td>...</td>\n",
              "      <td>...</td>\n",
              "      <td>...</td>\n",
              "      <td>...</td>\n",
              "      <td>...</td>\n",
              "      <td>...</td>\n",
              "      <td>...</td>\n",
              "      <td>...</td>\n",
              "      <td>...</td>\n",
              "      <td>...</td>\n",
              "      <td>...</td>\n",
              "    </tr>\n",
              "    <tr>\n",
              "      <th>8075</th>\n",
              "      <td>18.571428</td>\n",
              "      <td>17.901072</td>\n",
              "      <td>18.176071</td>\n",
              "      <td>18.529642</td>\n",
              "      <td>757607200</td>\n",
              "      <td>15.961703</td>\n",
              "      <td>18.294553</td>\n",
              "      <td>19.638589</td>\n",
              "      <td>18.730060</td>\n",
              "      <td>-6.843849</td>\n",
              "      <td>-2.325174</td>\n",
              "    </tr>\n",
              "    <tr>\n",
              "      <th>8076</th>\n",
              "      <td>19.103571</td>\n",
              "      <td>18.580357</td>\n",
              "      <td>18.750000</td>\n",
              "      <td>19.067858</td>\n",
              "      <td>625685200</td>\n",
              "      <td>16.425322</td>\n",
              "      <td>18.875446</td>\n",
              "      <td>19.565908</td>\n",
              "      <td>18.778522</td>\n",
              "      <td>-3.528904</td>\n",
              "      <td>0.516145</td>\n",
              "    </tr>\n",
              "    <tr>\n",
              "      <th>8077</th>\n",
              "      <td>19.060715</td>\n",
              "      <td>18.767857</td>\n",
              "      <td>18.981071</td>\n",
              "      <td>18.796785</td>\n",
              "      <td>449369200</td>\n",
              "      <td>16.191816</td>\n",
              "      <td>18.901607</td>\n",
              "      <td>19.502642</td>\n",
              "      <td>18.819550</td>\n",
              "      <td>-3.081811</td>\n",
              "      <td>0.436018</td>\n",
              "    </tr>\n",
              "    <tr>\n",
              "      <th>8078</th>\n",
              "      <td>18.935715</td>\n",
              "      <td>18.531429</td>\n",
              "      <td>18.928572</td>\n",
              "      <td>18.633215</td>\n",
              "      <td>481689600</td>\n",
              "      <td>16.050920</td>\n",
              "      <td>18.757233</td>\n",
              "      <td>19.431650</td>\n",
              "      <td>18.798778</td>\n",
              "      <td>-3.470717</td>\n",
              "      <td>-0.220999</td>\n",
              "    </tr>\n",
              "    <tr>\n",
              "      <th>8079</th>\n",
              "      <td>18.559643</td>\n",
              "      <td>18.222857</td>\n",
              "      <td>18.302500</td>\n",
              "      <td>18.547501</td>\n",
              "      <td>596268400</td>\n",
              "      <td>15.977083</td>\n",
              "      <td>18.408125</td>\n",
              "      <td>19.334172</td>\n",
              "      <td>18.668560</td>\n",
              "      <td>-4.789689</td>\n",
              "      <td>-1.395047</td>\n",
              "    </tr>\n",
              "  </tbody>\n",
              "</table>\n",
              "<p>8080 rows × 11 columns</p>\n",
              "</div>\n",
              "      <button class=\"colab-df-convert\" onclick=\"convertToInteractive('df-f9ae1869-b337-4752-91d8-af3213ae0bc6')\"\n",
              "              title=\"Convert this dataframe to an interactive table.\"\n",
              "              style=\"display:none;\">\n",
              "        \n",
              "  <svg xmlns=\"http://www.w3.org/2000/svg\" height=\"24px\"viewBox=\"0 0 24 24\"\n",
              "       width=\"24px\">\n",
              "    <path d=\"M0 0h24v24H0V0z\" fill=\"none\"/>\n",
              "    <path d=\"M18.56 5.44l.94 2.06.94-2.06 2.06-.94-2.06-.94-.94-2.06-.94 2.06-2.06.94zm-11 1L8.5 8.5l.94-2.06 2.06-.94-2.06-.94L8.5 2.5l-.94 2.06-2.06.94zm10 10l.94 2.06.94-2.06 2.06-.94-2.06-.94-.94-2.06-.94 2.06-2.06.94z\"/><path d=\"M17.41 7.96l-1.37-1.37c-.4-.4-.92-.59-1.43-.59-.52 0-1.04.2-1.43.59L10.3 9.45l-7.72 7.72c-.78.78-.78 2.05 0 2.83L4 21.41c.39.39.9.59 1.41.59.51 0 1.02-.2 1.41-.59l7.78-7.78 2.81-2.81c.8-.78.8-2.07 0-2.86zM5.41 20L4 18.59l7.72-7.72 1.47 1.35L5.41 20z\"/>\n",
              "  </svg>\n",
              "      </button>\n",
              "      \n",
              "  <style>\n",
              "    .colab-df-container {\n",
              "      display:flex;\n",
              "      flex-wrap:wrap;\n",
              "      gap: 12px;\n",
              "    }\n",
              "\n",
              "    .colab-df-convert {\n",
              "      background-color: #E8F0FE;\n",
              "      border: none;\n",
              "      border-radius: 50%;\n",
              "      cursor: pointer;\n",
              "      display: none;\n",
              "      fill: #1967D2;\n",
              "      height: 32px;\n",
              "      padding: 0 0 0 0;\n",
              "      width: 32px;\n",
              "    }\n",
              "\n",
              "    .colab-df-convert:hover {\n",
              "      background-color: #E2EBFA;\n",
              "      box-shadow: 0px 1px 2px rgba(60, 64, 67, 0.3), 0px 1px 3px 1px rgba(60, 64, 67, 0.15);\n",
              "      fill: #174EA6;\n",
              "    }\n",
              "\n",
              "    [theme=dark] .colab-df-convert {\n",
              "      background-color: #3B4455;\n",
              "      fill: #D2E3FC;\n",
              "    }\n",
              "\n",
              "    [theme=dark] .colab-df-convert:hover {\n",
              "      background-color: #434B5C;\n",
              "      box-shadow: 0px 1px 3px 1px rgba(0, 0, 0, 0.15);\n",
              "      filter: drop-shadow(0px 1px 2px rgba(0, 0, 0, 0.3));\n",
              "      fill: #FFFFFF;\n",
              "    }\n",
              "  </style>\n",
              "\n",
              "      <script>\n",
              "        const buttonEl =\n",
              "          document.querySelector('#df-f9ae1869-b337-4752-91d8-af3213ae0bc6 button.colab-df-convert');\n",
              "        buttonEl.style.display =\n",
              "          google.colab.kernel.accessAllowed ? 'block' : 'none';\n",
              "\n",
              "        async function convertToInteractive(key) {\n",
              "          const element = document.querySelector('#df-f9ae1869-b337-4752-91d8-af3213ae0bc6');\n",
              "          const dataTable =\n",
              "            await google.colab.kernel.invokeFunction('convertToInteractive',\n",
              "                                                     [key], {});\n",
              "          if (!dataTable) return;\n",
              "\n",
              "          const docLinkHtml = 'Like what you see? Visit the ' +\n",
              "            '<a target=\"_blank\" href=https://colab.research.google.com/notebooks/data_table.ipynb>data table notebook</a>'\n",
              "            + ' to learn more about interactive tables.';\n",
              "          element.innerHTML = '';\n",
              "          dataTable['output_type'] = 'display_data';\n",
              "          await google.colab.output.renderOutput(dataTable, element);\n",
              "          const docLink = document.createElement('div');\n",
              "          docLink.innerHTML = docLinkHtml;\n",
              "          element.appendChild(docLink);\n",
              "        }\n",
              "      </script>\n",
              "    </div>\n",
              "  </div>\n",
              "  "
            ]
          },
          "metadata": {},
          "execution_count": 50
        }
      ]
    },
    {
      "cell_type": "code",
      "source": [
        "apple_Close= apple.iloc[:,3].values.reshape(-1,1)\n",
        "apple_Close"
      ],
      "metadata": {
        "colab": {
          "base_uri": "https://localhost:8080/"
        },
        "id": "5YQ3u0iUpweC",
        "outputId": "a119af9a-dbf6-41cb-e91f-cd689b219716"
      },
      "execution_count": 51,
      "outputs": [
        {
          "output_type": "execute_result",
          "data": {
            "text/plain": [
              "array([[ 0.12834799],\n",
              "       [ 0.121652  ],\n",
              "       [ 0.112723  ],\n",
              "       ...,\n",
              "       [18.79678535],\n",
              "       [18.63321495],\n",
              "       [18.54750061]])"
            ]
          },
          "metadata": {},
          "execution_count": 51
        }
      ]
    },
    {
      "cell_type": "code",
      "source": [
        "from sklearn.preprocessing import MinMaxScaler\n",
        "ss= MinMaxScaler(feature_range=(0,1))\n",
        "apple_Close_scaled= ss.fit_transform(apple_Close)"
      ],
      "metadata": {
        "id": "hAwJD3Iwp16V"
      },
      "execution_count": 52,
      "outputs": []
    },
    {
      "cell_type": "code",
      "source": [
        "xtrain=[]\n",
        "ytrain=[]\n",
        "for i in range(30,len(apple_Close_scaled)):\n",
        "    xtrain.append(apple_Close_scaled[i-30:i,0])\n",
        "    ytrain.append(apple_Close_scaled[i,0])\n",
        "\n",
        "xtrain, ytrain = np.array(xtrain), np.array(ytrain)\n",
        "\n",
        "xtrain= np.reshape(xtrain,(xtrain.shape[0],xtrain.shape[1],1))\n",
        "print(xtrain.shape)\n",
        "print(ytrain.shape)"
      ],
      "metadata": {
        "colab": {
          "base_uri": "https://localhost:8080/"
        },
        "id": "lTaPfDL6p-ej",
        "outputId": "43a1798b-876e-4dc1-ba16-2e262333ea8e"
      },
      "execution_count": 53,
      "outputs": [
        {
          "output_type": "stream",
          "name": "stdout",
          "text": [
            "(8050, 30, 1)\n",
            "(8050,)\n"
          ]
        }
      ]
    },
    {
      "cell_type": "code",
      "source": [
        "regression= Sequential()\n",
        "\n",
        "#First Input layer and LSTM layer with 0.2% dropout\n",
        "regression.add(LSTM(units=50,return_sequences=True,kernel_initializer='glorot_uniform',input_shape=(xtrain.shape[1],1)))\n",
        "regression.add(Dropout(0.2))\n",
        "\n",
        "# Where:\n",
        "#     return_sequences: Boolean. Whether to return the last output in the output sequence, or the full sequence.\n",
        "\n",
        "# Second LSTM layer with 0.2% dropout\n",
        "regression.add(LSTM(units=50,kernel_initializer='glorot_uniform',return_sequences=True))\n",
        "regression.add(Dropout(0.2))\n",
        "\n",
        "#Third LSTM layer with 0.2% dropout\n",
        "regression.add(LSTM(units=50,kernel_initializer='glorot_uniform',return_sequences=True))\n",
        "regression.add(Dropout(0.2))\n",
        "\n",
        "#Fourth LSTM layer with 0.2% dropout, we wont use return sequence true in last layers as we dont want to previous output\n",
        "regression.add(LSTM(units=50,kernel_initializer='glorot_uniform'))\n",
        "regression.add(Dropout(0.2))\n",
        "#Output layer , we wont pass any activation as its continous value model\n",
        "regression.add(Dense(units=1))\n",
        "\n",
        "#Compiling the network\n",
        "regression.compile(optimizer='adam',loss='mean_squared_error')\n",
        "\n",
        "\n",
        "#fitting the network\n",
        "regression.fit(xtrain,ytrain,batch_size=30,epochs=50)"
      ],
      "metadata": {
        "colab": {
          "base_uri": "https://localhost:8080/"
        },
        "id": "yBcv38FgqEjy",
        "outputId": "294caa89-710b-411e-8b35-679f505bedd0"
      },
      "execution_count": 54,
      "outputs": [
        {
          "output_type": "stream",
          "name": "stdout",
          "text": [
            "Epoch 1/50\n",
            "269/269 [==============================] - 27s 66ms/step - loss: 0.0013\n",
            "Epoch 2/50\n",
            "269/269 [==============================] - 18s 65ms/step - loss: 8.3016e-04\n",
            "Epoch 3/50\n",
            "269/269 [==============================] - 18s 65ms/step - loss: 6.4861e-04\n",
            "Epoch 4/50\n",
            "269/269 [==============================] - 17s 65ms/step - loss: 5.9831e-04\n",
            "Epoch 5/50\n",
            "269/269 [==============================] - 17s 64ms/step - loss: 5.0216e-04\n",
            "Epoch 6/50\n",
            "269/269 [==============================] - 18s 65ms/step - loss: 4.7129e-04\n",
            "Epoch 7/50\n",
            "269/269 [==============================] - 17s 65ms/step - loss: 4.6784e-04\n",
            "Epoch 8/50\n",
            "269/269 [==============================] - 17s 64ms/step - loss: 4.7152e-04\n",
            "Epoch 9/50\n",
            "269/269 [==============================] - 18s 65ms/step - loss: 4.4139e-04\n",
            "Epoch 10/50\n",
            "269/269 [==============================] - 17s 65ms/step - loss: 4.3655e-04\n",
            "Epoch 11/50\n",
            "269/269 [==============================] - 17s 64ms/step - loss: 4.3382e-04\n",
            "Epoch 12/50\n",
            "269/269 [==============================] - 17s 65ms/step - loss: 4.0640e-04\n",
            "Epoch 13/50\n",
            "269/269 [==============================] - 18s 68ms/step - loss: 4.4005e-04\n",
            "Epoch 14/50\n",
            "269/269 [==============================] - 18s 66ms/step - loss: 4.2645e-04\n",
            "Epoch 15/50\n",
            "269/269 [==============================] - 17s 64ms/step - loss: 4.2741e-04\n",
            "Epoch 16/50\n",
            "269/269 [==============================] - 17s 64ms/step - loss: 4.9002e-04\n",
            "Epoch 17/50\n",
            "269/269 [==============================] - 17s 65ms/step - loss: 3.8832e-04\n",
            "Epoch 18/50\n",
            "269/269 [==============================] - 17s 65ms/step - loss: 3.8272e-04\n",
            "Epoch 19/50\n",
            "269/269 [==============================] - 17s 65ms/step - loss: 3.4657e-04\n",
            "Epoch 20/50\n",
            "269/269 [==============================] - 17s 64ms/step - loss: 4.4382e-04\n",
            "Epoch 21/50\n",
            "269/269 [==============================] - 17s 65ms/step - loss: 3.6754e-04\n",
            "Epoch 22/50\n",
            "269/269 [==============================] - 17s 65ms/step - loss: 4.0046e-04\n",
            "Epoch 23/50\n",
            "269/269 [==============================] - 18s 66ms/step - loss: 3.5260e-04\n",
            "Epoch 24/50\n",
            "269/269 [==============================] - 18s 67ms/step - loss: 3.7958e-04\n",
            "Epoch 25/50\n",
            "269/269 [==============================] - 17s 65ms/step - loss: 4.1600e-04\n",
            "Epoch 26/50\n",
            "269/269 [==============================] - 17s 65ms/step - loss: 3.4683e-04\n",
            "Epoch 27/50\n",
            "269/269 [==============================] - 18s 65ms/step - loss: 3.7960e-04\n",
            "Epoch 28/50\n",
            "269/269 [==============================] - 17s 65ms/step - loss: 4.2939e-04\n",
            "Epoch 29/50\n",
            "269/269 [==============================] - 19s 69ms/step - loss: 3.8040e-04\n",
            "Epoch 30/50\n",
            "269/269 [==============================] - 18s 65ms/step - loss: 3.5648e-04\n",
            "Epoch 31/50\n",
            "269/269 [==============================] - 17s 65ms/step - loss: 3.3965e-04\n",
            "Epoch 32/50\n",
            "269/269 [==============================] - 18s 66ms/step - loss: 3.6278e-04\n",
            "Epoch 33/50\n",
            "269/269 [==============================] - 18s 69ms/step - loss: 3.3787e-04\n",
            "Epoch 34/50\n",
            "269/269 [==============================] - 18s 68ms/step - loss: 3.7895e-04\n",
            "Epoch 35/50\n",
            "269/269 [==============================] - 19s 69ms/step - loss: 3.0933e-04\n",
            "Epoch 36/50\n",
            "269/269 [==============================] - 19s 71ms/step - loss: 3.6761e-04\n",
            "Epoch 37/50\n",
            "269/269 [==============================] - 18s 68ms/step - loss: 3.4299e-04\n",
            "Epoch 38/50\n",
            "269/269 [==============================] - 18s 67ms/step - loss: 3.4209e-04\n",
            "Epoch 39/50\n",
            "269/269 [==============================] - 18s 67ms/step - loss: 3.7353e-04\n",
            "Epoch 40/50\n",
            "269/269 [==============================] - 18s 67ms/step - loss: 3.4815e-04\n",
            "Epoch 41/50\n",
            "269/269 [==============================] - 18s 67ms/step - loss: 3.7110e-04\n",
            "Epoch 42/50\n",
            "269/269 [==============================] - 18s 67ms/step - loss: 2.6625e-04\n",
            "Epoch 43/50\n",
            "269/269 [==============================] - 18s 67ms/step - loss: 3.4027e-04\n",
            "Epoch 44/50\n",
            "269/269 [==============================] - 19s 70ms/step - loss: 3.4649e-04\n",
            "Epoch 45/50\n",
            "269/269 [==============================] - 18s 66ms/step - loss: 3.5548e-04\n",
            "Epoch 46/50\n",
            "269/269 [==============================] - 18s 66ms/step - loss: 3.5134e-04\n",
            "Epoch 47/50\n",
            "269/269 [==============================] - 18s 65ms/step - loss: 3.2647e-04\n",
            "Epoch 48/50\n",
            "269/269 [==============================] - 18s 66ms/step - loss: 3.3456e-04\n",
            "Epoch 49/50\n",
            "269/269 [==============================] - 18s 65ms/step - loss: 3.2632e-04\n",
            "Epoch 50/50\n",
            "269/269 [==============================] - 18s 66ms/step - loss: 3.0733e-04\n"
          ]
        },
        {
          "output_type": "execute_result",
          "data": {
            "text/plain": [
              "<keras.callbacks.History at 0x7f2c8a75b4f0>"
            ]
          },
          "metadata": {},
          "execution_count": 54
        }
      ]
    },
    {
      "cell_type": "code",
      "source": [
        "testdata_Close= testdata.iloc[:,3].values.reshape(-1,1) #taking  Close price"
      ],
      "metadata": {
        "id": "fk1xnY0Nt3Ya"
      },
      "execution_count": 55,
      "outputs": []
    },
    {
      "cell_type": "code",
      "source": [
        "from sklearn.preprocessing import MinMaxScaler\n",
        "ss= MinMaxScaler(feature_range=(0,1))\n",
        "testdata_Close= ss.fit_transform(testdata_Close)"
      ],
      "metadata": {
        "id": "YQrC-l_SuCao"
      },
      "execution_count": 57,
      "outputs": []
    },
    {
      "cell_type": "code",
      "source": [
        "testdata_Close.shape"
      ],
      "metadata": {
        "colab": {
          "base_uri": "https://localhost:8080/"
        },
        "id": "ZvgGvK_8uMpV",
        "outputId": "482895f9-4b9b-412a-89ad-99fe22f18320"
      },
      "execution_count": 58,
      "outputs": [
        {
          "output_type": "execute_result",
          "data": {
            "text/plain": [
              "(2020, 1)"
            ]
          },
          "metadata": {},
          "execution_count": 58
        }
      ]
    },
    {
      "cell_type": "code",
      "source": [
        "xtest=[]\n",
        "ytest=[]\n",
        "for i in range(30,len(testdata_Close)):\n",
        "    xtest.append(testdata_Close[i-30:i,0])\n",
        "    ytest.append(testdata_Close[i,0])\n",
        "\n",
        "xtest, ytest = np.array(xtest), np.array(ytest)\n",
        "\n",
        "xtest= np.reshape(xtest,(xtest.shape[0],xtest.shape[1],1))\n",
        "print(xtest.shape)\n",
        "print(ytest.shape)"
      ],
      "metadata": {
        "colab": {
          "base_uri": "https://localhost:8080/"
        },
        "id": "B2l7DRwiuQsD",
        "outputId": "50b20633-4afd-4880-d988-8da38784ede1"
      },
      "execution_count": 59,
      "outputs": [
        {
          "output_type": "stream",
          "name": "stdout",
          "text": [
            "(1990, 30, 1)\n",
            "(1990,)\n"
          ]
        }
      ]
    },
    {
      "cell_type": "code",
      "source": [
        "predicted_value= regression.predict(xtest)"
      ],
      "metadata": {
        "colab": {
          "base_uri": "https://localhost:8080/"
        },
        "id": "YZ8dOu-Fulf0",
        "outputId": "1f137111-01ce-4bb8-f97c-3c1e9edf69cd"
      },
      "execution_count": 61,
      "outputs": [
        {
          "output_type": "stream",
          "name": "stdout",
          "text": [
            "63/63 [==============================] - 3s 19ms/step\n"
          ]
        }
      ]
    },
    {
      "cell_type": "code",
      "source": [
        "predicted_value.shape"
      ],
      "metadata": {
        "colab": {
          "base_uri": "https://localhost:8080/"
        },
        "id": "ih8rh_2xv_Uw",
        "outputId": "b4a4a9be-e33f-40bb-8538-55fad0988d86"
      },
      "execution_count": 62,
      "outputs": [
        {
          "output_type": "execute_result",
          "data": {
            "text/plain": [
              "(1990, 1)"
            ]
          },
          "metadata": {},
          "execution_count": 62
        }
      ]
    },
    {
      "cell_type": "code",
      "source": [
        "plt.figure(figsize=(20,10))\n",
        "plt.plot(y_test,'red',label='Actual Stock Prices')\n",
        "plt.plot(predicted_value*100,'blue',label='Predicted Prices')\n",
        "plt.xlabel('Time')\n",
        "plt.ylabel('Prices')\n",
        "plt.title('Actual Stock vs Predicted Prices')\n",
        "plt.legend(loc='best', fontsize=20)"
      ],
      "metadata": {
        "colab": {
          "base_uri": "https://localhost:8080/",
          "height": 638
        },
        "id": "L8Ppd8Shwvdg",
        "outputId": "990f5b9b-f103-4a61-f012-8e3747d89515"
      },
      "execution_count": 63,
      "outputs": [
        {
          "output_type": "execute_result",
          "data": {
            "text/plain": [
              "<matplotlib.legend.Legend at 0x7f2c8ae709a0>"
            ]
          },
          "metadata": {},
          "execution_count": 63
        },
        {
          "output_type": "display_data",
          "data": {
            "text/plain": [
              "<Figure size 1440x720 with 1 Axes>"
            ],
            "image/png": "[encoded data removed]"
          },
          "metadata": {}
        }
      ]
    }
  ]
}