{
  "nbformat": 4,
  "nbformat_minor": 0,
  "metadata": {
    "colab": {
      "provenance": [],
      "authorship_tag": "ABX9TyP6z0Hym+97l4Z0H0suuh1j",
      "include_colab_link": true
    },
    "kernelspec": {
      "name": "python3",
      "display_name": "Python 3"
    },
    "language_info": {
      "name": "python"
    }
  },
  "cells": [
    {
      "cell_type": "markdown",
      "metadata": {
        "id": "view-in-github",
        "colab_type": "text"
      },
      "source": [
        "<a href=\"https://colab.research.google.com/github/abosedealli/Stockprediction/blob/main/fiserv%20long%20term%20dataset.ipynb\" target=\"_parent\"><img src=\"https://colab.research.google.com/assets/colab-badge.svg\" alt=\"Open In Colab\"/></a>"
      ]
    },
    {
      "cell_type": "code",
      "execution_count": 161,
      "metadata": {
        "colab": {
          "base_uri": "https://localhost:8080/"
        },
        "id": "4Egj52uUcaRa",
        "outputId": "1988b8b0-06b0-49bf-a19a-0cd786d9e60e"
      },
      "outputs": [
        {
          "output_type": "stream",
          "name": "stdout",
          "text": [
            "Looking in indexes: https://pypi.org/simple, https://us-python.pkg.dev/colab-wheels/public/simple/\n",
            "Requirement already satisfied: pandas in /usr/local/lib/python3.8/dist-packages (1.3.5)\n",
            "Requirement already satisfied: numpy>=1.17.3 in /usr/local/lib/python3.8/dist-packages (from pandas) (1.21.6)\n",
            "Requirement already satisfied: python-dateutil>=2.7.3 in /usr/local/lib/python3.8/dist-packages (from pandas) (2.8.2)\n",
            "Requirement already satisfied: pytz>=2017.3 in /usr/local/lib/python3.8/dist-packages (from pandas) (2022.7.1)\n",
            "Requirement already satisfied: six>=1.5 in /usr/local/lib/python3.8/dist-packages (from python-dateutil>=2.7.3->pandas) (1.15.0)\n"
          ]
        }
      ],
      "source": [
        "!pip install pandas \n",
        "import pandas as pd\n",
        "import numpy as np\n",
        "import matplotlib.pyplot as plt\n",
        "from keras.callbacks import History \n",
        "import seaborn as sns\n",
        "from keras.callbacks import History \n",
        "from sklearn.metrics import mean_squared_error\n",
        "import numpy as np\n",
        "from sklearn.preprocessing import MinMaxScaler\n",
        "from sklearn.model_selection import train_test_split\n",
        "from datetime import datetime"
      ]
    },
    {
      "cell_type": "code",
      "source": [
        "data= pd.read_csv(\"/content/fiserv.csv\")\n",
        "data.shape\n",
        "fiserv = data.iloc[:int(0.8*len(data))]\n",
        "print(fiserv.shape)\n",
        "fiserv.info()\n"
      ],
      "metadata": {
        "colab": {
          "base_uri": "https://localhost:8080/"
        },
        "id": "veVFAVYMc34m",
        "outputId": "342acf6d-5d1f-4a70-f706-8bba5c4cf2fc"
      },
      "execution_count": 162,
      "outputs": [
        {
          "output_type": "stream",
          "name": "stdout",
          "text": [
            "(7330, 7)\n",
            "<class 'pandas.core.frame.DataFrame'>\n",
            "RangeIndex: 7330 entries, 0 to 7329\n",
            "Data columns (total 7 columns):\n",
            " #   Column     Non-Null Count  Dtype  \n",
            "---  ------     --------------  -----  \n",
            " 0   Date       7330 non-null   object \n",
            " 1   Open       7330 non-null   float64\n",
            " 2   High       7330 non-null   float64\n",
            " 3   Low        7330 non-null   float64\n",
            " 4   Close      7330 non-null   float64\n",
            " 5   Adj Close  7330 non-null   float64\n",
            " 6   Volume     7330 non-null   float64\n",
            "dtypes: float64(6), object(1)\n",
            "memory usage: 401.0+ KB\n"
          ]
        }
      ]
    },
    {
      "cell_type": "code",
      "source": [
        "fiserv.set_index(pd.DatetimeIndex(fiserv['Date']), inplace=True)"
      ],
      "metadata": {
        "id": "etJo2NCic3c6"
      },
      "execution_count": 164,
      "outputs": []
    },
    {
      "cell_type": "code",
      "source": [
        "fiserv_model_data=fiserv[['Adj Close', 'Close']]"
      ],
      "metadata": {
        "id": "jSZDzbPv8KJd"
      },
      "execution_count": 167,
      "outputs": []
    },
    {
      "cell_type": "code",
      "source": [
        "X = fiserv_model_data[['Adj Close']]\n",
        "Y = fiserv_model_data['Close']"
      ],
      "metadata": {
        "id": "TSgVQOBK8P43"
      },
      "execution_count": 168,
      "outputs": []
    },
    {
      "cell_type": "code",
      "source": [
        "X_train, X_test, y_train, y_test = train_test_split(X, Y, test_size=0.2, random_state = 25)"
      ],
      "metadata": {
        "id": "mGex-NfT9DpB"
      },
      "execution_count": 183,
      "outputs": []
    },
    {
      "cell_type": "code",
      "source": [
        "print(X_test.describe())"
      ],
      "metadata": {
        "colab": {
          "base_uri": "https://localhost:8080/"
        },
        "id": "FKEHqNs89N9G",
        "outputId": "a331c9e3-0283-4c0e-b096-67c238fcc55c"
      },
      "execution_count": 184,
      "outputs": [
        {
          "output_type": "stream",
          "name": "stdout",
          "text": [
            "         Adj Close\n",
            "count  1466.000000\n",
            "mean      8.823655\n",
            "std       9.118971\n",
            "min       0.257888\n",
            "25%       1.481481\n",
            "50%       7.911459\n",
            "75%      12.256875\n",
            "max      45.669998\n"
          ]
        }
      ]
    },
    {
      "cell_type": "code",
      "source": [
        "print(y_train.describe())"
      ],
      "metadata": {
        "colab": {
          "base_uri": "https://localhost:8080/"
        },
        "id": "xEoakU3A9qGO",
        "outputId": "349aa7a0-91eb-4d34-fdee-09ba00ee7d4a"
      },
      "execution_count": 185,
      "outputs": [
        {
          "output_type": "stream",
          "name": "stdout",
          "text": [
            "count    5864.000000\n",
            "mean        8.920188\n",
            "std         9.141309\n",
            "min         0.257888\n",
            "25%         1.518519\n",
            "50%         8.063750\n",
            "75%        12.153750\n",
            "max        47.255001\n",
            "Name: Close, dtype: float64\n"
          ]
        }
      ]
    },
    {
      "cell_type": "code",
      "source": [
        "def mean_absolute_percentage_error(y_true, y_pred):\n",
        "  y_true, y_pred = np.array(y_true), np.array(y_pred)\n",
        "  mape = np.mean(np.abs((y_true - y_pred) / y_true))*100\n",
        "  return mape"
      ],
      "metadata": {
        "id": "fr3fxWjN9m2J"
      },
      "execution_count": 186,
      "outputs": []
    },
    {
      "cell_type": "code",
      "source": [
        "from sklearn.metrics import mean_absolute_error, r2_score\n",
        "#from sklearn.metrics import root_mean_squared_error \n",
        "from sklearn.linear_model import LinearRegression\n",
        "reg = LinearRegression()\n",
        "reg.fit(X_train, y_train)\n",
        "\n",
        "# Make the prediction\n",
        "y_pred = reg.predict(X_test)\n",
        "\n",
        "# Evaluate the model\n",
        "mse = mean_squared_error(y_test, y_pred)\n",
        "rmse = (mean_squared_error(y_test, y_pred))**2\n",
        "r2 = r2_score(y_test, y_pred)\n",
        "mape= mean_absolute_percentage_error(y_test, y_pred)\n",
        "print('Mean abosulte percentage error:', mape)\n",
        "print('root_mean_squared_error :', rmse)\n",
        "mae = mean_absolute_error(y_test, y_pred)\n",
        "print('Mean Absolute Error:', mae)\n",
        "print('Mean Squared Error:', mse)"
      ],
      "metadata": {
        "colab": {
          "base_uri": "https://localhost:8080/"
        },
        "id": "3KWniRbY-jVH",
        "outputId": "a0c739a5-95fd-44b0-e174-870b54c72e8e"
      },
      "execution_count": 187,
      "outputs": [
        {
          "output_type": "stream",
          "name": "stdout",
          "text": [
            "Mean abosulte percentage error: 8.67027042171358e-14\n",
            "root_mean_squared_error : 2.263536569791406e-59\n",
            "Mean Absolute Error: 1.46157907665438e-15\n",
            "Mean Squared Error: 4.757663890809654e-30\n"
          ]
        }
      ]
    }
  ]
}