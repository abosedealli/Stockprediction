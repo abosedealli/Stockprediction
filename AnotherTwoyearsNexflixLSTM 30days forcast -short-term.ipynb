{
  "nbformat": 4,
  "nbformat_minor": 0,
  "metadata": {
    "colab": {
      "provenance": [],
      "include_colab_link": true
    },
    "kernelspec": {
      "name": "python3",
      "display_name": "Python 3"
    },
    "language_info": {
      "name": "python"
    }
  },
  "cells": [
    {
      "cell_type": "markdown",
      "metadata": {
        "id": "view-in-github",
        "colab_type": "text"
      },
      "source": [
        "<a href=\"https://colab.research.google.com/github/abosedealli/Stockprediction/blob/main/AnotherTwoyearsNexflixLSTM%2030days%20forcast%20-short-term.ipynb\" target=\"_parent\"><img src=\"https://colab.research.google.com/assets/colab-badge.svg\" alt=\"Open In Colab\"/></a>"
      ]
    },
    {
      "cell_type": "code",
      "source": [],
      "metadata": {
        "id": "ZtMS6BvcQYYf"
      },
      "execution_count": null,
      "outputs": []
    },
    {
      "cell_type": "code",
      "source": [
        "!pip install pandas\n",
        "from keras.models import Sequential\n",
        "from keras.layers import LSTM, Dense\n",
        "import numpy as np\n",
        "import pandas as pd\n",
        "import matplotlib.pyplot as plt\n",
        "from keras.models import Sequential\n",
        "from keras.layers import Dense\n",
        "from keras.layers import LSTM\n",
        "from keras.layers import Dropout\n",
        "from sklearn.preprocessing import MinMaxScaler,StandardScaler\n",
        "from keras.layers import *\n",
        "from keras.callbacks import EarlyStopping \n",
        "\n",
        "\n",
        "\n",
        "\n",
        "# load your dataset\n",
        "data= pd.read_csv(\"/content/nexflix.csv\")\n",
        "data.shape\n",
        "netflix= data.iloc[:int(0.8*len(data))]\n",
        "print(netflix.shape)\n",
        "netflix.info()\n",
        "data.drop([\"Date\"],axis=1,inplace=True)\n",
        "testdata=  data.iloc[int(0.8*len(data)):]\n",
        "testdata.info()\n",
        "\n",
        "\n",
        "\n",
        "\n",
        "testdata=  data.iloc[int(0.8*len(data)):]\n",
        "testdata.info()\n",
        "\n",
        "\n",
        "testdata.head()\n",
        "#testdf.drop([\"Date\"],axis=1,inplace=True)\n",
        "scalar = MinMaxScaler()\n",
        "Netflix_scaled = scalar.fit_transform(data)\n",
        "print(Netflix_scaled.shape)\n",
        "Netflix_scaled\n",
        "\n",
        "X_train = []\n",
        "y_train = []\n",
        "for i in range(60,netflix.shape[0]):\n",
        "    X_train.append(Netflix_scaled[i-60: i])\n",
        "    y_train.append(Netflix_scaled[i, 0])\n",
        "\n",
        "X_train, y_train = np.array(X_train), np.array(y_train)\n",
        "X_train.shape, y_train.shape\n",
        "X_train, y_train = np.array(X_train), np.array(y_train)\n",
        "X_train.shape, y_train.shape\n",
        "\n",
        "model = Sequential()\n",
        "model.add(LSTM(50, return_sequences=True,  activation = 'relu',input_shape=(X_train.shape[1], 6)))\n",
        "model.add(LSTM(50))\n",
        "model.add(Dense(1))\n",
        "model.add(Dropout(0.2))\n",
        "\n",
        "model.compile(optimizer='adam', loss='mean_squared_error')\n",
        "\n",
        "# fit the model to the training data\n",
        "model.fit(X_train, y_train,batch_size=32)\n",
        "\n",
        "\n",
        "past_60 = data.tail(60)\n",
        "\n",
        "dt = past_60.append(testdata, ignore_index = True)\n",
        "\n",
        "     \n",
        "\n",
        "inputs = scalar.fit_transform(dt)\n",
        "print(inputs.shape)\n",
        "inputs\n",
        "\n",
        "\n",
        "\n",
        "\n",
        "\n",
        "X_test = []\n",
        "y_test = []\n",
        "\n",
        "for i in range(60, inputs.shape[0]):\n",
        "    X_test.append(inputs[i-60:i])\n",
        "    y_test.append(inputs[i, 0])\n",
        "    \n",
        "X_test, y_test = np.array(X_test), np.array(y_test).reshape(-1,1)\n",
        "X_test.shape, y_test.shape\n",
        "\n",
        "y_pred = model.predict(X_test)\n",
        "\n",
        "node = pd.isnull(y_pred).any(1).nonzero()[0]\n",
        "\n",
        "y_pred = np.delete(y_pred,node)\n",
        "y_test = np.delete(y_test,node)\n",
        "     \n",
        "\n",
        "ans = pd.DataFrame()\n",
        "ans['y_pred'] = y_pred\n",
        "ans['y_test'] = y_test    \n",
        "     \n",
        "ans = ans.dropna()\n",
        "scale = 1/scalar.scale_[0]\n",
        "     \n",
        "\n",
        "y_pred = y_pred*scale\n",
        "y_test = y_test*scale\n",
        "\n"
      ],
      "metadata": {
        "id": "sdrGIl_uQZ8w",
        "outputId": "2c04a4ab-46ba-407e-d3aa-c273ad2e3159",
        "colab": {
          "base_uri": "https://localhost:8080/"
        }
      },
      "execution_count": 15,
      "outputs": [
        {
          "output_type": "stream",
          "name": "stdout",
          "text": [
            "Looking in indexes: https://pypi.org/simple, https://us-python.pkg.dev/colab-wheels/public/simple/\n",
            "Requirement already satisfied: pandas in /usr/local/lib/python3.8/dist-packages (1.3.5)\n",
            "Requirement already satisfied: python-dateutil>=2.7.3 in /usr/local/lib/python3.8/dist-packages (from pandas) (2.8.2)\n",
            "Requirement already satisfied: numpy>=1.17.3 in /usr/local/lib/python3.8/dist-packages (from pandas) (1.21.6)\n",
            "Requirement already satisfied: pytz>=2017.3 in /usr/local/lib/python3.8/dist-packages (from pandas) (2022.7.1)\n",
            "Requirement already satisfied: six>=1.5 in /usr/local/lib/python3.8/dist-packages (from python-dateutil>=2.7.3->pandas) (1.15.0)\n",
            "(604, 7)\n",
            "<class 'pandas.core.frame.DataFrame'>\n",
            "RangeIndex: 604 entries, 0 to 603\n",
            "Data columns (total 7 columns):\n",
            " #   Column     Non-Null Count  Dtype  \n",
            "---  ------     --------------  -----  \n",
            " 0   Date       604 non-null    object \n",
            " 1   Open       604 non-null    float64\n",
            " 2   High       604 non-null    float64\n",
            " 3   Low        604 non-null    float64\n",
            " 4   Close      604 non-null    float64\n",
            " 5   Adj Close  604 non-null    float64\n",
            " 6   Volume     604 non-null    int64  \n",
            "dtypes: float64(5), int64(1), object(1)\n",
            "memory usage: 33.2+ KB\n",
            "<class 'pandas.core.frame.DataFrame'>\n",
            "RangeIndex: 152 entries, 604 to 755\n",
            "Data columns (total 6 columns):\n",
            " #   Column     Non-Null Count  Dtype  \n",
            "---  ------     --------------  -----  \n",
            " 0   Open       152 non-null    float64\n",
            " 1   High       152 non-null    float64\n",
            " 2   Low        152 non-null    float64\n",
            " 3   Close      152 non-null    float64\n",
            " 4   Adj Close  152 non-null    float64\n",
            " 5   Volume     152 non-null    int64  \n",
            "dtypes: float64(5), int64(1)\n",
            "memory usage: 7.3 KB\n",
            "<class 'pandas.core.frame.DataFrame'>\n",
            "RangeIndex: 152 entries, 604 to 755\n",
            "Data columns (total 6 columns):\n",
            " #   Column     Non-Null Count  Dtype  \n",
            "---  ------     --------------  -----  \n",
            " 0   Open       152 non-null    float64\n",
            " 1   High       152 non-null    float64\n",
            " 2   Low        152 non-null    float64\n",
            " 3   Close      152 non-null    float64\n",
            " 4   Adj Close  152 non-null    float64\n",
            " 5   Volume     152 non-null    int64  \n",
            "dtypes: float64(5), int64(1)\n",
            "memory usage: 7.3 KB\n",
            "(756, 6)\n",
            "17/17 [==============================] - 4s 73ms/step - loss: 0.1467\n",
            "(212, 6)\n",
            "5/5 [==============================] - 1s 21ms/step\n"
          ]
        }
      ]
    },
    {
      "cell_type": "code",
      "source": [
        "from sklearn.metrics import mean_squared_error\n",
        "print(mean_squared_error(ans.y_test, ans.y_pred, squared = False))      #MSE\n",
        "     "
      ],
      "metadata": {
        "id": "IN1WK4l7RQjf",
        "outputId": "89ccd7ba-5191-4437-894b-d9ab443ae29f",
        "colab": {
          "base_uri": "https://localhost:8080/"
        }
      },
      "execution_count": 16,
      "outputs": [
        {
          "output_type": "stream",
          "name": "stdout",
          "text": [
            "0.22330839811564054\n"
          ]
        }
      ]
    },
    {
      "cell_type": "code",
      "source": [
        "print(mean_squared_error(ans.y_test, ans.y_pred, squared = True))       "
      ],
      "metadata": {
        "id": "MKU_YpChSwbp",
        "outputId": "04963a96-290b-4159-f33f-7879f7f592c5",
        "colab": {
          "base_uri": "https://localhost:8080/"
        }
      },
      "execution_count": 17,
      "outputs": [
        {
          "output_type": "stream",
          "name": "stdout",
          "text": [
            "0.049866640668973415\n"
          ]
        }
      ]
    },
    {
      "cell_type": "code",
      "source": [
        "from sklearn.metrics import mean_absolute_error\n",
        "mae= np.mean(np.abs(ans.y_pred - y_test))\n",
        "from keras.metrics.metrics import mean_absolute_percentage_error\n",
        "mape = (np.mean(np.abs(ans.y_pred - y_test) /y_test))\n",
        "\n",
        "print(\"MAE:\", mae)\n",
        "print(\"MAPE:\", mape)"
      ],
      "metadata": {
        "id": "XtfMty4rS2oB",
        "outputId": "ab459883-7a76-4854-a413-dbfa9505d236",
        "colab": {
          "base_uri": "https://localhost:8080/"
        }
      },
      "execution_count": 18,
      "outputs": [
        {
          "output_type": "stream",
          "name": "stdout",
          "text": [
            "MAE: 69.986753195642\n",
            "MAPE: inf\n"
          ]
        }
      ]
    }
  ]
}