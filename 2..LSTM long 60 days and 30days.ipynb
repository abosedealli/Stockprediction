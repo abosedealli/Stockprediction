{
  "nbformat": 4,
  "nbformat_minor": 0,
  "metadata": {
    "colab": {
      "provenance": [],
      "include_colab_link": true
    },
    "kernelspec": {
      "name": "python3",
      "display_name": "Python 3"
    },
    "language_info": {
      "name": "python"
    }
  },
  "cells": [
    {
      "cell_type": "markdown",
      "metadata": {
        "id": "view-in-github",
        "colab_type": "text"
      },
      "source": [
        "<a href=\"https://colab.research.google.com/github/abosedealli/Stockprediction/blob/main/2..LSTM%20long%2060%20days%20and%2030days.ipynb\" target=\"_parent\"><img src=\"https://colab.research.google.com/assets/colab-badge.svg\" alt=\"Open In Colab\"/></a>"
      ]
    },
    {
      "cell_type": "code",
      "execution_count": 1,
      "metadata": {
        "colab": {
          "base_uri": "https://localhost:8080/"
        },
        "id": "JgNgR-BMefG9",
        "outputId": "41fdfad4-6640-489a-b7d3-a59302aacdaf"
      },
      "outputs": [
        {
          "output_type": "stream",
          "name": "stdout",
          "text": [
            "Looking in indexes: https://pypi.org/simple, https://us-python.pkg.dev/colab-wheels/public/simple/\n",
            "Requirement already satisfied: tensorflow in /usr/local/lib/python3.8/dist-packages (2.9.2)\n",
            "Requirement already satisfied: termcolor>=1.1.0 in /usr/local/lib/python3.8/dist-packages (from tensorflow) (2.2.0)\n",
            "Requirement already satisfied: absl-py>=1.0.0 in /usr/local/lib/python3.8/dist-packages (from tensorflow) (1.3.0)\n",
            "Requirement already satisfied: keras-preprocessing>=1.1.1 in /usr/local/lib/python3.8/dist-packages (from tensorflow) (1.1.2)\n",
            "Requirement already satisfied: tensorboard<2.10,>=2.9 in /usr/local/lib/python3.8/dist-packages (from tensorflow) (2.9.1)\n",
            "Requirement already satisfied: numpy>=1.20 in /usr/local/lib/python3.8/dist-packages (from tensorflow) (1.21.6)\n",
            "Requirement already satisfied: setuptools in /usr/local/lib/python3.8/dist-packages (from tensorflow) (57.4.0)\n",
            "Requirement already satisfied: h5py>=2.9.0 in /usr/local/lib/python3.8/dist-packages (from tensorflow) (3.1.0)\n",
            "Requirement already satisfied: libclang>=13.0.0 in /usr/local/lib/python3.8/dist-packages (from tensorflow) (15.0.6.1)\n",
            "Requirement already satisfied: packaging in /usr/local/lib/python3.8/dist-packages (from tensorflow) (21.3)\n",
            "Requirement already satisfied: typing-extensions>=3.6.6 in /usr/local/lib/python3.8/dist-packages (from tensorflow) (4.4.0)\n",
            "Requirement already satisfied: gast<=0.4.0,>=0.2.1 in /usr/local/lib/python3.8/dist-packages (from tensorflow) (0.4.0)\n",
            "Requirement already satisfied: protobuf<3.20,>=3.9.2 in /usr/local/lib/python3.8/dist-packages (from tensorflow) (3.19.6)\n",
            "Requirement already satisfied: tensorflow-io-gcs-filesystem>=0.23.1 in /usr/local/lib/python3.8/dist-packages (from tensorflow) (0.29.0)\n",
            "Requirement already satisfied: wrapt>=1.11.0 in /usr/local/lib/python3.8/dist-packages (from tensorflow) (1.14.1)\n",
            "Requirement already satisfied: astunparse>=1.6.0 in /usr/local/lib/python3.8/dist-packages (from tensorflow) (1.6.3)\n",
            "Requirement already satisfied: flatbuffers<2,>=1.12 in /usr/local/lib/python3.8/dist-packages (from tensorflow) (1.12)\n",
            "Requirement already satisfied: tensorflow-estimator<2.10.0,>=2.9.0rc0 in /usr/local/lib/python3.8/dist-packages (from tensorflow) (2.9.0)\n",
            "Requirement already satisfied: keras<2.10.0,>=2.9.0rc0 in /usr/local/lib/python3.8/dist-packages (from tensorflow) (2.9.0)\n",
            "Requirement already satisfied: six>=1.12.0 in /usr/local/lib/python3.8/dist-packages (from tensorflow) (1.15.0)\n",
            "Requirement already satisfied: google-pasta>=0.1.1 in /usr/local/lib/python3.8/dist-packages (from tensorflow) (0.2.0)\n",
            "Requirement already satisfied: opt-einsum>=2.3.2 in /usr/local/lib/python3.8/dist-packages (from tensorflow) (3.3.0)\n",
            "Requirement already satisfied: grpcio<2.0,>=1.24.3 in /usr/local/lib/python3.8/dist-packages (from tensorflow) (1.51.1)\n",
            "Requirement already satisfied: wheel<1.0,>=0.23.0 in /usr/local/lib/python3.8/dist-packages (from astunparse>=1.6.0->tensorflow) (0.38.4)\n",
            "Requirement already satisfied: markdown>=2.6.8 in /usr/local/lib/python3.8/dist-packages (from tensorboard<2.10,>=2.9->tensorflow) (3.4.1)\n",
            "Requirement already satisfied: google-auth-oauthlib<0.5,>=0.4.1 in /usr/local/lib/python3.8/dist-packages (from tensorboard<2.10,>=2.9->tensorflow) (0.4.6)\n",
            "Requirement already satisfied: tensorboard-plugin-wit>=1.6.0 in /usr/local/lib/python3.8/dist-packages (from tensorboard<2.10,>=2.9->tensorflow) (1.8.1)\n",
            "Requirement already satisfied: werkzeug>=1.0.1 in /usr/local/lib/python3.8/dist-packages (from tensorboard<2.10,>=2.9->tensorflow) (1.0.1)\n",
            "Requirement already satisfied: tensorboard-data-server<0.7.0,>=0.6.0 in /usr/local/lib/python3.8/dist-packages (from tensorboard<2.10,>=2.9->tensorflow) (0.6.1)\n",
            "Requirement already satisfied: requests<3,>=2.21.0 in /usr/local/lib/python3.8/dist-packages (from tensorboard<2.10,>=2.9->tensorflow) (2.25.1)\n",
            "Requirement already satisfied: google-auth<3,>=1.6.3 in /usr/local/lib/python3.8/dist-packages (from tensorboard<2.10,>=2.9->tensorflow) (2.16.0)\n",
            "Requirement already satisfied: pyparsing!=3.0.5,>=2.0.2 in /usr/local/lib/python3.8/dist-packages (from packaging->tensorflow) (3.0.9)\n",
            "Requirement already satisfied: rsa<5,>=3.1.4 in /usr/local/lib/python3.8/dist-packages (from google-auth<3,>=1.6.3->tensorboard<2.10,>=2.9->tensorflow) (4.9)\n",
            "Requirement already satisfied: pyasn1-modules>=0.2.1 in /usr/local/lib/python3.8/dist-packages (from google-auth<3,>=1.6.3->tensorboard<2.10,>=2.9->tensorflow) (0.2.8)\n",
            "Requirement already satisfied: cachetools<6.0,>=2.0.0 in /usr/local/lib/python3.8/dist-packages (from google-auth<3,>=1.6.3->tensorboard<2.10,>=2.9->tensorflow) (5.2.1)\n",
            "Requirement already satisfied: requests-oauthlib>=0.7.0 in /usr/local/lib/python3.8/dist-packages (from google-auth-oauthlib<0.5,>=0.4.1->tensorboard<2.10,>=2.9->tensorflow) (1.3.1)\n",
            "Requirement already satisfied: importlib-metadata>=4.4 in /usr/local/lib/python3.8/dist-packages (from markdown>=2.6.8->tensorboard<2.10,>=2.9->tensorflow) (6.0.0)\n",
            "Requirement already satisfied: certifi>=2017.4.17 in /usr/local/lib/python3.8/dist-packages (from requests<3,>=2.21.0->tensorboard<2.10,>=2.9->tensorflow) (2022.12.7)\n",
            "Requirement already satisfied: urllib3<1.27,>=1.21.1 in /usr/local/lib/python3.8/dist-packages (from requests<3,>=2.21.0->tensorboard<2.10,>=2.9->tensorflow) (1.24.3)\n",
            "Requirement already satisfied: chardet<5,>=3.0.2 in /usr/local/lib/python3.8/dist-packages (from requests<3,>=2.21.0->tensorboard<2.10,>=2.9->tensorflow) (4.0.0)\n",
            "Requirement already satisfied: idna<3,>=2.5 in /usr/local/lib/python3.8/dist-packages (from requests<3,>=2.21.0->tensorboard<2.10,>=2.9->tensorflow) (2.10)\n",
            "Requirement already satisfied: zipp>=0.5 in /usr/local/lib/python3.8/dist-packages (from importlib-metadata>=4.4->markdown>=2.6.8->tensorboard<2.10,>=2.9->tensorflow) (3.11.0)\n",
            "Requirement already satisfied: pyasn1<0.5.0,>=0.4.6 in /usr/local/lib/python3.8/dist-packages (from pyasn1-modules>=0.2.1->google-auth<3,>=1.6.3->tensorboard<2.10,>=2.9->tensorflow) (0.4.8)\n",
            "Requirement already satisfied: oauthlib>=3.0.0 in /usr/local/lib/python3.8/dist-packages (from requests-oauthlib>=0.7.0->google-auth-oauthlib<0.5,>=0.4.1->tensorboard<2.10,>=2.9->tensorflow) (3.2.2)\n",
            "Looking in indexes: https://pypi.org/simple, https://us-python.pkg.dev/colab-wheels/public/simple/\n",
            "Requirement already satisfied: pandas in /usr/local/lib/python3.8/dist-packages (1.3.5)\n",
            "Requirement already satisfied: python-dateutil>=2.7.3 in /usr/local/lib/python3.8/dist-packages (from pandas) (2.8.2)\n",
            "Requirement already satisfied: numpy>=1.17.3 in /usr/local/lib/python3.8/dist-packages (from pandas) (1.21.6)\n",
            "Requirement already satisfied: pytz>=2017.3 in /usr/local/lib/python3.8/dist-packages (from pandas) (2022.7)\n",
            "Requirement already satisfied: six>=1.5 in /usr/local/lib/python3.8/dist-packages (from python-dateutil>=2.7.3->pandas) (1.15.0)\n"
          ]
        }
      ],
      "source": [
        "!pip install tensorflow\n",
        "!pip install pandas\n",
        "import tensorflow as tf\n",
        "import random\n",
        "import pandas as pd\n",
        "import numpy as np\n",
        "import matplotlib.pyplot as plt\n",
        "import seaborn as sns\n",
        "import keras\n",
        "from keras.callbacks import History \n",
        "from sklearn.metrics import mean_squared_error\n",
        "\n",
        "from keras.models import Sequential\n",
        "from keras.layers import Dense\n",
        "from keras.layers import LSTM\n",
        "from keras.layers import Dropout\n",
        "from sklearn.preprocessing import MinMaxScaler,StandardScaler\n",
        "from keras.layers import *\n",
        "from keras.callbacks import EarlyStopping "
      ]
    },
    {
      "cell_type": "code",
      "source": [
        "sns.set_style('whitegrid')\n",
        "from datetime import datetime\n",
        "xapp= pd.read_csv(\"/content/AAPL.dataset.csv\")\n",
        "xapp.shape\n",
        "data = xapp.iloc[:int(0.8*len(xapp))]\n",
        "print(data.shape)\n",
        "data.info()\n",
        "data"
      ],
      "metadata": {
        "colab": {
          "base_uri": "https://localhost:8080/",
          "height": 684
        },
        "id": "JEXIv_9rfdKr",
        "outputId": "ebfe4b4b-1eb9-4228-da72-cceee0e48893"
      },
      "execution_count": 4,
      "outputs": [
        {
          "output_type": "stream",
          "name": "stdout",
          "text": [
            "(8491, 7)\n",
            "<class 'pandas.core.frame.DataFrame'>\n",
            "RangeIndex: 8491 entries, 0 to 8490\n",
            "Data columns (total 7 columns):\n",
            " #   Column     Non-Null Count  Dtype  \n",
            "---  ------     --------------  -----  \n",
            " 0   Date       8491 non-null   object \n",
            " 1   Open       8491 non-null   float64\n",
            " 2   High       8491 non-null   float64\n",
            " 3   Low        8491 non-null   float64\n",
            " 4   Close      8491 non-null   float64\n",
            " 5   Adj Close  8491 non-null   float64\n",
            " 6   Volume     8491 non-null   int64  \n",
            "dtypes: float64(5), int64(1), object(1)\n",
            "memory usage: 464.5+ KB\n"
          ]
        },
        {
          "output_type": "execute_result",
          "data": {
            "text/plain": [
              "            Date       Open       High        Low      Close  Adj Close  \\\n",
              "0     15/12/1980   0.122210   0.122210   0.121652   0.121652   0.094663   \n",
              "1     16/12/1980   0.113281   0.113281   0.112723   0.112723   0.087715   \n",
              "2     17/12/1980   0.115513   0.116071   0.115513   0.115513   0.089886   \n",
              "3     18/12/1980   0.118862   0.119420   0.118862   0.118862   0.092492   \n",
              "4     19/12/1980   0.126116   0.126674   0.126116   0.126116   0.098137   \n",
              "...          ...        ...        ...        ...        ...        ...   \n",
              "8486   7/08/2014  23.732500  23.987499  23.525000  23.620001  21.169622   \n",
              "8487   8/08/2014  23.565001  23.705000  23.320000  23.684999  21.227877   \n",
              "8488  11/08/2014  23.817499  24.020000  23.709999  23.997499  21.507961   \n",
              "8489  12/08/2014  24.010000  24.219999  23.902500  23.992500  21.503477   \n",
              "8490  13/08/2014  24.037500  24.309999  24.010000  24.309999  21.788038   \n",
              "\n",
              "         Volume  \n",
              "0     175884800  \n",
              "1     105728000  \n",
              "2      86441600  \n",
              "3      73449600  \n",
              "4      48630400  \n",
              "...         ...  \n",
              "8486  186844000  \n",
              "8487  167460000  \n",
              "8488  146340000  \n",
              "8489  135180000  \n",
              "8490  127664000  \n",
              "\n",
              "[8491 rows x 7 columns]"
            ],
            "text/html": [
              "\n",
              "  <div id=\"df-ecc410d1-953a-4785-b58f-dbc65e3ee13a\">\n",
              "    <div class=\"colab-df-container\">\n",
              "      <div>\n",
              "<style scoped>\n",
              "    .dataframe tbody tr th:only-of-type {\n",
              "        vertical-align: middle;\n",
              "    }\n",
              "\n",
              "    .dataframe tbody tr th {\n",
              "        vertical-align: top;\n",
              "    }\n",
              "\n",
              "    .dataframe thead th {\n",
              "        text-align: right;\n",
              "    }\n",
              "</style>\n",
              "<table border=\"1\" class=\"dataframe\">\n",
              "  <thead>\n",
              "    <tr style=\"text-align: right;\">\n",
              "      <th></th>\n",
              "      <th>Date</th>\n",
              "      <th>Open</th>\n",
              "      <th>High</th>\n",
              "      <th>Low</th>\n",
              "      <th>Close</th>\n",
              "      <th>Adj Close</th>\n",
              "      <th>Volume</th>\n",
              "    </tr>\n",
              "  </thead>\n",
              "  <tbody>\n",
              "    <tr>\n",
              "      <th>0</th>\n",
              "      <td>15/12/1980</td>\n",
              "      <td>0.122210</td>\n",
              "      <td>0.122210</td>\n",
              "      <td>0.121652</td>\n",
              "      <td>0.121652</td>\n",
              "      <td>0.094663</td>\n",
              "      <td>175884800</td>\n",
              "    </tr>\n",
              "    <tr>\n",
              "      <th>1</th>\n",
              "      <td>16/12/1980</td>\n",
              "      <td>0.113281</td>\n",
              "      <td>0.113281</td>\n",
              "      <td>0.112723</td>\n",
              "      <td>0.112723</td>\n",
              "      <td>0.087715</td>\n",
              "      <td>105728000</td>\n",
              "    </tr>\n",
              "    <tr>\n",
              "      <th>2</th>\n",
              "      <td>17/12/1980</td>\n",
              "      <td>0.115513</td>\n",
              "      <td>0.116071</td>\n",
              "      <td>0.115513</td>\n",
              "      <td>0.115513</td>\n",
              "      <td>0.089886</td>\n",
              "      <td>86441600</td>\n",
              "    </tr>\n",
              "    <tr>\n",
              "      <th>3</th>\n",
              "      <td>18/12/1980</td>\n",
              "      <td>0.118862</td>\n",
              "      <td>0.119420</td>\n",
              "      <td>0.118862</td>\n",
              "      <td>0.118862</td>\n",
              "      <td>0.092492</td>\n",
              "      <td>73449600</td>\n",
              "    </tr>\n",
              "    <tr>\n",
              "      <th>4</th>\n",
              "      <td>19/12/1980</td>\n",
              "      <td>0.126116</td>\n",
              "      <td>0.126674</td>\n",
              "      <td>0.126116</td>\n",
              "      <td>0.126116</td>\n",
              "      <td>0.098137</td>\n",
              "      <td>48630400</td>\n",
              "    </tr>\n",
              "    <tr>\n",
              "      <th>...</th>\n",
              "      <td>...</td>\n",
              "      <td>...</td>\n",
              "      <td>...</td>\n",
              "      <td>...</td>\n",
              "      <td>...</td>\n",
              "      <td>...</td>\n",
              "      <td>...</td>\n",
              "    </tr>\n",
              "    <tr>\n",
              "      <th>8486</th>\n",
              "      <td>7/08/2014</td>\n",
              "      <td>23.732500</td>\n",
              "      <td>23.987499</td>\n",
              "      <td>23.525000</td>\n",
              "      <td>23.620001</td>\n",
              "      <td>21.169622</td>\n",
              "      <td>186844000</td>\n",
              "    </tr>\n",
              "    <tr>\n",
              "      <th>8487</th>\n",
              "      <td>8/08/2014</td>\n",
              "      <td>23.565001</td>\n",
              "      <td>23.705000</td>\n",
              "      <td>23.320000</td>\n",
              "      <td>23.684999</td>\n",
              "      <td>21.227877</td>\n",
              "      <td>167460000</td>\n",
              "    </tr>\n",
              "    <tr>\n",
              "      <th>8488</th>\n",
              "      <td>11/08/2014</td>\n",
              "      <td>23.817499</td>\n",
              "      <td>24.020000</td>\n",
              "      <td>23.709999</td>\n",
              "      <td>23.997499</td>\n",
              "      <td>21.507961</td>\n",
              "      <td>146340000</td>\n",
              "    </tr>\n",
              "    <tr>\n",
              "      <th>8489</th>\n",
              "      <td>12/08/2014</td>\n",
              "      <td>24.010000</td>\n",
              "      <td>24.219999</td>\n",
              "      <td>23.902500</td>\n",
              "      <td>23.992500</td>\n",
              "      <td>21.503477</td>\n",
              "      <td>135180000</td>\n",
              "    </tr>\n",
              "    <tr>\n",
              "      <th>8490</th>\n",
              "      <td>13/08/2014</td>\n",
              "      <td>24.037500</td>\n",
              "      <td>24.309999</td>\n",
              "      <td>24.010000</td>\n",
              "      <td>24.309999</td>\n",
              "      <td>21.788038</td>\n",
              "      <td>127664000</td>\n",
              "    </tr>\n",
              "  </tbody>\n",
              "</table>\n",
              "<p>8491 rows × 7 columns</p>\n",
              "</div>\n",
              "      <button class=\"colab-df-convert\" onclick=\"convertToInteractive('df-ecc410d1-953a-4785-b58f-dbc65e3ee13a')\"\n",
              "              title=\"Convert this dataframe to an interactive table.\"\n",
              "              style=\"display:none;\">\n",
              "        \n",
              "  <svg xmlns=\"http://www.w3.org/2000/svg\" height=\"24px\"viewBox=\"0 0 24 24\"\n",
              "       width=\"24px\">\n",
              "    <path d=\"M0 0h24v24H0V0z\" fill=\"none\"/>\n",
              "    <path d=\"M18.56 5.44l.94 2.06.94-2.06 2.06-.94-2.06-.94-.94-2.06-.94 2.06-2.06.94zm-11 1L8.5 8.5l.94-2.06 2.06-.94-2.06-.94L8.5 2.5l-.94 2.06-2.06.94zm10 10l.94 2.06.94-2.06 2.06-.94-2.06-.94-.94-2.06-.94 2.06-2.06.94z\"/><path d=\"M17.41 7.96l-1.37-1.37c-.4-.4-.92-.59-1.43-.59-.52 0-1.04.2-1.43.59L10.3 9.45l-7.72 7.72c-.78.78-.78 2.05 0 2.83L4 21.41c.39.39.9.59 1.41.59.51 0 1.02-.2 1.41-.59l7.78-7.78 2.81-2.81c.8-.78.8-2.07 0-2.86zM5.41 20L4 18.59l7.72-7.72 1.47 1.35L5.41 20z\"/>\n",
              "  </svg>\n",
              "      </button>\n",
              "      \n",
              "  <style>\n",
              "    .colab-df-container {\n",
              "      display:flex;\n",
              "      flex-wrap:wrap;\n",
              "      gap: 12px;\n",
              "    }\n",
              "\n",
              "    .colab-df-convert {\n",
              "      background-color: #E8F0FE;\n",
              "      border: none;\n",
              "      border-radius: 50%;\n",
              "      cursor: pointer;\n",
              "      display: none;\n",
              "      fill: #1967D2;\n",
              "      height: 32px;\n",
              "      padding: 0 0 0 0;\n",
              "      width: 32px;\n",
              "    }\n",
              "\n",
              "    .colab-df-convert:hover {\n",
              "      background-color: #E2EBFA;\n",
              "      box-shadow: 0px 1px 2px rgba(60, 64, 67, 0.3), 0px 1px 3px 1px rgba(60, 64, 67, 0.15);\n",
              "      fill: #174EA6;\n",
              "    }\n",
              "\n",
              "    [theme=dark] .colab-df-convert {\n",
              "      background-color: #3B4455;\n",
              "      fill: #D2E3FC;\n",
              "    }\n",
              "\n",
              "    [theme=dark] .colab-df-convert:hover {\n",
              "      background-color: #434B5C;\n",
              "      box-shadow: 0px 1px 3px 1px rgba(0, 0, 0, 0.15);\n",
              "      filter: drop-shadow(0px 1px 2px rgba(0, 0, 0, 0.3));\n",
              "      fill: #FFFFFF;\n",
              "    }\n",
              "  </style>\n",
              "\n",
              "      <script>\n",
              "        const buttonEl =\n",
              "          document.querySelector('#df-ecc410d1-953a-4785-b58f-dbc65e3ee13a button.colab-df-convert');\n",
              "        buttonEl.style.display =\n",
              "          google.colab.kernel.accessAllowed ? 'block' : 'none';\n",
              "\n",
              "        async function convertToInteractive(key) {\n",
              "          const element = document.querySelector('#df-ecc410d1-953a-4785-b58f-dbc65e3ee13a');\n",
              "          const dataTable =\n",
              "            await google.colab.kernel.invokeFunction('convertToInteractive',\n",
              "                                                     [key], {});\n",
              "          if (!dataTable) return;\n",
              "\n",
              "          const docLinkHtml = 'Like what you see? Visit the ' +\n",
              "            '<a target=\"_blank\" href=https://colab.research.google.com/notebooks/data_table.ipynb>data table notebook</a>'\n",
              "            + ' to learn more about interactive tables.';\n",
              "          element.innerHTML = '';\n",
              "          dataTable['output_type'] = 'display_data';\n",
              "          await google.colab.output.renderOutput(dataTable, element);\n",
              "          const docLink = document.createElement('div');\n",
              "          docLink.innerHTML = docLinkHtml;\n",
              "          element.appendChild(docLink);\n",
              "        }\n",
              "      </script>\n",
              "    </div>\n",
              "  </div>\n",
              "  "
            ]
          },
          "metadata": {},
          "execution_count": 4
        }
      ]
    },
    {
      "cell_type": "code",
      "source": [
        "apple= data.assign(**{'average': lambda df: df.loc[:,['Open','High','Low','Close']].mean(axis=1), \n",
        "                    'EMA20': lambda df: df['average'].ewm(span=20, adjust=False).mean(), \n",
        "                    'EMA5': lambda df: df['average'].ewm(span=5, adjust=False).mean(), \n",
        "                    'dist_EMA20': lambda df: (df['average'] - df['EMA20'])/df['EMA20']*100, \n",
        "                    'dist_EMA5': lambda df: (df['average'] - df['EMA5'])/df['EMA5']*100})\n",
        "apple.head()"
      ],
      "metadata": {
        "colab": {
          "base_uri": "https://localhost:8080/",
          "height": 287
        },
        "id": "uRZzGsZ9f7-V",
        "outputId": "cdee0bf6-ae60-453d-bc4d-b6bd48e1387f"
      },
      "execution_count": 5,
      "outputs": [
        {
          "output_type": "execute_result",
          "data": {
            "text/plain": [
              "         Date      Open      High       Low     Close  Adj Close     Volume  \\\n",
              "0  15/12/1980  0.122210  0.122210  0.121652  0.121652   0.094663  175884800   \n",
              "1  16/12/1980  0.113281  0.113281  0.112723  0.112723   0.087715  105728000   \n",
              "2  17/12/1980  0.115513  0.116071  0.115513  0.115513   0.089886   86441600   \n",
              "3  18/12/1980  0.118862  0.119420  0.118862  0.118862   0.092492   73449600   \n",
              "4  19/12/1980  0.126116  0.126674  0.126116  0.126116   0.098137   48630400   \n",
              "\n",
              "    average     EMA20      EMA5  dist_EMA20  dist_EMA5  \n",
              "0  0.121931  0.121931  0.121931    0.000000   0.000000  \n",
              "1  0.113002  0.121081  0.118955   -6.672099  -5.004147  \n",
              "2  0.115652  0.120564  0.117854   -4.073496  -1.867943  \n",
              "3  0.119002  0.120415  0.118236   -1.173757   0.647040  \n",
              "4  0.126256  0.120971  0.120909    4.368292   4.421510  "
            ],
            "text/html": [
              "\n",
              "  <div id=\"df-baee8314-6536-4afb-b4d5-ce9e24fdaffe\">\n",
              "    <div class=\"colab-df-container\">\n",
              "      <div>\n",
              "<style scoped>\n",
              "    .dataframe tbody tr th:only-of-type {\n",
              "        vertical-align: middle;\n",
              "    }\n",
              "\n",
              "    .dataframe tbody tr th {\n",
              "        vertical-align: top;\n",
              "    }\n",
              "\n",
              "    .dataframe thead th {\n",
              "        text-align: right;\n",
              "    }\n",
              "</style>\n",
              "<table border=\"1\" class=\"dataframe\">\n",
              "  <thead>\n",
              "    <tr style=\"text-align: right;\">\n",
              "      <th></th>\n",
              "      <th>Date</th>\n",
              "      <th>Open</th>\n",
              "      <th>High</th>\n",
              "      <th>Low</th>\n",
              "      <th>Close</th>\n",
              "      <th>Adj Close</th>\n",
              "      <th>Volume</th>\n",
              "      <th>average</th>\n",
              "      <th>EMA20</th>\n",
              "      <th>EMA5</th>\n",
              "      <th>dist_EMA20</th>\n",
              "      <th>dist_EMA5</th>\n",
              "    </tr>\n",
              "  </thead>\n",
              "  <tbody>\n",
              "    <tr>\n",
              "      <th>0</th>\n",
              "      <td>15/12/1980</td>\n",
              "      <td>0.122210</td>\n",
              "      <td>0.122210</td>\n",
              "      <td>0.121652</td>\n",
              "      <td>0.121652</td>\n",
              "      <td>0.094663</td>\n",
              "      <td>175884800</td>\n",
              "      <td>0.121931</td>\n",
              "      <td>0.121931</td>\n",
              "      <td>0.121931</td>\n",
              "      <td>0.000000</td>\n",
              "      <td>0.000000</td>\n",
              "    </tr>\n",
              "    <tr>\n",
              "      <th>1</th>\n",
              "      <td>16/12/1980</td>\n",
              "      <td>0.113281</td>\n",
              "      <td>0.113281</td>\n",
              "      <td>0.112723</td>\n",
              "      <td>0.112723</td>\n",
              "      <td>0.087715</td>\n",
              "      <td>105728000</td>\n",
              "      <td>0.113002</td>\n",
              "      <td>0.121081</td>\n",
              "      <td>0.118955</td>\n",
              "      <td>-6.672099</td>\n",
              "      <td>-5.004147</td>\n",
              "    </tr>\n",
              "    <tr>\n",
              "      <th>2</th>\n",
              "      <td>17/12/1980</td>\n",
              "      <td>0.115513</td>\n",
              "      <td>0.116071</td>\n",
              "      <td>0.115513</td>\n",
              "      <td>0.115513</td>\n",
              "      <td>0.089886</td>\n",
              "      <td>86441600</td>\n",
              "      <td>0.115652</td>\n",
              "      <td>0.120564</td>\n",
              "      <td>0.117854</td>\n",
              "      <td>-4.073496</td>\n",
              "      <td>-1.867943</td>\n",
              "    </tr>\n",
              "    <tr>\n",
              "      <th>3</th>\n",
              "      <td>18/12/1980</td>\n",
              "      <td>0.118862</td>\n",
              "      <td>0.119420</td>\n",
              "      <td>0.118862</td>\n",
              "      <td>0.118862</td>\n",
              "      <td>0.092492</td>\n",
              "      <td>73449600</td>\n",
              "      <td>0.119002</td>\n",
              "      <td>0.120415</td>\n",
              "      <td>0.118236</td>\n",
              "      <td>-1.173757</td>\n",
              "      <td>0.647040</td>\n",
              "    </tr>\n",
              "    <tr>\n",
              "      <th>4</th>\n",
              "      <td>19/12/1980</td>\n",
              "      <td>0.126116</td>\n",
              "      <td>0.126674</td>\n",
              "      <td>0.126116</td>\n",
              "      <td>0.126116</td>\n",
              "      <td>0.098137</td>\n",
              "      <td>48630400</td>\n",
              "      <td>0.126256</td>\n",
              "      <td>0.120971</td>\n",
              "      <td>0.120909</td>\n",
              "      <td>4.368292</td>\n",
              "      <td>4.421510</td>\n",
              "    </tr>\n",
              "  </tbody>\n",
              "</table>\n",
              "</div>\n",
              "      <button class=\"colab-df-convert\" onclick=\"convertToInteractive('df-baee8314-6536-4afb-b4d5-ce9e24fdaffe')\"\n",
              "              title=\"Convert this dataframe to an interactive table.\"\n",
              "              style=\"display:none;\">\n",
              "        \n",
              "  <svg xmlns=\"http://www.w3.org/2000/svg\" height=\"24px\"viewBox=\"0 0 24 24\"\n",
              "       width=\"24px\">\n",
              "    <path d=\"M0 0h24v24H0V0z\" fill=\"none\"/>\n",
              "    <path d=\"M18.56 5.44l.94 2.06.94-2.06 2.06-.94-2.06-.94-.94-2.06-.94 2.06-2.06.94zm-11 1L8.5 8.5l.94-2.06 2.06-.94-2.06-.94L8.5 2.5l-.94 2.06-2.06.94zm10 10l.94 2.06.94-2.06 2.06-.94-2.06-.94-.94-2.06-.94 2.06-2.06.94z\"/><path d=\"M17.41 7.96l-1.37-1.37c-.4-.4-.92-.59-1.43-.59-.52 0-1.04.2-1.43.59L10.3 9.45l-7.72 7.72c-.78.78-.78 2.05 0 2.83L4 21.41c.39.39.9.59 1.41.59.51 0 1.02-.2 1.41-.59l7.78-7.78 2.81-2.81c.8-.78.8-2.07 0-2.86zM5.41 20L4 18.59l7.72-7.72 1.47 1.35L5.41 20z\"/>\n",
              "  </svg>\n",
              "      </button>\n",
              "      \n",
              "  <style>\n",
              "    .colab-df-container {\n",
              "      display:flex;\n",
              "      flex-wrap:wrap;\n",
              "      gap: 12px;\n",
              "    }\n",
              "\n",
              "    .colab-df-convert {\n",
              "      background-color: #E8F0FE;\n",
              "      border: none;\n",
              "      border-radius: 50%;\n",
              "      cursor: pointer;\n",
              "      display: none;\n",
              "      fill: #1967D2;\n",
              "      height: 32px;\n",
              "      padding: 0 0 0 0;\n",
              "      width: 32px;\n",
              "    }\n",
              "\n",
              "    .colab-df-convert:hover {\n",
              "      background-color: #E2EBFA;\n",
              "      box-shadow: 0px 1px 2px rgba(60, 64, 67, 0.3), 0px 1px 3px 1px rgba(60, 64, 67, 0.15);\n",
              "      fill: #174EA6;\n",
              "    }\n",
              "\n",
              "    [theme=dark] .colab-df-convert {\n",
              "      background-color: #3B4455;\n",
              "      fill: #D2E3FC;\n",
              "    }\n",
              "\n",
              "    [theme=dark] .colab-df-convert:hover {\n",
              "      background-color: #434B5C;\n",
              "      box-shadow: 0px 1px 3px 1px rgba(0, 0, 0, 0.15);\n",
              "      filter: drop-shadow(0px 1px 2px rgba(0, 0, 0, 0.3));\n",
              "      fill: #FFFFFF;\n",
              "    }\n",
              "  </style>\n",
              "\n",
              "      <script>\n",
              "        const buttonEl =\n",
              "          document.querySelector('#df-baee8314-6536-4afb-b4d5-ce9e24fdaffe button.colab-df-convert');\n",
              "        buttonEl.style.display =\n",
              "          google.colab.kernel.accessAllowed ? 'block' : 'none';\n",
              "\n",
              "        async function convertToInteractive(key) {\n",
              "          const element = document.querySelector('#df-baee8314-6536-4afb-b4d5-ce9e24fdaffe');\n",
              "          const dataTable =\n",
              "            await google.colab.kernel.invokeFunction('convertToInteractive',\n",
              "                                                     [key], {});\n",
              "          if (!dataTable) return;\n",
              "\n",
              "          const docLinkHtml = 'Like what you see? Visit the ' +\n",
              "            '<a target=\"_blank\" href=https://colab.research.google.com/notebooks/data_table.ipynb>data table notebook</a>'\n",
              "            + ' to learn more about interactive tables.';\n",
              "          element.innerHTML = '';\n",
              "          dataTable['output_type'] = 'display_data';\n",
              "          await google.colab.output.renderOutput(dataTable, element);\n",
              "          const docLink = document.createElement('div');\n",
              "          docLink.innerHTML = docLinkHtml;\n",
              "          element.appendChild(docLink);\n",
              "        }\n",
              "      </script>\n",
              "    </div>\n",
              "  </div>\n",
              "  "
            ]
          },
          "metadata": {},
          "execution_count": 5
        }
      ]
    },
    {
      "cell_type": "code",
      "source": [
        "apple.columns"
      ],
      "metadata": {
        "colab": {
          "base_uri": "https://localhost:8080/"
        },
        "id": "QXwDqepGgB2H",
        "outputId": "f1587046-ed8e-4047-ab87-7978eaf8cb5a"
      },
      "execution_count": 6,
      "outputs": [
        {
          "output_type": "execute_result",
          "data": {
            "text/plain": [
              "Index(['Date', 'Open', 'High', 'Low', 'Close', 'Adj Close', 'Volume',\n",
              "       'average', 'EMA20', 'EMA5', 'dist_EMA20', 'dist_EMA5'],\n",
              "      dtype='object')"
            ]
          },
          "metadata": {},
          "execution_count": 6
        }
      ]
    },
    {
      "cell_type": "code",
      "source": [
        "apple"
      ],
      "metadata": {
        "colab": {
          "base_uri": "https://localhost:8080/",
          "height": 505
        },
        "id": "FGBIUwktgHJD",
        "outputId": "dc102689-dfa6-43e9-a168-4225b4cde870"
      },
      "execution_count": 7,
      "outputs": [
        {
          "output_type": "execute_result",
          "data": {
            "text/plain": [
              "            Date       Open       High        Low      Close  Adj Close  \\\n",
              "0     15/12/1980   0.122210   0.122210   0.121652   0.121652   0.094663   \n",
              "1     16/12/1980   0.113281   0.113281   0.112723   0.112723   0.087715   \n",
              "2     17/12/1980   0.115513   0.116071   0.115513   0.115513   0.089886   \n",
              "3     18/12/1980   0.118862   0.119420   0.118862   0.118862   0.092492   \n",
              "4     19/12/1980   0.126116   0.126674   0.126116   0.126116   0.098137   \n",
              "...          ...        ...        ...        ...        ...        ...   \n",
              "8486   7/08/2014  23.732500  23.987499  23.525000  23.620001  21.169622   \n",
              "8487   8/08/2014  23.565001  23.705000  23.320000  23.684999  21.227877   \n",
              "8488  11/08/2014  23.817499  24.020000  23.709999  23.997499  21.507961   \n",
              "8489  12/08/2014  24.010000  24.219999  23.902500  23.992500  21.503477   \n",
              "8490  13/08/2014  24.037500  24.309999  24.010000  24.309999  21.788038   \n",
              "\n",
              "         Volume    average      EMA20       EMA5  dist_EMA20  dist_EMA5  \n",
              "0     175884800   0.121931   0.121931   0.121931    0.000000   0.000000  \n",
              "1     105728000   0.113002   0.121081   0.118955   -6.672099  -5.004147  \n",
              "2      86441600   0.115652   0.120564   0.117854   -4.073496  -1.867943  \n",
              "3      73449600   0.119002   0.120415   0.118236   -1.173757   0.647040  \n",
              "4      48630400   0.126256   0.120971   0.120909    4.368292   4.421510  \n",
              "...         ...        ...        ...        ...         ...        ...  \n",
              "8486  186844000  23.716250  23.892164  23.852275   -0.736282  -0.570283  \n",
              "8487  167460000  23.568750  23.861362  23.757767   -1.226302  -0.795601  \n",
              "8488  146340000  23.886249  23.863733  23.800594    0.094355   0.359885  \n",
              "8489  135180000  24.031250  23.879687  23.877480    0.634695   0.643997  \n",
              "8490  127664000  24.166875  23.907038  23.973945    1.086863   0.804749  \n",
              "\n",
              "[8491 rows x 12 columns]"
            ],
            "text/html": [
              "\n",
              "  <div id=\"df-a012108f-010a-422a-92a8-d066eb22db5d\">\n",
              "    <div class=\"colab-df-container\">\n",
              "      <div>\n",
              "<style scoped>\n",
              "    .dataframe tbody tr th:only-of-type {\n",
              "        vertical-align: middle;\n",
              "    }\n",
              "\n",
              "    .dataframe tbody tr th {\n",
              "        vertical-align: top;\n",
              "    }\n",
              "\n",
              "    .dataframe thead th {\n",
              "        text-align: right;\n",
              "    }\n",
              "</style>\n",
              "<table border=\"1\" class=\"dataframe\">\n",
              "  <thead>\n",
              "    <tr style=\"text-align: right;\">\n",
              "      <th></th>\n",
              "      <th>Date</th>\n",
              "      <th>Open</th>\n",
              "      <th>High</th>\n",
              "      <th>Low</th>\n",
              "      <th>Close</th>\n",
              "      <th>Adj Close</th>\n",
              "      <th>Volume</th>\n",
              "      <th>average</th>\n",
              "      <th>EMA20</th>\n",
              "      <th>EMA5</th>\n",
              "      <th>dist_EMA20</th>\n",
              "      <th>dist_EMA5</th>\n",
              "    </tr>\n",
              "  </thead>\n",
              "  <tbody>\n",
              "    <tr>\n",
              "      <th>0</th>\n",
              "      <td>15/12/1980</td>\n",
              "      <td>0.122210</td>\n",
              "      <td>0.122210</td>\n",
              "      <td>0.121652</td>\n",
              "      <td>0.121652</td>\n",
              "      <td>0.094663</td>\n",
              "      <td>175884800</td>\n",
              "      <td>0.121931</td>\n",
              "      <td>0.121931</td>\n",
              "      <td>0.121931</td>\n",
              "      <td>0.000000</td>\n",
              "      <td>0.000000</td>\n",
              "    </tr>\n",
              "    <tr>\n",
              "      <th>1</th>\n",
              "      <td>16/12/1980</td>\n",
              "      <td>0.113281</td>\n",
              "      <td>0.113281</td>\n",
              "      <td>0.112723</td>\n",
              "      <td>0.112723</td>\n",
              "      <td>0.087715</td>\n",
              "      <td>105728000</td>\n",
              "      <td>0.113002</td>\n",
              "      <td>0.121081</td>\n",
              "      <td>0.118955</td>\n",
              "      <td>-6.672099</td>\n",
              "      <td>-5.004147</td>\n",
              "    </tr>\n",
              "    <tr>\n",
              "      <th>2</th>\n",
              "      <td>17/12/1980</td>\n",
              "      <td>0.115513</td>\n",
              "      <td>0.116071</td>\n",
              "      <td>0.115513</td>\n",
              "      <td>0.115513</td>\n",
              "      <td>0.089886</td>\n",
              "      <td>86441600</td>\n",
              "      <td>0.115652</td>\n",
              "      <td>0.120564</td>\n",
              "      <td>0.117854</td>\n",
              "      <td>-4.073496</td>\n",
              "      <td>-1.867943</td>\n",
              "    </tr>\n",
              "    <tr>\n",
              "      <th>3</th>\n",
              "      <td>18/12/1980</td>\n",
              "      <td>0.118862</td>\n",
              "      <td>0.119420</td>\n",
              "      <td>0.118862</td>\n",
              "      <td>0.118862</td>\n",
              "      <td>0.092492</td>\n",
              "      <td>73449600</td>\n",
              "      <td>0.119002</td>\n",
              "      <td>0.120415</td>\n",
              "      <td>0.118236</td>\n",
              "      <td>-1.173757</td>\n",
              "      <td>0.647040</td>\n",
              "    </tr>\n",
              "    <tr>\n",
              "      <th>4</th>\n",
              "      <td>19/12/1980</td>\n",
              "      <td>0.126116</td>\n",
              "      <td>0.126674</td>\n",
              "      <td>0.126116</td>\n",
              "      <td>0.126116</td>\n",
              "      <td>0.098137</td>\n",
              "      <td>48630400</td>\n",
              "      <td>0.126256</td>\n",
              "      <td>0.120971</td>\n",
              "      <td>0.120909</td>\n",
              "      <td>4.368292</td>\n",
              "      <td>4.421510</td>\n",
              "    </tr>\n",
              "    <tr>\n",
              "      <th>...</th>\n",
              "      <td>...</td>\n",
              "      <td>...</td>\n",
              "      <td>...</td>\n",
              "      <td>...</td>\n",
              "      <td>...</td>\n",
              "      <td>...</td>\n",
              "      <td>...</td>\n",
              "      <td>...</td>\n",
              "      <td>...</td>\n",
              "      <td>...</td>\n",
              "      <td>...</td>\n",
              "      <td>...</td>\n",
              "    </tr>\n",
              "    <tr>\n",
              "      <th>8486</th>\n",
              "      <td>7/08/2014</td>\n",
              "      <td>23.732500</td>\n",
              "      <td>23.987499</td>\n",
              "      <td>23.525000</td>\n",
              "      <td>23.620001</td>\n",
              "      <td>21.169622</td>\n",
              "      <td>186844000</td>\n",
              "      <td>23.716250</td>\n",
              "      <td>23.892164</td>\n",
              "      <td>23.852275</td>\n",
              "      <td>-0.736282</td>\n",
              "      <td>-0.570283</td>\n",
              "    </tr>\n",
              "    <tr>\n",
              "      <th>8487</th>\n",
              "      <td>8/08/2014</td>\n",
              "      <td>23.565001</td>\n",
              "      <td>23.705000</td>\n",
              "      <td>23.320000</td>\n",
              "      <td>23.684999</td>\n",
              "      <td>21.227877</td>\n",
              "      <td>167460000</td>\n",
              "      <td>23.568750</td>\n",
              "      <td>23.861362</td>\n",
              "      <td>23.757767</td>\n",
              "      <td>-1.226302</td>\n",
              "      <td>-0.795601</td>\n",
              "    </tr>\n",
              "    <tr>\n",
              "      <th>8488</th>\n",
              "      <td>11/08/2014</td>\n",
              "      <td>23.817499</td>\n",
              "      <td>24.020000</td>\n",
              "      <td>23.709999</td>\n",
              "      <td>23.997499</td>\n",
              "      <td>21.507961</td>\n",
              "      <td>146340000</td>\n",
              "      <td>23.886249</td>\n",
              "      <td>23.863733</td>\n",
              "      <td>23.800594</td>\n",
              "      <td>0.094355</td>\n",
              "      <td>0.359885</td>\n",
              "    </tr>\n",
              "    <tr>\n",
              "      <th>8489</th>\n",
              "      <td>12/08/2014</td>\n",
              "      <td>24.010000</td>\n",
              "      <td>24.219999</td>\n",
              "      <td>23.902500</td>\n",
              "      <td>23.992500</td>\n",
              "      <td>21.503477</td>\n",
              "      <td>135180000</td>\n",
              "      <td>24.031250</td>\n",
              "      <td>23.879687</td>\n",
              "      <td>23.877480</td>\n",
              "      <td>0.634695</td>\n",
              "      <td>0.643997</td>\n",
              "    </tr>\n",
              "    <tr>\n",
              "      <th>8490</th>\n",
              "      <td>13/08/2014</td>\n",
              "      <td>24.037500</td>\n",
              "      <td>24.309999</td>\n",
              "      <td>24.010000</td>\n",
              "      <td>24.309999</td>\n",
              "      <td>21.788038</td>\n",
              "      <td>127664000</td>\n",
              "      <td>24.166875</td>\n",
              "      <td>23.907038</td>\n",
              "      <td>23.973945</td>\n",
              "      <td>1.086863</td>\n",
              "      <td>0.804749</td>\n",
              "    </tr>\n",
              "  </tbody>\n",
              "</table>\n",
              "<p>8491 rows × 12 columns</p>\n",
              "</div>\n",
              "      <button class=\"colab-df-convert\" onclick=\"convertToInteractive('df-a012108f-010a-422a-92a8-d066eb22db5d')\"\n",
              "              title=\"Convert this dataframe to an interactive table.\"\n",
              "              style=\"display:none;\">\n",
              "        \n",
              "  <svg xmlns=\"http://www.w3.org/2000/svg\" height=\"24px\"viewBox=\"0 0 24 24\"\n",
              "       width=\"24px\">\n",
              "    <path d=\"M0 0h24v24H0V0z\" fill=\"none\"/>\n",
              "    <path d=\"M18.56 5.44l.94 2.06.94-2.06 2.06-.94-2.06-.94-.94-2.06-.94 2.06-2.06.94zm-11 1L8.5 8.5l.94-2.06 2.06-.94-2.06-.94L8.5 2.5l-.94 2.06-2.06.94zm10 10l.94 2.06.94-2.06 2.06-.94-2.06-.94-.94-2.06-.94 2.06-2.06.94z\"/><path d=\"M17.41 7.96l-1.37-1.37c-.4-.4-.92-.59-1.43-.59-.52 0-1.04.2-1.43.59L10.3 9.45l-7.72 7.72c-.78.78-.78 2.05 0 2.83L4 21.41c.39.39.9.59 1.41.59.51 0 1.02-.2 1.41-.59l7.78-7.78 2.81-2.81c.8-.78.8-2.07 0-2.86zM5.41 20L4 18.59l7.72-7.72 1.47 1.35L5.41 20z\"/>\n",
              "  </svg>\n",
              "      </button>\n",
              "      \n",
              "  <style>\n",
              "    .colab-df-container {\n",
              "      display:flex;\n",
              "      flex-wrap:wrap;\n",
              "      gap: 12px;\n",
              "    }\n",
              "\n",
              "    .colab-df-convert {\n",
              "      background-color: #E8F0FE;\n",
              "      border: none;\n",
              "      border-radius: 50%;\n",
              "      cursor: pointer;\n",
              "      display: none;\n",
              "      fill: #1967D2;\n",
              "      height: 32px;\n",
              "      padding: 0 0 0 0;\n",
              "      width: 32px;\n",
              "    }\n",
              "\n",
              "    .colab-df-convert:hover {\n",
              "      background-color: #E2EBFA;\n",
              "      box-shadow: 0px 1px 2px rgba(60, 64, 67, 0.3), 0px 1px 3px 1px rgba(60, 64, 67, 0.15);\n",
              "      fill: #174EA6;\n",
              "    }\n",
              "\n",
              "    [theme=dark] .colab-df-convert {\n",
              "      background-color: #3B4455;\n",
              "      fill: #D2E3FC;\n",
              "    }\n",
              "\n",
              "    [theme=dark] .colab-df-convert:hover {\n",
              "      background-color: #434B5C;\n",
              "      box-shadow: 0px 1px 3px 1px rgba(0, 0, 0, 0.15);\n",
              "      filter: drop-shadow(0px 1px 2px rgba(0, 0, 0, 0.3));\n",
              "      fill: #FFFFFF;\n",
              "    }\n",
              "  </style>\n",
              "\n",
              "      <script>\n",
              "        const buttonEl =\n",
              "          document.querySelector('#df-a012108f-010a-422a-92a8-d066eb22db5d button.colab-df-convert');\n",
              "        buttonEl.style.display =\n",
              "          google.colab.kernel.accessAllowed ? 'block' : 'none';\n",
              "\n",
              "        async function convertToInteractive(key) {\n",
              "          const element = document.querySelector('#df-a012108f-010a-422a-92a8-d066eb22db5d');\n",
              "          const dataTable =\n",
              "            await google.colab.kernel.invokeFunction('convertToInteractive',\n",
              "                                                     [key], {});\n",
              "          if (!dataTable) return;\n",
              "\n",
              "          const docLinkHtml = 'Like what you see? Visit the ' +\n",
              "            '<a target=\"_blank\" href=https://colab.research.google.com/notebooks/data_table.ipynb>data table notebook</a>'\n",
              "            + ' to learn more about interactive tables.';\n",
              "          element.innerHTML = '';\n",
              "          dataTable['output_type'] = 'display_data';\n",
              "          await google.colab.output.renderOutput(dataTable, element);\n",
              "          const docLink = document.createElement('div');\n",
              "          docLink.innerHTML = docLinkHtml;\n",
              "          element.appendChild(docLink);\n",
              "        }\n",
              "      </script>\n",
              "    </div>\n",
              "  </div>\n",
              "  "
            ]
          },
          "metadata": {},
          "execution_count": 7
        }
      ]
    },
    {
      "cell_type": "code",
      "source": [
        "apple.drop([\"Date\"],axis=1,inplace=True)"
      ],
      "metadata": {
        "id": "8FzARf0zgPAj"
      },
      "execution_count": 8,
      "outputs": []
    },
    {
      "cell_type": "code",
      "source": [
        "apple.head()"
      ],
      "metadata": {
        "colab": {
          "base_uri": "https://localhost:8080/",
          "height": 287
        },
        "id": "uH4EW75fgS8F",
        "outputId": "32a72804-b896-4443-c777-0d8b35b8d54a"
      },
      "execution_count": 9,
      "outputs": [
        {
          "output_type": "execute_result",
          "data": {
            "text/plain": [
              "       Open      High       Low     Close  Adj Close     Volume   average  \\\n",
              "0  0.122210  0.122210  0.121652  0.121652   0.094663  175884800  0.121931   \n",
              "1  0.113281  0.113281  0.112723  0.112723   0.087715  105728000  0.113002   \n",
              "2  0.115513  0.116071  0.115513  0.115513   0.089886   86441600  0.115652   \n",
              "3  0.118862  0.119420  0.118862  0.118862   0.092492   73449600  0.119002   \n",
              "4  0.126116  0.126674  0.126116  0.126116   0.098137   48630400  0.126256   \n",
              "\n",
              "      EMA20      EMA5  dist_EMA20  dist_EMA5  \n",
              "0  0.121931  0.121931    0.000000   0.000000  \n",
              "1  0.121081  0.118955   -6.672099  -5.004147  \n",
              "2  0.120564  0.117854   -4.073496  -1.867943  \n",
              "3  0.120415  0.118236   -1.173757   0.647040  \n",
              "4  0.120971  0.120909    4.368292   4.421510  "
            ],
            "text/html": [
              "\n",
              "  <div id=\"df-70547f85-103b-43c8-afe0-0635680b0900\">\n",
              "    <div class=\"colab-df-container\">\n",
              "      <div>\n",
              "<style scoped>\n",
              "    .dataframe tbody tr th:only-of-type {\n",
              "        vertical-align: middle;\n",
              "    }\n",
              "\n",
              "    .dataframe tbody tr th {\n",
              "        vertical-align: top;\n",
              "    }\n",
              "\n",
              "    .dataframe thead th {\n",
              "        text-align: right;\n",
              "    }\n",
              "</style>\n",
              "<table border=\"1\" class=\"dataframe\">\n",
              "  <thead>\n",
              "    <tr style=\"text-align: right;\">\n",
              "      <th></th>\n",
              "      <th>Open</th>\n",
              "      <th>High</th>\n",
              "      <th>Low</th>\n",
              "      <th>Close</th>\n",
              "      <th>Adj Close</th>\n",
              "      <th>Volume</th>\n",
              "      <th>average</th>\n",
              "      <th>EMA20</th>\n",
              "      <th>EMA5</th>\n",
              "      <th>dist_EMA20</th>\n",
              "      <th>dist_EMA5</th>\n",
              "    </tr>\n",
              "  </thead>\n",
              "  <tbody>\n",
              "    <tr>\n",
              "      <th>0</th>\n",
              "      <td>0.122210</td>\n",
              "      <td>0.122210</td>\n",
              "      <td>0.121652</td>\n",
              "      <td>0.121652</td>\n",
              "      <td>0.094663</td>\n",
              "      <td>175884800</td>\n",
              "      <td>0.121931</td>\n",
              "      <td>0.121931</td>\n",
              "      <td>0.121931</td>\n",
              "      <td>0.000000</td>\n",
              "      <td>0.000000</td>\n",
              "    </tr>\n",
              "    <tr>\n",
              "      <th>1</th>\n",
              "      <td>0.113281</td>\n",
              "      <td>0.113281</td>\n",
              "      <td>0.112723</td>\n",
              "      <td>0.112723</td>\n",
              "      <td>0.087715</td>\n",
              "      <td>105728000</td>\n",
              "      <td>0.113002</td>\n",
              "      <td>0.121081</td>\n",
              "      <td>0.118955</td>\n",
              "      <td>-6.672099</td>\n",
              "      <td>-5.004147</td>\n",
              "    </tr>\n",
              "    <tr>\n",
              "      <th>2</th>\n",
              "      <td>0.115513</td>\n",
              "      <td>0.116071</td>\n",
              "      <td>0.115513</td>\n",
              "      <td>0.115513</td>\n",
              "      <td>0.089886</td>\n",
              "      <td>86441600</td>\n",
              "      <td>0.115652</td>\n",
              "      <td>0.120564</td>\n",
              "      <td>0.117854</td>\n",
              "      <td>-4.073496</td>\n",
              "      <td>-1.867943</td>\n",
              "    </tr>\n",
              "    <tr>\n",
              "      <th>3</th>\n",
              "      <td>0.118862</td>\n",
              "      <td>0.119420</td>\n",
              "      <td>0.118862</td>\n",
              "      <td>0.118862</td>\n",
              "      <td>0.092492</td>\n",
              "      <td>73449600</td>\n",
              "      <td>0.119002</td>\n",
              "      <td>0.120415</td>\n",
              "      <td>0.118236</td>\n",
              "      <td>-1.173757</td>\n",
              "      <td>0.647040</td>\n",
              "    </tr>\n",
              "    <tr>\n",
              "      <th>4</th>\n",
              "      <td>0.126116</td>\n",
              "      <td>0.126674</td>\n",
              "      <td>0.126116</td>\n",
              "      <td>0.126116</td>\n",
              "      <td>0.098137</td>\n",
              "      <td>48630400</td>\n",
              "      <td>0.126256</td>\n",
              "      <td>0.120971</td>\n",
              "      <td>0.120909</td>\n",
              "      <td>4.368292</td>\n",
              "      <td>4.421510</td>\n",
              "    </tr>\n",
              "  </tbody>\n",
              "</table>\n",
              "</div>\n",
              "      <button class=\"colab-df-convert\" onclick=\"convertToInteractive('df-70547f85-103b-43c8-afe0-0635680b0900')\"\n",
              "              title=\"Convert this dataframe to an interactive table.\"\n",
              "              style=\"display:none;\">\n",
              "        \n",
              "  <svg xmlns=\"http://www.w3.org/2000/svg\" height=\"24px\"viewBox=\"0 0 24 24\"\n",
              "       width=\"24px\">\n",
              "    <path d=\"M0 0h24v24H0V0z\" fill=\"none\"/>\n",
              "    <path d=\"M18.56 5.44l.94 2.06.94-2.06 2.06-.94-2.06-.94-.94-2.06-.94 2.06-2.06.94zm-11 1L8.5 8.5l.94-2.06 2.06-.94-2.06-.94L8.5 2.5l-.94 2.06-2.06.94zm10 10l.94 2.06.94-2.06 2.06-.94-2.06-.94-.94-2.06-.94 2.06-2.06.94z\"/><path d=\"M17.41 7.96l-1.37-1.37c-.4-.4-.92-.59-1.43-.59-.52 0-1.04.2-1.43.59L10.3 9.45l-7.72 7.72c-.78.78-.78 2.05 0 2.83L4 21.41c.39.39.9.59 1.41.59.51 0 1.02-.2 1.41-.59l7.78-7.78 2.81-2.81c.8-.78.8-2.07 0-2.86zM5.41 20L4 18.59l7.72-7.72 1.47 1.35L5.41 20z\"/>\n",
              "  </svg>\n",
              "      </button>\n",
              "      \n",
              "  <style>\n",
              "    .colab-df-container {\n",
              "      display:flex;\n",
              "      flex-wrap:wrap;\n",
              "      gap: 12px;\n",
              "    }\n",
              "\n",
              "    .colab-df-convert {\n",
              "      background-color: #E8F0FE;\n",
              "      border: none;\n",
              "      border-radius: 50%;\n",
              "      cursor: pointer;\n",
              "      display: none;\n",
              "      fill: #1967D2;\n",
              "      height: 32px;\n",
              "      padding: 0 0 0 0;\n",
              "      width: 32px;\n",
              "    }\n",
              "\n",
              "    .colab-df-convert:hover {\n",
              "      background-color: #E2EBFA;\n",
              "      box-shadow: 0px 1px 2px rgba(60, 64, 67, 0.3), 0px 1px 3px 1px rgba(60, 64, 67, 0.15);\n",
              "      fill: #174EA6;\n",
              "    }\n",
              "\n",
              "    [theme=dark] .colab-df-convert {\n",
              "      background-color: #3B4455;\n",
              "      fill: #D2E3FC;\n",
              "    }\n",
              "\n",
              "    [theme=dark] .colab-df-convert:hover {\n",
              "      background-color: #434B5C;\n",
              "      box-shadow: 0px 1px 3px 1px rgba(0, 0, 0, 0.15);\n",
              "      filter: drop-shadow(0px 1px 2px rgba(0, 0, 0, 0.3));\n",
              "      fill: #FFFFFF;\n",
              "    }\n",
              "  </style>\n",
              "\n",
              "      <script>\n",
              "        const buttonEl =\n",
              "          document.querySelector('#df-70547f85-103b-43c8-afe0-0635680b0900 button.colab-df-convert');\n",
              "        buttonEl.style.display =\n",
              "          google.colab.kernel.accessAllowed ? 'block' : 'none';\n",
              "\n",
              "        async function convertToInteractive(key) {\n",
              "          const element = document.querySelector('#df-70547f85-103b-43c8-afe0-0635680b0900');\n",
              "          const dataTable =\n",
              "            await google.colab.kernel.invokeFunction('convertToInteractive',\n",
              "                                                     [key], {});\n",
              "          if (!dataTable) return;\n",
              "\n",
              "          const docLinkHtml = 'Like what you see? Visit the ' +\n",
              "            '<a target=\"_blank\" href=https://colab.research.google.com/notebooks/data_table.ipynb>data table notebook</a>'\n",
              "            + ' to learn more about interactive tables.';\n",
              "          element.innerHTML = '';\n",
              "          dataTable['output_type'] = 'display_data';\n",
              "          await google.colab.output.renderOutput(dataTable, element);\n",
              "          const docLink = document.createElement('div');\n",
              "          docLink.innerHTML = docLinkHtml;\n",
              "          element.appendChild(docLink);\n",
              "        }\n",
              "      </script>\n",
              "    </div>\n",
              "  </div>\n",
              "  "
            ]
          },
          "metadata": {},
          "execution_count": 9
        }
      ]
    },
    {
      "cell_type": "code",
      "source": [
        "testdf=  xapp.iloc[int(0.8*len(xapp)):]\n",
        "testdf.info()"
      ],
      "metadata": {
        "colab": {
          "base_uri": "https://localhost:8080/"
        },
        "id": "wlGMmTibgY-4",
        "outputId": "ec5af813-6018-48db-c605-35353fda42c9"
      },
      "execution_count": 10,
      "outputs": [
        {
          "output_type": "stream",
          "name": "stdout",
          "text": [
            "<class 'pandas.core.frame.DataFrame'>\n",
            "RangeIndex: 2123 entries, 8491 to 10613\n",
            "Data columns (total 7 columns):\n",
            " #   Column     Non-Null Count  Dtype  \n",
            "---  ------     --------------  -----  \n",
            " 0   Date       2123 non-null   object \n",
            " 1   Open       2123 non-null   float64\n",
            " 2   High       2123 non-null   float64\n",
            " 3   Low        2123 non-null   float64\n",
            " 4   Close      2123 non-null   float64\n",
            " 5   Adj Close  2123 non-null   float64\n",
            " 6   Volume     2123 non-null   int64  \n",
            "dtypes: float64(5), int64(1), object(1)\n",
            "memory usage: 116.2+ KB\n"
          ]
        }
      ]
    },
    {
      "cell_type": "code",
      "source": [
        "testdf.drop([\"Date\"],axis=1,inplace=True)"
      ],
      "metadata": {
        "id": "7bdNCrQhgtBw",
        "colab": {
          "base_uri": "https://localhost:8080/"
        },
        "outputId": "dc77790b-0022-4a6e-87b6-37484004f20a"
      },
      "execution_count": 11,
      "outputs": [
        {
          "output_type": "stream",
          "name": "stderr",
          "text": [
            "/usr/local/lib/python3.8/dist-packages/pandas/core/frame.py:4906: SettingWithCopyWarning: \n",
            "A value is trying to be set on a copy of a slice from a DataFrame\n",
            "\n",
            "See the caveats in the documentation: https://pandas.pydata.org/pandas-docs/stable/user_guide/indexing.html#returning-a-view-versus-a-copy\n",
            "  return super().drop(\n"
          ]
        }
      ]
    },
    {
      "cell_type": "code",
      "source": [
        "testdata=testdf.assign(**{'average': lambda df: df.loc[:,['Open','High','Low','Close']].mean(axis=1), \n",
        "                    'EMA20': lambda df: df['average'].ewm(span=20, adjust=False).mean(), \n",
        "                    'EMA5': lambda df: df['average'].ewm(span=5, adjust=False).mean(), \n",
        "                    'dist_EMA20': lambda df: (df['average'] - df['EMA20'])/df['EMA20']*100, \n",
        "                    'dist_EMA5': lambda df: (df['average'] - df['EMA5'])/df['EMA5']*100})\n",
        "testdata.head()"
      ],
      "metadata": {
        "colab": {
          "base_uri": "https://localhost:8080/",
          "height": 287
        },
        "id": "RBnAJnbZgwAr",
        "outputId": "69195a0b-e8dc-4911-f87a-e42195dd8865"
      },
      "execution_count": 12,
      "outputs": [
        {
          "output_type": "execute_result",
          "data": {
            "text/plain": [
              "           Open       High        Low      Close  Adj Close     Volume  \\\n",
              "8491  24.332500  24.392500  24.200001  24.375000  21.846294  112464000   \n",
              "8492  24.475000  24.547501  24.215000  24.495001  21.953846  195804000   \n",
              "8493  24.622499  24.842501  24.495001  24.790001  22.218248  190288000   \n",
              "8494  24.852501  25.170000  24.830000  25.132500  22.525208  277596000   \n",
              "8495  25.110001  25.272499  24.987499  25.142500  22.534174  210796000   \n",
              "\n",
              "        average      EMA20       EMA5  dist_EMA20  dist_EMA5  \n",
              "8491  24.325000  24.325000  24.325000    0.000000   0.000000  \n",
              "8492  24.433126  24.335298  24.361042    0.401999   0.295897  \n",
              "8493  24.687501  24.368841  24.469862    1.307651   0.889417  \n",
              "8494  24.996250  24.428594  24.645324    2.323736   1.423904  \n",
              "8495  25.128125  24.495216  24.806258    2.583805   1.297523  "
            ],
            "text/html": [
              "\n",
              "  <div id=\"df-bb1deca7-3a56-41e9-b57a-18255970bdd9\">\n",
              "    <div class=\"colab-df-container\">\n",
              "      <div>\n",
              "<style scoped>\n",
              "    .dataframe tbody tr th:only-of-type {\n",
              "        vertical-align: middle;\n",
              "    }\n",
              "\n",
              "    .dataframe tbody tr th {\n",
              "        vertical-align: top;\n",
              "    }\n",
              "\n",
              "    .dataframe thead th {\n",
              "        text-align: right;\n",
              "    }\n",
              "</style>\n",
              "<table border=\"1\" class=\"dataframe\">\n",
              "  <thead>\n",
              "    <tr style=\"text-align: right;\">\n",
              "      <th></th>\n",
              "      <th>Open</th>\n",
              "      <th>High</th>\n",
              "      <th>Low</th>\n",
              "      <th>Close</th>\n",
              "      <th>Adj Close</th>\n",
              "      <th>Volume</th>\n",
              "      <th>average</th>\n",
              "      <th>EMA20</th>\n",
              "      <th>EMA5</th>\n",
              "      <th>dist_EMA20</th>\n",
              "      <th>dist_EMA5</th>\n",
              "    </tr>\n",
              "  </thead>\n",
              "  <tbody>\n",
              "    <tr>\n",
              "      <th>8491</th>\n",
              "      <td>24.332500</td>\n",
              "      <td>24.392500</td>\n",
              "      <td>24.200001</td>\n",
              "      <td>24.375000</td>\n",
              "      <td>21.846294</td>\n",
              "      <td>112464000</td>\n",
              "      <td>24.325000</td>\n",
              "      <td>24.325000</td>\n",
              "      <td>24.325000</td>\n",
              "      <td>0.000000</td>\n",
              "      <td>0.000000</td>\n",
              "    </tr>\n",
              "    <tr>\n",
              "      <th>8492</th>\n",
              "      <td>24.475000</td>\n",
              "      <td>24.547501</td>\n",
              "      <td>24.215000</td>\n",
              "      <td>24.495001</td>\n",
              "      <td>21.953846</td>\n",
              "      <td>195804000</td>\n",
              "      <td>24.433126</td>\n",
              "      <td>24.335298</td>\n",
              "      <td>24.361042</td>\n",
              "      <td>0.401999</td>\n",
              "      <td>0.295897</td>\n",
              "    </tr>\n",
              "    <tr>\n",
              "      <th>8493</th>\n",
              "      <td>24.622499</td>\n",
              "      <td>24.842501</td>\n",
              "      <td>24.495001</td>\n",
              "      <td>24.790001</td>\n",
              "      <td>22.218248</td>\n",
              "      <td>190288000</td>\n",
              "      <td>24.687501</td>\n",
              "      <td>24.368841</td>\n",
              "      <td>24.469862</td>\n",
              "      <td>1.307651</td>\n",
              "      <td>0.889417</td>\n",
              "    </tr>\n",
              "    <tr>\n",
              "      <th>8494</th>\n",
              "      <td>24.852501</td>\n",
              "      <td>25.170000</td>\n",
              "      <td>24.830000</td>\n",
              "      <td>25.132500</td>\n",
              "      <td>22.525208</td>\n",
              "      <td>277596000</td>\n",
              "      <td>24.996250</td>\n",
              "      <td>24.428594</td>\n",
              "      <td>24.645324</td>\n",
              "      <td>2.323736</td>\n",
              "      <td>1.423904</td>\n",
              "    </tr>\n",
              "    <tr>\n",
              "      <th>8495</th>\n",
              "      <td>25.110001</td>\n",
              "      <td>25.272499</td>\n",
              "      <td>24.987499</td>\n",
              "      <td>25.142500</td>\n",
              "      <td>22.534174</td>\n",
              "      <td>210796000</td>\n",
              "      <td>25.128125</td>\n",
              "      <td>24.495216</td>\n",
              "      <td>24.806258</td>\n",
              "      <td>2.583805</td>\n",
              "      <td>1.297523</td>\n",
              "    </tr>\n",
              "  </tbody>\n",
              "</table>\n",
              "</div>\n",
              "      <button class=\"colab-df-convert\" onclick=\"convertToInteractive('df-bb1deca7-3a56-41e9-b57a-18255970bdd9')\"\n",
              "              title=\"Convert this dataframe to an interactive table.\"\n",
              "              style=\"display:none;\">\n",
              "        \n",
              "  <svg xmlns=\"http://www.w3.org/2000/svg\" height=\"24px\"viewBox=\"0 0 24 24\"\n",
              "       width=\"24px\">\n",
              "    <path d=\"M0 0h24v24H0V0z\" fill=\"none\"/>\n",
              "    <path d=\"M18.56 5.44l.94 2.06.94-2.06 2.06-.94-2.06-.94-.94-2.06-.94 2.06-2.06.94zm-11 1L8.5 8.5l.94-2.06 2.06-.94-2.06-.94L8.5 2.5l-.94 2.06-2.06.94zm10 10l.94 2.06.94-2.06 2.06-.94-2.06-.94-.94-2.06-.94 2.06-2.06.94z\"/><path d=\"M17.41 7.96l-1.37-1.37c-.4-.4-.92-.59-1.43-.59-.52 0-1.04.2-1.43.59L10.3 9.45l-7.72 7.72c-.78.78-.78 2.05 0 2.83L4 21.41c.39.39.9.59 1.41.59.51 0 1.02-.2 1.41-.59l7.78-7.78 2.81-2.81c.8-.78.8-2.07 0-2.86zM5.41 20L4 18.59l7.72-7.72 1.47 1.35L5.41 20z\"/>\n",
              "  </svg>\n",
              "      </button>\n",
              "      \n",
              "  <style>\n",
              "    .colab-df-container {\n",
              "      display:flex;\n",
              "      flex-wrap:wrap;\n",
              "      gap: 12px;\n",
              "    }\n",
              "\n",
              "    .colab-df-convert {\n",
              "      background-color: #E8F0FE;\n",
              "      border: none;\n",
              "      border-radius: 50%;\n",
              "      cursor: pointer;\n",
              "      display: none;\n",
              "      fill: #1967D2;\n",
              "      height: 32px;\n",
              "      padding: 0 0 0 0;\n",
              "      width: 32px;\n",
              "    }\n",
              "\n",
              "    .colab-df-convert:hover {\n",
              "      background-color: #E2EBFA;\n",
              "      box-shadow: 0px 1px 2px rgba(60, 64, 67, 0.3), 0px 1px 3px 1px rgba(60, 64, 67, 0.15);\n",
              "      fill: #174EA6;\n",
              "    }\n",
              "\n",
              "    [theme=dark] .colab-df-convert {\n",
              "      background-color: #3B4455;\n",
              "      fill: #D2E3FC;\n",
              "    }\n",
              "\n",
              "    [theme=dark] .colab-df-convert:hover {\n",
              "      background-color: #434B5C;\n",
              "      box-shadow: 0px 1px 3px 1px rgba(0, 0, 0, 0.15);\n",
              "      filter: drop-shadow(0px 1px 2px rgba(0, 0, 0, 0.3));\n",
              "      fill: #FFFFFF;\n",
              "    }\n",
              "  </style>\n",
              "\n",
              "      <script>\n",
              "        const buttonEl =\n",
              "          document.querySelector('#df-bb1deca7-3a56-41e9-b57a-18255970bdd9 button.colab-df-convert');\n",
              "        buttonEl.style.display =\n",
              "          google.colab.kernel.accessAllowed ? 'block' : 'none';\n",
              "\n",
              "        async function convertToInteractive(key) {\n",
              "          const element = document.querySelector('#df-bb1deca7-3a56-41e9-b57a-18255970bdd9');\n",
              "          const dataTable =\n",
              "            await google.colab.kernel.invokeFunction('convertToInteractive',\n",
              "                                                     [key], {});\n",
              "          if (!dataTable) return;\n",
              "\n",
              "          const docLinkHtml = 'Like what you see? Visit the ' +\n",
              "            '<a target=\"_blank\" href=https://colab.research.google.com/notebooks/data_table.ipynb>data table notebook</a>'\n",
              "            + ' to learn more about interactive tables.';\n",
              "          element.innerHTML = '';\n",
              "          dataTable['output_type'] = 'display_data';\n",
              "          await google.colab.output.renderOutput(dataTable, element);\n",
              "          const docLink = document.createElement('div');\n",
              "          docLink.innerHTML = docLinkHtml;\n",
              "          element.appendChild(docLink);\n",
              "        }\n",
              "      </script>\n",
              "    </div>\n",
              "  </div>\n",
              "  "
            ]
          },
          "metadata": {},
          "execution_count": 12
        }
      ]
    },
    {
      "cell_type": "code",
      "source": [
        "scalar = MinMaxScaler()\n",
        "apple_scaled = scalar.fit_transform(apple)\n",
        "print(apple_scaled.shape)\n",
        "apple_scaled"
      ],
      "metadata": {
        "colab": {
          "base_uri": "https://localhost:8080/"
        },
        "id": "7mq3QcdYg2Wg",
        "outputId": "c9a9e5c9-2526-4836-f25e-cb148d01dde4"
      },
      "execution_count": 13,
      "outputs": [
        {
          "output_type": "stream",
          "name": "stdout",
          "text": [
            "(8491, 11)\n"
          ]
        },
        {
          "output_type": "execute_result",
          "data": {
            "text/plain": [
              "array([[0.00289758, 0.00288663, 0.0029093 , ..., 0.00282064, 0.48475612,\n",
              "        0.62170279],\n",
              "       [0.00254094, 0.00253133, 0.00255122, ..., 0.0027009 , 0.42044282,\n",
              "        0.54075796],\n",
              "       [0.00263009, 0.00264235, 0.00266311, ..., 0.00265661, 0.44549112,\n",
              "        0.59148779],\n",
              "       ...,\n",
              "       [0.94933091, 0.95380004, 0.94888239, ..., 0.95542645, 0.48566562,\n",
              "        0.62752413],\n",
              "       [0.95701975, 0.96175817, 0.95660234, ..., 0.95851958, 0.49087403,\n",
              "        0.63211979],\n",
              "       [0.95811815, 0.96533934, 0.96091345, ..., 0.96240042, 0.49523254,\n",
              "        0.63472004]])"
            ]
          },
          "metadata": {},
          "execution_count": 13
        }
      ]
    },
    {
      "cell_type": "code",
      "source": [
        "X_train = []\n",
        "y_train = []\n"
      ],
      "metadata": {
        "id": "fy4DcLjZg6e0"
      },
      "execution_count": 14,
      "outputs": []
    },
    {
      "cell_type": "code",
      "source": [
        "for i in range(60, apple.shape[0]):\n",
        "    X_train.append(apple_scaled[i-60: i])\n",
        "    y_train.append(apple_scaled[i, 0])\n",
        "\n",
        "X_train, y_train = np.array(X_train), np.array(y_train)\n",
        "X_train.shape, y_train.shape"
      ],
      "metadata": {
        "colab": {
          "base_uri": "https://localhost:8080/"
        },
        "id": "XuyE1T8ShAui",
        "outputId": "a591cb68-9b46-4d64-c267-4ba1157ba5f0"
      },
      "execution_count": 15,
      "outputs": [
        {
          "output_type": "execute_result",
          "data": {
            "text/plain": [
              "((8431, 60, 11), (8431,))"
            ]
          },
          "metadata": {},
          "execution_count": 15
        }
      ]
    },
    {
      "cell_type": "code",
      "source": [
        "X_train, y_train = np.array(X_train), np.array(y_train)\n",
        "X_train.shape, y_train.shape"
      ],
      "metadata": {
        "colab": {
          "base_uri": "https://localhost:8080/"
        },
        "id": "jLtfoRUPhGa0",
        "outputId": "7a88c1e6-2d30-4f20-e7ad-53d763003068"
      },
      "execution_count": 16,
      "outputs": [
        {
          "output_type": "execute_result",
          "data": {
            "text/plain": [
              "((8431, 60, 11), (8431,))"
            ]
          },
          "metadata": {},
          "execution_count": 16
        }
      ]
    },
    {
      "cell_type": "code",
      "source": [
        "regressor = Sequential()\n",
        "\n",
        "regressor.add(LSTM(units = 70, activation = 'relu', return_sequences = True, input_shape = (X_train.shape[1], 11)))\n",
        "regressor.add(Dropout(0.2))\n",
        "\n",
        "regressor.add(LSTM(units = 80, activation = 'relu', return_sequences = True))\n",
        "regressor.add(Dropout(0.3))\n",
        "\n",
        "regressor.add(LSTM(units = 100, activation = 'relu', return_sequences = True))\n",
        "regressor.add(Dropout(0.4))\n",
        "\n",
        "regressor.add(LSTM(units = 140, activation = 'relu'))\n",
        "regressor.add(Dropout(0.5))\n",
        "\n",
        "regressor.add(Dense(units = 1))"
      ],
      "metadata": {
        "id": "eK8PWmsMhLFT"
      },
      "execution_count": 17,
      "outputs": []
    },
    {
      "cell_type": "code",
      "source": [
        "regressor.summary()"
      ],
      "metadata": {
        "colab": {
          "base_uri": "https://localhost:8080/"
        },
        "id": "_6W5SlfthQ3r",
        "outputId": "faf7db6f-4f3e-4b5f-cb11-043f67fe08ff"
      },
      "execution_count": 18,
      "outputs": [
        {
          "output_type": "stream",
          "name": "stdout",
          "text": [
            "Model: \"sequential\"\n",
            "_________________________________________________________________\n",
            " Layer (type)                Output Shape              Param #   \n",
            "=================================================================\n",
            " lstm (LSTM)                 (None, 60, 70)            22960     \n",
            "                                                                 \n",
            " dropout (Dropout)           (None, 60, 70)            0         \n",
            "                                                                 \n",
            " lstm_1 (LSTM)               (None, 60, 80)            48320     \n",
            "                                                                 \n",
            " dropout_1 (Dropout)         (None, 60, 80)            0         \n",
            "                                                                 \n",
            " lstm_2 (LSTM)               (None, 60, 100)           72400     \n",
            "                                                                 \n",
            " dropout_2 (Dropout)         (None, 60, 100)           0         \n",
            "                                                                 \n",
            " lstm_3 (LSTM)               (None, 140)               134960    \n",
            "                                                                 \n",
            " dropout_3 (Dropout)         (None, 140)               0         \n",
            "                                                                 \n",
            " dense (Dense)               (None, 1)                 141       \n",
            "                                                                 \n",
            "=================================================================\n",
            "Total params: 278,781\n",
            "Trainable params: 278,781\n",
            "Non-trainable params: 0\n",
            "_________________________________________________________________\n"
          ]
        }
      ]
    },
    {
      "cell_type": "code",
      "source": [
        "regressor.compile(optimizer = 'adam', loss = 'mean_squared_error')\n",
        "regressor.fit(X_train, y_train, epochs=5, batch_size = 64)"
      ],
      "metadata": {
        "colab": {
          "base_uri": "https://localhost:8080/"
        },
        "id": "3G2DAmbohY9p",
        "outputId": "a775459b-12a0-428e-bcbb-be1d9ab9c957"
      },
      "execution_count": 19,
      "outputs": [
        {
          "output_type": "stream",
          "name": "stdout",
          "text": [
            "Epoch 1/5\n",
            "132/132 [==============================] - 35s 231ms/step - loss: 0.0071\n",
            "Epoch 2/5\n",
            "132/132 [==============================] - 30s 231ms/step - loss: 0.0021\n",
            "Epoch 3/5\n",
            "132/132 [==============================] - 30s 230ms/step - loss: 0.0020\n",
            "Epoch 4/5\n",
            "132/132 [==============================] - 30s 231ms/step - loss: 0.0017\n",
            "Epoch 5/5\n",
            "132/132 [==============================] - 30s 231ms/step - loss: 0.0017\n"
          ]
        },
        {
          "output_type": "execute_result",
          "data": {
            "text/plain": [
              "<keras.callbacks.History at 0x7ff54fcdb880>"
            ]
          },
          "metadata": {},
          "execution_count": 19
        }
      ]
    },
    {
      "cell_type": "code",
      "source": [
        "past_60 = apple.tail(60)\n",
        "\n",
        "dt = past_60.append(testdata, ignore_index = True)\n",
        "dt"
      ],
      "metadata": {
        "colab": {
          "base_uri": "https://localhost:8080/",
          "height": 487
        },
        "id": "DeVKZz4PiyHk",
        "outputId": "39bc297b-e7fc-4e00-8408-9893404d431f"
      },
      "execution_count": 20,
      "outputs": [
        {
          "output_type": "execute_result",
          "data": {
            "text/plain": [
              "            Open        High         Low       Close   Adj Close     Volume  \\\n",
              "0      21.589643   21.657143   21.454643   21.596786   19.260490  234836000   \n",
              "1      21.565357   21.667856   21.502144   21.653929   19.311459  196859600   \n",
              "2      21.664286   21.780357   21.575001   21.688213   19.342035  200760000   \n",
              "3      21.687500   21.954643   21.659643   21.933214   19.560526  232209600   \n",
              "4      21.995714   22.352142   21.986786   22.343929   19.926819  348866000   \n",
              "...          ...         ...         ...         ...         ...        ...   \n",
              "2178  133.880005  134.259995  131.440002  133.410004  133.410004   71379600   \n",
              "2179  132.029999  134.919998  131.660004  134.759995  134.759995   57758000   \n",
              "2180  134.830002  137.289993  134.130005  135.940002  135.940002   63646600   \n",
              "2181  136.820007  138.610001  135.029999  135.210007  135.210007   69672800   \n",
              "2182  134.080002  136.250000  133.770004  135.270004  135.270004   58280400   \n",
              "\n",
              "         average       EMA20        EMA5  dist_EMA20  dist_EMA5  \n",
              "0      21.574554   20.838273   21.363548    3.533309   0.987689  \n",
              "1      21.597321   20.910564   21.441473    3.284263   0.726857  \n",
              "2      21.676964   20.983554   21.519970    3.304541   0.729529  \n",
              "3      21.808750   21.062144   21.616230    3.544776   0.890627  \n",
              "4      22.169643   21.167620   21.800701    4.733752   1.692339  \n",
              "...          ...         ...         ...         ...        ...  \n",
              "2178  133.247501  132.629022  131.210056    0.466323   1.552812  \n",
              "2179  133.342499  132.696972  131.920870    0.486467   1.077637  \n",
              "2180  135.547501  132.968451  133.129747    1.939595   1.816088  \n",
              "2181  136.417504  133.296932  134.225666    2.341068   1.632950  \n",
              "2182  134.842502  133.444129  134.431278    1.047909   0.305899  \n",
              "\n",
              "[2183 rows x 11 columns]"
            ],
            "text/html": [
              "\n",
              "  <div id=\"df-7fd8e94f-f55f-49f4-9c65-d7399fc28bba\">\n",
              "    <div class=\"colab-df-container\">\n",
              "      <div>\n",
              "<style scoped>\n",
              "    .dataframe tbody tr th:only-of-type {\n",
              "        vertical-align: middle;\n",
              "    }\n",
              "\n",
              "    .dataframe tbody tr th {\n",
              "        vertical-align: top;\n",
              "    }\n",
              "\n",
              "    .dataframe thead th {\n",
              "        text-align: right;\n",
              "    }\n",
              "</style>\n",
              "<table border=\"1\" class=\"dataframe\">\n",
              "  <thead>\n",
              "    <tr style=\"text-align: right;\">\n",
              "      <th></th>\n",
              "      <th>Open</th>\n",
              "      <th>High</th>\n",
              "      <th>Low</th>\n",
              "      <th>Close</th>\n",
              "      <th>Adj Close</th>\n",
              "      <th>Volume</th>\n",
              "      <th>average</th>\n",
              "      <th>EMA20</th>\n",
              "      <th>EMA5</th>\n",
              "      <th>dist_EMA20</th>\n",
              "      <th>dist_EMA5</th>\n",
              "    </tr>\n",
              "  </thead>\n",
              "  <tbody>\n",
              "    <tr>\n",
              "      <th>0</th>\n",
              "      <td>21.589643</td>\n",
              "      <td>21.657143</td>\n",
              "      <td>21.454643</td>\n",
              "      <td>21.596786</td>\n",
              "      <td>19.260490</td>\n",
              "      <td>234836000</td>\n",
              "      <td>21.574554</td>\n",
              "      <td>20.838273</td>\n",
              "      <td>21.363548</td>\n",
              "      <td>3.533309</td>\n",
              "      <td>0.987689</td>\n",
              "    </tr>\n",
              "    <tr>\n",
              "      <th>1</th>\n",
              "      <td>21.565357</td>\n",
              "      <td>21.667856</td>\n",
              "      <td>21.502144</td>\n",
              "      <td>21.653929</td>\n",
              "      <td>19.311459</td>\n",
              "      <td>196859600</td>\n",
              "      <td>21.597321</td>\n",
              "      <td>20.910564</td>\n",
              "      <td>21.441473</td>\n",
              "      <td>3.284263</td>\n",
              "      <td>0.726857</td>\n",
              "    </tr>\n",
              "    <tr>\n",
              "      <th>2</th>\n",
              "      <td>21.664286</td>\n",
              "      <td>21.780357</td>\n",
              "      <td>21.575001</td>\n",
              "      <td>21.688213</td>\n",
              "      <td>19.342035</td>\n",
              "      <td>200760000</td>\n",
              "      <td>21.676964</td>\n",
              "      <td>20.983554</td>\n",
              "      <td>21.519970</td>\n",
              "      <td>3.304541</td>\n",
              "      <td>0.729529</td>\n",
              "    </tr>\n",
              "    <tr>\n",
              "      <th>3</th>\n",
              "      <td>21.687500</td>\n",
              "      <td>21.954643</td>\n",
              "      <td>21.659643</td>\n",
              "      <td>21.933214</td>\n",
              "      <td>19.560526</td>\n",
              "      <td>232209600</td>\n",
              "      <td>21.808750</td>\n",
              "      <td>21.062144</td>\n",
              "      <td>21.616230</td>\n",
              "      <td>3.544776</td>\n",
              "      <td>0.890627</td>\n",
              "    </tr>\n",
              "    <tr>\n",
              "      <th>4</th>\n",
              "      <td>21.995714</td>\n",
              "      <td>22.352142</td>\n",
              "      <td>21.986786</td>\n",
              "      <td>22.343929</td>\n",
              "      <td>19.926819</td>\n",
              "      <td>348866000</td>\n",
              "      <td>22.169643</td>\n",
              "      <td>21.167620</td>\n",
              "      <td>21.800701</td>\n",
              "      <td>4.733752</td>\n",
              "      <td>1.692339</td>\n",
              "    </tr>\n",
              "    <tr>\n",
              "      <th>...</th>\n",
              "      <td>...</td>\n",
              "      <td>...</td>\n",
              "      <td>...</td>\n",
              "      <td>...</td>\n",
              "      <td>...</td>\n",
              "      <td>...</td>\n",
              "      <td>...</td>\n",
              "      <td>...</td>\n",
              "      <td>...</td>\n",
              "      <td>...</td>\n",
              "      <td>...</td>\n",
              "    </tr>\n",
              "    <tr>\n",
              "      <th>2178</th>\n",
              "      <td>133.880005</td>\n",
              "      <td>134.259995</td>\n",
              "      <td>131.440002</td>\n",
              "      <td>133.410004</td>\n",
              "      <td>133.410004</td>\n",
              "      <td>71379600</td>\n",
              "      <td>133.247501</td>\n",
              "      <td>132.629022</td>\n",
              "      <td>131.210056</td>\n",
              "      <td>0.466323</td>\n",
              "      <td>1.552812</td>\n",
              "    </tr>\n",
              "    <tr>\n",
              "      <th>2179</th>\n",
              "      <td>132.029999</td>\n",
              "      <td>134.919998</td>\n",
              "      <td>131.660004</td>\n",
              "      <td>134.759995</td>\n",
              "      <td>134.759995</td>\n",
              "      <td>57758000</td>\n",
              "      <td>133.342499</td>\n",
              "      <td>132.696972</td>\n",
              "      <td>131.920870</td>\n",
              "      <td>0.486467</td>\n",
              "      <td>1.077637</td>\n",
              "    </tr>\n",
              "    <tr>\n",
              "      <th>2180</th>\n",
              "      <td>134.830002</td>\n",
              "      <td>137.289993</td>\n",
              "      <td>134.130005</td>\n",
              "      <td>135.940002</td>\n",
              "      <td>135.940002</td>\n",
              "      <td>63646600</td>\n",
              "      <td>135.547501</td>\n",
              "      <td>132.968451</td>\n",
              "      <td>133.129747</td>\n",
              "      <td>1.939595</td>\n",
              "      <td>1.816088</td>\n",
              "    </tr>\n",
              "    <tr>\n",
              "      <th>2181</th>\n",
              "      <td>136.820007</td>\n",
              "      <td>138.610001</td>\n",
              "      <td>135.029999</td>\n",
              "      <td>135.210007</td>\n",
              "      <td>135.210007</td>\n",
              "      <td>69672800</td>\n",
              "      <td>136.417504</td>\n",
              "      <td>133.296932</td>\n",
              "      <td>134.225666</td>\n",
              "      <td>2.341068</td>\n",
              "      <td>1.632950</td>\n",
              "    </tr>\n",
              "    <tr>\n",
              "      <th>2182</th>\n",
              "      <td>134.080002</td>\n",
              "      <td>136.250000</td>\n",
              "      <td>133.770004</td>\n",
              "      <td>135.270004</td>\n",
              "      <td>135.270004</td>\n",
              "      <td>58280400</td>\n",
              "      <td>134.842502</td>\n",
              "      <td>133.444129</td>\n",
              "      <td>134.431278</td>\n",
              "      <td>1.047909</td>\n",
              "      <td>0.305899</td>\n",
              "    </tr>\n",
              "  </tbody>\n",
              "</table>\n",
              "<p>2183 rows × 11 columns</p>\n",
              "</div>\n",
              "      <button class=\"colab-df-convert\" onclick=\"convertToInteractive('df-7fd8e94f-f55f-49f4-9c65-d7399fc28bba')\"\n",
              "              title=\"Convert this dataframe to an interactive table.\"\n",
              "              style=\"display:none;\">\n",
              "        \n",
              "  <svg xmlns=\"http://www.w3.org/2000/svg\" height=\"24px\"viewBox=\"0 0 24 24\"\n",
              "       width=\"24px\">\n",
              "    <path d=\"M0 0h24v24H0V0z\" fill=\"none\"/>\n",
              "    <path d=\"M18.56 5.44l.94 2.06.94-2.06 2.06-.94-2.06-.94-.94-2.06-.94 2.06-2.06.94zm-11 1L8.5 8.5l.94-2.06 2.06-.94-2.06-.94L8.5 2.5l-.94 2.06-2.06.94zm10 10l.94 2.06.94-2.06 2.06-.94-2.06-.94-.94-2.06-.94 2.06-2.06.94z\"/><path d=\"M17.41 7.96l-1.37-1.37c-.4-.4-.92-.59-1.43-.59-.52 0-1.04.2-1.43.59L10.3 9.45l-7.72 7.72c-.78.78-.78 2.05 0 2.83L4 21.41c.39.39.9.59 1.41.59.51 0 1.02-.2 1.41-.59l7.78-7.78 2.81-2.81c.8-.78.8-2.07 0-2.86zM5.41 20L4 18.59l7.72-7.72 1.47 1.35L5.41 20z\"/>\n",
              "  </svg>\n",
              "      </button>\n",
              "      \n",
              "  <style>\n",
              "    .colab-df-container {\n",
              "      display:flex;\n",
              "      flex-wrap:wrap;\n",
              "      gap: 12px;\n",
              "    }\n",
              "\n",
              "    .colab-df-convert {\n",
              "      background-color: #E8F0FE;\n",
              "      border: none;\n",
              "      border-radius: 50%;\n",
              "      cursor: pointer;\n",
              "      display: none;\n",
              "      fill: #1967D2;\n",
              "      height: 32px;\n",
              "      padding: 0 0 0 0;\n",
              "      width: 32px;\n",
              "    }\n",
              "\n",
              "    .colab-df-convert:hover {\n",
              "      background-color: #E2EBFA;\n",
              "      box-shadow: 0px 1px 2px rgba(60, 64, 67, 0.3), 0px 1px 3px 1px rgba(60, 64, 67, 0.15);\n",
              "      fill: #174EA6;\n",
              "    }\n",
              "\n",
              "    [theme=dark] .colab-df-convert {\n",
              "      background-color: #3B4455;\n",
              "      fill: #D2E3FC;\n",
              "    }\n",
              "\n",
              "    [theme=dark] .colab-df-convert:hover {\n",
              "      background-color: #434B5C;\n",
              "      box-shadow: 0px 1px 3px 1px rgba(0, 0, 0, 0.15);\n",
              "      filter: drop-shadow(0px 1px 2px rgba(0, 0, 0, 0.3));\n",
              "      fill: #FFFFFF;\n",
              "    }\n",
              "  </style>\n",
              "\n",
              "      <script>\n",
              "        const buttonEl =\n",
              "          document.querySelector('#df-7fd8e94f-f55f-49f4-9c65-d7399fc28bba button.colab-df-convert');\n",
              "        buttonEl.style.display =\n",
              "          google.colab.kernel.accessAllowed ? 'block' : 'none';\n",
              "\n",
              "        async function convertToInteractive(key) {\n",
              "          const element = document.querySelector('#df-7fd8e94f-f55f-49f4-9c65-d7399fc28bba');\n",
              "          const dataTable =\n",
              "            await google.colab.kernel.invokeFunction('convertToInteractive',\n",
              "                                                     [key], {});\n",
              "          if (!dataTable) return;\n",
              "\n",
              "          const docLinkHtml = 'Like what you see? Visit the ' +\n",
              "            '<a target=\"_blank\" href=https://colab.research.google.com/notebooks/data_table.ipynb>data table notebook</a>'\n",
              "            + ' to learn more about interactive tables.';\n",
              "          element.innerHTML = '';\n",
              "          dataTable['output_type'] = 'display_data';\n",
              "          await google.colab.output.renderOutput(dataTable, element);\n",
              "          const docLink = document.createElement('div');\n",
              "          docLink.innerHTML = docLinkHtml;\n",
              "          element.appendChild(docLink);\n",
              "        }\n",
              "      </script>\n",
              "    </div>\n",
              "  </div>\n",
              "  "
            ]
          },
          "metadata": {},
          "execution_count": 20
        }
      ]
    },
    {
      "cell_type": "code",
      "source": [
        "inputs = scalar.fit_transform(dt)\n",
        "print(inputs.shape)\n",
        "inputs"
      ],
      "metadata": {
        "colab": {
          "base_uri": "https://localhost:8080/"
        },
        "id": "WoRPF-tijmK9",
        "outputId": "ca8365fe-bb8f-49c4-cf39-56935aa2c388"
      },
      "execution_count": 21,
      "outputs": [
        {
          "output_type": "stream",
          "name": "stdout",
          "text": [
            "(2183, 11)\n"
          ]
        },
        {
          "output_type": "execute_result",
          "data": {
            "text/plain": [
              "array([[1.50784175e-04, 0.00000000e+00, 0.00000000e+00, ...,\n",
              "        0.00000000e+00, 6.68226981e-01, 5.82187370e-01],\n",
              "       [0.00000000e+00, 6.64236737e-05, 3.01277354e-04, ...,\n",
              "        4.92563591e-04, 6.59751924e-01, 5.65400833e-01],\n",
              "       [6.14219205e-04, 7.63962152e-04, 7.63376344e-04, ...,\n",
              "        9.88747820e-04, 6.60441980e-01, 5.65572798e-01],\n",
              "       ...,\n",
              "       [7.03224739e-01, 7.16956847e-01, 7.14648847e-01, ...,\n",
              "        7.06479314e-01, 6.13992640e-01, 6.35501150e-01],\n",
              "       [7.15580057e-01, 7.25141275e-01, 7.20357102e-01, ...,\n",
              "        7.13406667e-01, 6.27654816e-01, 6.23714807e-01],\n",
              "       [6.98568223e-01, 7.10508592e-01, 7.12365523e-01, ...,\n",
              "        7.14706351e-01, 5.83648421e-01, 5.38309036e-01]])"
            ]
          },
          "metadata": {},
          "execution_count": 21
        }
      ]
    },
    {
      "cell_type": "code",
      "source": [
        "X_test = []\n",
        "y_test = []\n",
        "\n",
        "for i in range(60, inputs.shape[0]):\n",
        "    X_test.append(inputs[i-60:i])\n",
        "    y_test.append(inputs[i, 0])\n",
        "    \n",
        "X_test, y_test = np.array(X_test), np.array(y_test).reshape(-1,1)\n",
        "X_test.shape, y_test.shape"
      ],
      "metadata": {
        "colab": {
          "base_uri": "https://localhost:8080/"
        },
        "id": "r1Yr-fnGkunZ",
        "outputId": "c1249d6f-7380-4b74-d1ea-296e8a9aab20"
      },
      "execution_count": 22,
      "outputs": [
        {
          "output_type": "execute_result",
          "data": {
            "text/plain": [
              "((2123, 60, 11), (2123, 1))"
            ]
          },
          "metadata": {},
          "execution_count": 22
        }
      ]
    },
    {
      "cell_type": "code",
      "source": [
        "y_pred = regressor.predict(X_test)"
      ],
      "metadata": {
        "colab": {
          "base_uri": "https://localhost:8080/"
        },
        "id": "NYGI8yn7kxcn",
        "outputId": "e2a145f3-d71f-4d55-a2b6-f3757da943d9"
      },
      "execution_count": 23,
      "outputs": [
        {
          "output_type": "stream",
          "name": "stdout",
          "text": [
            "67/67 [==============================] - 3s 41ms/step\n"
          ]
        }
      ]
    },
    {
      "cell_type": "code",
      "source": [
        "y_pred.shape"
      ],
      "metadata": {
        "colab": {
          "base_uri": "https://localhost:8080/"
        },
        "id": "V9ZAwyu5k67L",
        "outputId": "0459bc50-a55c-45f1-c558-afcceaba6b51"
      },
      "execution_count": 24,
      "outputs": [
        {
          "output_type": "execute_result",
          "data": {
            "text/plain": [
              "(2123, 1)"
            ]
          },
          "metadata": {},
          "execution_count": 24
        }
      ]
    },
    {
      "cell_type": "code",
      "source": [
        "node = pd.isnull(y_pred).any(1).nonzero()[0]"
      ],
      "metadata": {
        "id": "PIvM7A2yk_TH"
      },
      "execution_count": 25,
      "outputs": []
    },
    {
      "cell_type": "code",
      "source": [
        "y_pred = np.delete(y_pred,node)\n",
        "y_test = np.delete(y_test,node)"
      ],
      "metadata": {
        "id": "Fj6JlRlqlCzj"
      },
      "execution_count": 26,
      "outputs": []
    },
    {
      "cell_type": "code",
      "source": [
        "ans = pd.DataFrame()\n",
        "ans['y_pred'] = y_pred\n",
        "ans['y_test'] = y_test    "
      ],
      "metadata": {
        "id": "O_lhagvSlHQV"
      },
      "execution_count": 27,
      "outputs": []
    },
    {
      "cell_type": "code",
      "source": [
        "ans = ans.dropna()\n",
        "scale = 1/scalar.scale_[0]"
      ],
      "metadata": {
        "id": "BRtVS7XxlLof"
      },
      "execution_count": 28,
      "outputs": []
    },
    {
      "cell_type": "code",
      "source": [
        "y_pred = y_pred*scale\n",
        "y_test = y_test*scale"
      ],
      "metadata": {
        "id": "Oi6-p4OvlSES"
      },
      "execution_count": 29,
      "outputs": []
    },
    {
      "cell_type": "code",
      "source": [
        "# Visualising the results\n",
        "plt.figure(figsize=(28,12))\n",
        "plt.plot(y_test, color = 'red', label = 'Actual Prices of Apple Inc')\n",
        "plt.plot(y_pred, color = 'blue', label = 'Predicted Apple Price')\n",
        "plt.title('Apple Price Prediction-After 25 epochs and Batch Size=64')\n",
        "plt.xlabel('Time')\n",
        "plt.ylabel('Price')\n",
        "plt.legend()\n",
        "plt.show()"
      ],
      "metadata": {
        "colab": {
          "base_uri": "https://localhost:8080/",
          "height": 396
        },
        "id": "M_TECnbalWjL",
        "outputId": "523a03e7-2958-4948-cf0c-b81ed9688229"
      },
      "execution_count": 30,
      "outputs": [
        {
          "output_type": "display_data",
          "data": {
            "text/plain": [
              "<Figure size 2016x864 with 1 Axes>"
            ],
            "image/png": "[encoded data removed]"
          },
          "metadata": {}
        }
      ]
    },
    {
      "cell_type": "code",
      "source": [
        "# Visualising time.........Visualizing various results at different epoch and batch size\n",
        "plt.figure(figsize=(12,8))\n",
        "plt.plot(y_test, color = 'blue', label = 'Actual Prices of Apple Inc')\n",
        "plt.plot(y_pred, color = 'orange', label = 'Predicted Apple Price')\n",
        "plt.title('Apple Prediction-after 10 epochs and Batch Size=32')\n",
        "plt.xlabel('Time')\n",
        "plt.ylabel('Price')\n",
        "plt.legend()\n",
        "plt.show()"
      ],
      "metadata": {
        "colab": {
          "base_uri": "https://localhost:8080/",
          "height": 513
        },
        "id": "mKDvzzFlleps",
        "outputId": "80e7fcd5-c0cf-4fdf-e039-344395e32f07"
      },
      "execution_count": 31,
      "outputs": [
        {
          "output_type": "display_data",
          "data": {
            "text/plain": [
              "<Figure size 864x576 with 1 Axes>"
            ],
            "image/png": "[encoded data removed]"
          },
          "metadata": {}
        }
      ]
    },
    {
      "cell_type": "code",
      "source": [
        "plt.figure(figsize=(20,10))\n",
        "plt.plot(y_test,'red',label='Actual Prices')\n",
        "plt.plot(y_pred,'blue',label='Predicted Prices')\n",
        "plt.xlabel('Time')\n",
        "plt.ylabel('Prices')\n",
        "plt.title('Actual vs Predicted Prices')\n",
        "plt.legend(loc='best', fontsize=20)"
      ],
      "metadata": {
        "colab": {
          "base_uri": "https://localhost:8080/",
          "height": 477
        },
        "id": "1MeaaiKClpp-",
        "outputId": "e060459c-f3b7-42ea-c77e-37d02e0427ee"
      },
      "execution_count": 32,
      "outputs": [
        {
          "output_type": "execute_result",
          "data": {
            "text/plain": [
              "<matplotlib.legend.Legend at 0x7ff54e2f6310>"
            ]
          },
          "metadata": {},
          "execution_count": 32
        },
        {
          "output_type": "display_data",
          "data": {
            "text/plain": [
              "<Figure size 1440x720 with 1 Axes>"
            ],
            "image/png": "[encoded data removed]"
          },
          "metadata": {}
        }
      ]
    },
    {
      "cell_type": "code",
      "source": [
        " print(mean_squared_error(ans.y_test, ans.y_pred, squared = False))      #MSE"
      ],
      "metadata": {
        "colab": {
          "base_uri": "https://localhost:8080/"
        },
        "id": "hcYic9oilvG5",
        "outputId": "3c9b42f9-5600-4e6b-d6f5-1552c416b3e3"
      },
      "execution_count": 56,
      "outputs": [
        {
          "output_type": "stream",
          "name": "stdout",
          "text": [
            "0.04976009397087936\n"
          ]
        }
      ]
    },
    {
      "cell_type": "code",
      "source": [
        "print(mean_squared_error(ans.y_test, ans.y_pred, squared = True))         #RMSE"
      ],
      "metadata": {
        "colab": {
          "base_uri": "https://localhost:8080/"
        },
        "id": "WNYlEL_Blzzz",
        "outputId": "ea1b3829-6dfc-498a-ff73-e7363a713c34"
      },
      "execution_count": 57,
      "outputs": [
        {
          "output_type": "stream",
          "name": "stdout",
          "text": [
            "0.0024760669519907448\n"
          ]
        }
      ]
    },
    {
      "cell_type": "code",
      "source": [
        "from sklearn.metrics import mean_absolute_error\n",
        "mae= np.mean(np.abs(ans.y_pred - y_test))\n",
        "from keras.metrics.metrics import mean_absolute_percentage_error\n",
        "mape = (np.mean(np.abs(ans.y_pred - y_test) /y_test))\n",
        "\n",
        "print(\"MAE:\", mae)\n",
        "print(\"MAPE:\", mape)"
      ],
      "metadata": {
        "colab": {
          "base_uri": "https://localhost:8080/"
        },
        "id": "hAxUYhIV-4Dj",
        "outputId": "fb6d8e12-809a-4ff6-c694-4388918ebb45"
      },
      "execution_count": 35,
      "outputs": [
        {
          "output_type": "stream",
          "name": "stdout",
          "text": [
            "MAE: 49.35154680383715\n",
            "MAPE: 0.9940126895063909\n"
          ]
        }
      ]
    },
    {
      "cell_type": "code",
      "source": [
        "apple"
      ],
      "metadata": {
        "colab": {
          "base_uri": "https://localhost:8080/",
          "height": 505
        },
        "id": "AwtJ7q37l5xS",
        "outputId": "81f19643-4d8b-4e71-a33f-dc48d25940fe"
      },
      "execution_count": 36,
      "outputs": [
        {
          "output_type": "execute_result",
          "data": {
            "text/plain": [
              "           Open       High        Low      Close  Adj Close     Volume  \\\n",
              "0      0.122210   0.122210   0.121652   0.121652   0.094663  175884800   \n",
              "1      0.113281   0.113281   0.112723   0.112723   0.087715  105728000   \n",
              "2      0.115513   0.116071   0.115513   0.115513   0.089886   86441600   \n",
              "3      0.118862   0.119420   0.118862   0.118862   0.092492   73449600   \n",
              "4      0.126116   0.126674   0.126116   0.126116   0.098137   48630400   \n",
              "...         ...        ...        ...        ...        ...        ...   \n",
              "8486  23.732500  23.987499  23.525000  23.620001  21.169622  186844000   \n",
              "8487  23.565001  23.705000  23.320000  23.684999  21.227877  167460000   \n",
              "8488  23.817499  24.020000  23.709999  23.997499  21.507961  146340000   \n",
              "8489  24.010000  24.219999  23.902500  23.992500  21.503477  135180000   \n",
              "8490  24.037500  24.309999  24.010000  24.309999  21.788038  127664000   \n",
              "\n",
              "        average      EMA20       EMA5  dist_EMA20  dist_EMA5  \n",
              "0      0.121931   0.121931   0.121931    0.000000   0.000000  \n",
              "1      0.113002   0.121081   0.118955   -6.672099  -5.004147  \n",
              "2      0.115652   0.120564   0.117854   -4.073496  -1.867943  \n",
              "3      0.119002   0.120415   0.118236   -1.173757   0.647040  \n",
              "4      0.126256   0.120971   0.120909    4.368292   4.421510  \n",
              "...         ...        ...        ...         ...        ...  \n",
              "8486  23.716250  23.892164  23.852275   -0.736282  -0.570283  \n",
              "8487  23.568750  23.861362  23.757767   -1.226302  -0.795601  \n",
              "8488  23.886249  23.863733  23.800594    0.094355   0.359885  \n",
              "8489  24.031250  23.879687  23.877480    0.634695   0.643997  \n",
              "8490  24.166875  23.907038  23.973945    1.086863   0.804749  \n",
              "\n",
              "[8491 rows x 11 columns]"
            ],
            "text/html": [
              "\n",
              "  <div id=\"df-5d40a7ea-9093-4095-a7fc-97731aa3dbf6\">\n",
              "    <div class=\"colab-df-container\">\n",
              "      <div>\n",
              "<style scoped>\n",
              "    .dataframe tbody tr th:only-of-type {\n",
              "        vertical-align: middle;\n",
              "    }\n",
              "\n",
              "    .dataframe tbody tr th {\n",
              "        vertical-align: top;\n",
              "    }\n",
              "\n",
              "    .dataframe thead th {\n",
              "        text-align: right;\n",
              "    }\n",
              "</style>\n",
              "<table border=\"1\" class=\"dataframe\">\n",
              "  <thead>\n",
              "    <tr style=\"text-align: right;\">\n",
              "      <th></th>\n",
              "      <th>Open</th>\n",
              "      <th>High</th>\n",
              "      <th>Low</th>\n",
              "      <th>Close</th>\n",
              "      <th>Adj Close</th>\n",
              "      <th>Volume</th>\n",
              "      <th>average</th>\n",
              "      <th>EMA20</th>\n",
              "      <th>EMA5</th>\n",
              "      <th>dist_EMA20</th>\n",
              "      <th>dist_EMA5</th>\n",
              "    </tr>\n",
              "  </thead>\n",
              "  <tbody>\n",
              "    <tr>\n",
              "      <th>0</th>\n",
              "      <td>0.122210</td>\n",
              "      <td>0.122210</td>\n",
              "      <td>0.121652</td>\n",
              "      <td>0.121652</td>\n",
              "      <td>0.094663</td>\n",
              "      <td>175884800</td>\n",
              "      <td>0.121931</td>\n",
              "      <td>0.121931</td>\n",
              "      <td>0.121931</td>\n",
              "      <td>0.000000</td>\n",
              "      <td>0.000000</td>\n",
              "    </tr>\n",
              "    <tr>\n",
              "      <th>1</th>\n",
              "      <td>0.113281</td>\n",
              "      <td>0.113281</td>\n",
              "      <td>0.112723</td>\n",
              "      <td>0.112723</td>\n",
              "      <td>0.087715</td>\n",
              "      <td>105728000</td>\n",
              "      <td>0.113002</td>\n",
              "      <td>0.121081</td>\n",
              "      <td>0.118955</td>\n",
              "      <td>-6.672099</td>\n",
              "      <td>-5.004147</td>\n",
              "    </tr>\n",
              "    <tr>\n",
              "      <th>2</th>\n",
              "      <td>0.115513</td>\n",
              "      <td>0.116071</td>\n",
              "      <td>0.115513</td>\n",
              "      <td>0.115513</td>\n",
              "      <td>0.089886</td>\n",
              "      <td>86441600</td>\n",
              "      <td>0.115652</td>\n",
              "      <td>0.120564</td>\n",
              "      <td>0.117854</td>\n",
              "      <td>-4.073496</td>\n",
              "      <td>-1.867943</td>\n",
              "    </tr>\n",
              "    <tr>\n",
              "      <th>3</th>\n",
              "      <td>0.118862</td>\n",
              "      <td>0.119420</td>\n",
              "      <td>0.118862</td>\n",
              "      <td>0.118862</td>\n",
              "      <td>0.092492</td>\n",
              "      <td>73449600</td>\n",
              "      <td>0.119002</td>\n",
              "      <td>0.120415</td>\n",
              "      <td>0.118236</td>\n",
              "      <td>-1.173757</td>\n",
              "      <td>0.647040</td>\n",
              "    </tr>\n",
              "    <tr>\n",
              "      <th>4</th>\n",
              "      <td>0.126116</td>\n",
              "      <td>0.126674</td>\n",
              "      <td>0.126116</td>\n",
              "      <td>0.126116</td>\n",
              "      <td>0.098137</td>\n",
              "      <td>48630400</td>\n",
              "      <td>0.126256</td>\n",
              "      <td>0.120971</td>\n",
              "      <td>0.120909</td>\n",
              "      <td>4.368292</td>\n",
              "      <td>4.421510</td>\n",
              "    </tr>\n",
              "    <tr>\n",
              "      <th>...</th>\n",
              "      <td>...</td>\n",
              "      <td>...</td>\n",
              "      <td>...</td>\n",
              "      <td>...</td>\n",
              "      <td>...</td>\n",
              "      <td>...</td>\n",
              "      <td>...</td>\n",
              "      <td>...</td>\n",
              "      <td>...</td>\n",
              "      <td>...</td>\n",
              "      <td>...</td>\n",
              "    </tr>\n",
              "    <tr>\n",
              "      <th>8486</th>\n",
              "      <td>23.732500</td>\n",
              "      <td>23.987499</td>\n",
              "      <td>23.525000</td>\n",
              "      <td>23.620001</td>\n",
              "      <td>21.169622</td>\n",
              "      <td>186844000</td>\n",
              "      <td>23.716250</td>\n",
              "      <td>23.892164</td>\n",
              "      <td>23.852275</td>\n",
              "      <td>-0.736282</td>\n",
              "      <td>-0.570283</td>\n",
              "    </tr>\n",
              "    <tr>\n",
              "      <th>8487</th>\n",
              "      <td>23.565001</td>\n",
              "      <td>23.705000</td>\n",
              "      <td>23.320000</td>\n",
              "      <td>23.684999</td>\n",
              "      <td>21.227877</td>\n",
              "      <td>167460000</td>\n",
              "      <td>23.568750</td>\n",
              "      <td>23.861362</td>\n",
              "      <td>23.757767</td>\n",
              "      <td>-1.226302</td>\n",
              "      <td>-0.795601</td>\n",
              "    </tr>\n",
              "    <tr>\n",
              "      <th>8488</th>\n",
              "      <td>23.817499</td>\n",
              "      <td>24.020000</td>\n",
              "      <td>23.709999</td>\n",
              "      <td>23.997499</td>\n",
              "      <td>21.507961</td>\n",
              "      <td>146340000</td>\n",
              "      <td>23.886249</td>\n",
              "      <td>23.863733</td>\n",
              "      <td>23.800594</td>\n",
              "      <td>0.094355</td>\n",
              "      <td>0.359885</td>\n",
              "    </tr>\n",
              "    <tr>\n",
              "      <th>8489</th>\n",
              "      <td>24.010000</td>\n",
              "      <td>24.219999</td>\n",
              "      <td>23.902500</td>\n",
              "      <td>23.992500</td>\n",
              "      <td>21.503477</td>\n",
              "      <td>135180000</td>\n",
              "      <td>24.031250</td>\n",
              "      <td>23.879687</td>\n",
              "      <td>23.877480</td>\n",
              "      <td>0.634695</td>\n",
              "      <td>0.643997</td>\n",
              "    </tr>\n",
              "    <tr>\n",
              "      <th>8490</th>\n",
              "      <td>24.037500</td>\n",
              "      <td>24.309999</td>\n",
              "      <td>24.010000</td>\n",
              "      <td>24.309999</td>\n",
              "      <td>21.788038</td>\n",
              "      <td>127664000</td>\n",
              "      <td>24.166875</td>\n",
              "      <td>23.907038</td>\n",
              "      <td>23.973945</td>\n",
              "      <td>1.086863</td>\n",
              "      <td>0.804749</td>\n",
              "    </tr>\n",
              "  </tbody>\n",
              "</table>\n",
              "<p>8491 rows × 11 columns</p>\n",
              "</div>\n",
              "      <button class=\"colab-df-convert\" onclick=\"convertToInteractive('df-5d40a7ea-9093-4095-a7fc-97731aa3dbf6')\"\n",
              "              title=\"Convert this dataframe to an interactive table.\"\n",
              "              style=\"display:none;\">\n",
              "        \n",
              "  <svg xmlns=\"http://www.w3.org/2000/svg\" height=\"24px\"viewBox=\"0 0 24 24\"\n",
              "       width=\"24px\">\n",
              "    <path d=\"M0 0h24v24H0V0z\" fill=\"none\"/>\n",
              "    <path d=\"M18.56 5.44l.94 2.06.94-2.06 2.06-.94-2.06-.94-.94-2.06-.94 2.06-2.06.94zm-11 1L8.5 8.5l.94-2.06 2.06-.94-2.06-.94L8.5 2.5l-.94 2.06-2.06.94zm10 10l.94 2.06.94-2.06 2.06-.94-2.06-.94-.94-2.06-.94 2.06-2.06.94z\"/><path d=\"M17.41 7.96l-1.37-1.37c-.4-.4-.92-.59-1.43-.59-.52 0-1.04.2-1.43.59L10.3 9.45l-7.72 7.72c-.78.78-.78 2.05 0 2.83L4 21.41c.39.39.9.59 1.41.59.51 0 1.02-.2 1.41-.59l7.78-7.78 2.81-2.81c.8-.78.8-2.07 0-2.86zM5.41 20L4 18.59l7.72-7.72 1.47 1.35L5.41 20z\"/>\n",
              "  </svg>\n",
              "      </button>\n",
              "      \n",
              "  <style>\n",
              "    .colab-df-container {\n",
              "      display:flex;\n",
              "      flex-wrap:wrap;\n",
              "      gap: 12px;\n",
              "    }\n",
              "\n",
              "    .colab-df-convert {\n",
              "      background-color: #E8F0FE;\n",
              "      border: none;\n",
              "      border-radius: 50%;\n",
              "      cursor: pointer;\n",
              "      display: none;\n",
              "      fill: #1967D2;\n",
              "      height: 32px;\n",
              "      padding: 0 0 0 0;\n",
              "      width: 32px;\n",
              "    }\n",
              "\n",
              "    .colab-df-convert:hover {\n",
              "      background-color: #E2EBFA;\n",
              "      box-shadow: 0px 1px 2px rgba(60, 64, 67, 0.3), 0px 1px 3px 1px rgba(60, 64, 67, 0.15);\n",
              "      fill: #174EA6;\n",
              "    }\n",
              "\n",
              "    [theme=dark] .colab-df-convert {\n",
              "      background-color: #3B4455;\n",
              "      fill: #D2E3FC;\n",
              "    }\n",
              "\n",
              "    [theme=dark] .colab-df-convert:hover {\n",
              "      background-color: #434B5C;\n",
              "      box-shadow: 0px 1px 3px 1px rgba(0, 0, 0, 0.15);\n",
              "      filter: drop-shadow(0px 1px 2px rgba(0, 0, 0, 0.3));\n",
              "      fill: #FFFFFF;\n",
              "    }\n",
              "  </style>\n",
              "\n",
              "      <script>\n",
              "        const buttonEl =\n",
              "          document.querySelector('#df-5d40a7ea-9093-4095-a7fc-97731aa3dbf6 button.colab-df-convert');\n",
              "        buttonEl.style.display =\n",
              "          google.colab.kernel.accessAllowed ? 'block' : 'none';\n",
              "\n",
              "        async function convertToInteractive(key) {\n",
              "          const element = document.querySelector('#df-5d40a7ea-9093-4095-a7fc-97731aa3dbf6');\n",
              "          const dataTable =\n",
              "            await google.colab.kernel.invokeFunction('convertToInteractive',\n",
              "                                                     [key], {});\n",
              "          if (!dataTable) return;\n",
              "\n",
              "          const docLinkHtml = 'Like what you see? Visit the ' +\n",
              "            '<a target=\"_blank\" href=https://colab.research.google.com/notebooks/data_table.ipynb>data table notebook</a>'\n",
              "            + ' to learn more about interactive tables.';\n",
              "          element.innerHTML = '';\n",
              "          dataTable['output_type'] = 'display_data';\n",
              "          await google.colab.output.renderOutput(dataTable, element);\n",
              "          const docLink = document.createElement('div');\n",
              "          docLink.innerHTML = docLinkHtml;\n",
              "          element.appendChild(docLink);\n",
              "        }\n",
              "      </script>\n",
              "    </div>\n",
              "  </div>\n",
              "  "
            ]
          },
          "metadata": {},
          "execution_count": 36
        }
      ]
    },
    {
      "cell_type": "code",
      "source": [
        "apple_AdjClose= apple.iloc[:,3].values.reshape(-1,1)\n",
        "apple_AdjClose"
      ],
      "metadata": {
        "colab": {
          "base_uri": "https://localhost:8080/"
        },
        "id": "f5z5REPQmHhH",
        "outputId": "2f28ce87-a860-40f2-c14f-366fb9413c11"
      },
      "execution_count": 37,
      "outputs": [
        {
          "output_type": "execute_result",
          "data": {
            "text/plain": [
              "array([[ 0.121652],\n",
              "       [ 0.112723],\n",
              "       [ 0.115513],\n",
              "       ...,\n",
              "       [23.997499],\n",
              "       [23.9925  ],\n",
              "       [24.309999]])"
            ]
          },
          "metadata": {},
          "execution_count": 37
        }
      ]
    },
    {
      "cell_type": "code",
      "source": [
        "from sklearn.preprocessing import MinMaxScaler\n",
        "ss= MinMaxScaler(feature_range=(0,1))\n",
        "apple_AdjClose_scaled= ss.fit_transform(apple_AdjClose)"
      ],
      "metadata": {
        "id": "RHwrHl2PmO3V"
      },
      "execution_count": 39,
      "outputs": []
    },
    {
      "cell_type": "code",
      "source": [
        "xtrain=[]\n",
        "ytrain=[]\n",
        "for i in range(30,len(apple_AdjClose_scaled)):\n",
        "    xtrain.append(apple_AdjClose_scaled[i-30:i,0])\n",
        "    ytrain.append(apple_AdjClose_scaled[i,0])\n",
        "\n",
        "xtrain, ytrain = np.array(xtrain), np.array(ytrain)\n",
        "\n",
        "xtrain= np.reshape(xtrain,(xtrain.shape[0],xtrain.shape[1],1))\n",
        "print(xtrain.shape)\n",
        "print(ytrain.shape)"
      ],
      "metadata": {
        "colab": {
          "base_uri": "https://localhost:8080/"
        },
        "id": "63zxQpnxmVsh",
        "outputId": "79114f85-1cf7-4d15-d718-e9877ddd3b7f"
      },
      "execution_count": 40,
      "outputs": [
        {
          "output_type": "stream",
          "name": "stdout",
          "text": [
            "(8461, 30, 1)\n",
            "(8461,)\n"
          ]
        }
      ]
    },
    {
      "cell_type": "code",
      "source": [
        "regression= Sequential()\n",
        "\n",
        "#First Input layer and LSTM layer with 0.2% dropout\n",
        "regression.add(LSTM(units=50,return_sequences=True,kernel_initializer='glorot_uniform',input_shape=(xtrain.shape[1],1)))\n",
        "regression.add(Dropout(0.2))\n",
        "\n",
        "# Where:\n",
        "# return_sequences: Boolean. Whether to return the last output in the output sequence, or the full sequence.\n",
        "\n",
        "# Second LSTM layer with 0.2% dropout\n",
        "regression.add(LSTM(units=50,kernel_initializer='glorot_uniform',return_sequences=True))\n",
        "regression.add(Dropout(0.2))\n",
        "\n",
        "#Third LSTM layer with 0.2% dropout\n",
        "regression.add(LSTM(units=50,kernel_initializer='glorot_uniform',return_sequences=True))\n",
        "regression.add(Dropout(0.2))\n",
        "\n",
        "#Fourth LSTM layer with 0.2% dropout, we wont use return sequence true in last layers as we dont want to previous output\n",
        "regression.add(LSTM(units=50,kernel_initializer='glorot_uniform'))\n",
        "regression.add(Dropout(0.2))\n",
        "#Output layer , we wont pass any activation as its continous value model\n",
        "regression.add(Dense(units=1))\n",
        "\n",
        "#Compiling the network\n",
        "regression.compile(optimizer='adam',loss='mean_squared_error')\n",
        "\n",
        "\n",
        "#fitting the network\n",
        "regression.fit(xtrain,ytrain,batch_size=30,epochs=50)"
      ],
      "metadata": {
        "colab": {
          "base_uri": "https://localhost:8080/"
        },
        "id": "ZCTZpOzImcsA",
        "outputId": "069c645c-05b0-4473-f43b-ea3872c4975c"
      },
      "execution_count": 41,
      "outputs": [
        {
          "output_type": "stream",
          "name": "stdout",
          "text": [
            "Epoch 1/50\n",
            "283/283 [==============================] - 17s 42ms/step - loss: 0.0022\n",
            "Epoch 2/50\n",
            "283/283 [==============================] - 13s 45ms/step - loss: 0.0010\n",
            "Epoch 3/50\n",
            "283/283 [==============================] - 12s 42ms/step - loss: 9.9370e-04\n",
            "Epoch 4/50\n",
            "283/283 [==============================] - 12s 41ms/step - loss: 8.4037e-04\n",
            "Epoch 5/50\n",
            "283/283 [==============================] - 12s 41ms/step - loss: 7.5468e-04\n",
            "Epoch 6/50\n",
            "283/283 [==============================] - 12s 42ms/step - loss: 7.7687e-04\n",
            "Epoch 7/50\n",
            "283/283 [==============================] - 12s 42ms/step - loss: 7.2604e-04\n",
            "Epoch 8/50\n",
            "283/283 [==============================] - 12s 42ms/step - loss: 6.5669e-04\n",
            "Epoch 9/50\n",
            "283/283 [==============================] - 12s 43ms/step - loss: 6.2144e-04\n",
            "Epoch 10/50\n",
            "283/283 [==============================] - 12s 43ms/step - loss: 5.4657e-04\n",
            "Epoch 11/50\n",
            "283/283 [==============================] - 12s 43ms/step - loss: 6.9614e-04\n",
            "Epoch 12/50\n",
            "283/283 [==============================] - 12s 42ms/step - loss: 6.3076e-04\n",
            "Epoch 13/50\n",
            "283/283 [==============================] - 12s 42ms/step - loss: 5.7539e-04\n",
            "Epoch 14/50\n",
            "283/283 [==============================] - 12s 42ms/step - loss: 6.3402e-04\n",
            "Epoch 15/50\n",
            "283/283 [==============================] - 12s 42ms/step - loss: 5.7960e-04\n",
            "Epoch 16/50\n",
            "283/283 [==============================] - 12s 43ms/step - loss: 5.2298e-04\n",
            "Epoch 17/50\n",
            "283/283 [==============================] - 12s 43ms/step - loss: 5.6104e-04\n",
            "Epoch 18/50\n",
            "283/283 [==============================] - 12s 43ms/step - loss: 5.3876e-04\n",
            "Epoch 19/50\n",
            "283/283 [==============================] - 12s 42ms/step - loss: 6.1700e-04\n",
            "Epoch 20/50\n",
            "283/283 [==============================] - 12s 42ms/step - loss: 6.0385e-04\n",
            "Epoch 21/50\n",
            "283/283 [==============================] - 12s 42ms/step - loss: 6.2361e-04\n",
            "Epoch 22/50\n",
            "283/283 [==============================] - 12s 42ms/step - loss: 5.3536e-04\n",
            "Epoch 23/50\n",
            "283/283 [==============================] - 12s 42ms/step - loss: 5.9046e-04\n",
            "Epoch 24/50\n",
            "283/283 [==============================] - 12s 43ms/step - loss: 5.3149e-04\n",
            "Epoch 25/50\n",
            "283/283 [==============================] - 12s 42ms/step - loss: 5.3906e-04\n",
            "Epoch 26/50\n",
            "283/283 [==============================] - 12s 43ms/step - loss: 5.8333e-04\n",
            "Epoch 27/50\n",
            "283/283 [==============================] - 12s 43ms/step - loss: 4.8754e-04\n",
            "Epoch 28/50\n",
            "283/283 [==============================] - 12s 42ms/step - loss: 4.8915e-04\n",
            "Epoch 29/50\n",
            "283/283 [==============================] - 12s 42ms/step - loss: 5.2383e-04\n",
            "Epoch 30/50\n",
            "283/283 [==============================] - 12s 42ms/step - loss: 5.1143e-04\n",
            "Epoch 31/50\n",
            "283/283 [==============================] - 12s 42ms/step - loss: 4.9308e-04\n",
            "Epoch 32/50\n",
            "283/283 [==============================] - 12s 42ms/step - loss: 5.1324e-04\n",
            "Epoch 33/50\n",
            "283/283 [==============================] - 12s 42ms/step - loss: 5.1950e-04\n",
            "Epoch 34/50\n",
            "283/283 [==============================] - 12s 42ms/step - loss: 5.1624e-04\n",
            "Epoch 35/50\n",
            "283/283 [==============================] - 12s 41ms/step - loss: 5.0416e-04\n",
            "Epoch 36/50\n",
            "283/283 [==============================] - 12s 43ms/step - loss: 4.7228e-04\n",
            "Epoch 37/50\n",
            "283/283 [==============================] - 12s 42ms/step - loss: 4.9687e-04\n",
            "Epoch 38/50\n",
            "283/283 [==============================] - 12s 43ms/step - loss: 4.8898e-04\n",
            "Epoch 39/50\n",
            "283/283 [==============================] - 12s 42ms/step - loss: 4.9143e-04\n",
            "Epoch 40/50\n",
            "283/283 [==============================] - 12s 41ms/step - loss: 4.1862e-04\n",
            "Epoch 41/50\n",
            "283/283 [==============================] - 12s 42ms/step - loss: 4.7012e-04\n",
            "Epoch 42/50\n",
            "283/283 [==============================] - 12s 43ms/step - loss: 5.0684e-04\n",
            "Epoch 43/50\n",
            "283/283 [==============================] - 12s 42ms/step - loss: 4.9223e-04\n",
            "Epoch 44/50\n",
            "283/283 [==============================] - 12s 42ms/step - loss: 4.4190e-04\n",
            "Epoch 45/50\n",
            "283/283 [==============================] - 12s 42ms/step - loss: 4.9660e-04\n",
            "Epoch 46/50\n",
            "283/283 [==============================] - 12s 41ms/step - loss: 4.7861e-04\n",
            "Epoch 47/50\n",
            "283/283 [==============================] - 12s 41ms/step - loss: 5.6336e-04\n",
            "Epoch 48/50\n",
            "283/283 [==============================] - 12s 41ms/step - loss: 4.1341e-04\n",
            "Epoch 49/50\n",
            "283/283 [==============================] - 12s 41ms/step - loss: 4.4137e-04\n",
            "Epoch 50/50\n",
            "283/283 [==============================] - 12s 42ms/step - loss: 4.5471e-04\n"
          ]
        },
        {
          "output_type": "execute_result",
          "data": {
            "text/plain": [
              "<keras.callbacks.History at 0x7ff54ca60c10>"
            ]
          },
          "metadata": {},
          "execution_count": 41
        }
      ]
    },
    {
      "cell_type": "code",
      "source": [
        "testdata_AdjClose= testdata.iloc[:,3].values.reshape(-1,1) #taking  price"
      ],
      "metadata": {
        "id": "3Mo007P0qulT"
      },
      "execution_count": 42,
      "outputs": []
    },
    {
      "cell_type": "code",
      "source": [
        "from sklearn.preprocessing import MinMaxScaler\n",
        "ss= MinMaxScaler(feature_range=(0,1))\n",
        "testdata_AdjClose= ss.fit_transform(testdata_AdjClose)"
      ],
      "metadata": {
        "id": "whPv7_FtrL9z"
      },
      "execution_count": 43,
      "outputs": []
    },
    {
      "cell_type": "code",
      "source": [
        "testdata_AdjClose.shape"
      ],
      "metadata": {
        "id": "faCz8vTKrfl2"
      },
      "execution_count": null,
      "outputs": []
    },
    {
      "cell_type": "code",
      "source": [
        "xtest=[]\n",
        "ytest=[]\n",
        "for i in range(30,len(testdata_AdjClose)):\n",
        "    xtest.append(testdata_AdjClose[i-30:i,0])\n",
        "    ytest.append(testdata_AdjClose[i,0])\n",
        "\n",
        "xtest, ytest = np.array(xtest), np.array(ytest)\n",
        "\n",
        "xtest= np.reshape(xtest,(xtest.shape[0],xtest.shape[1],1))\n",
        "print(xtest.shape)\n",
        "print(ytest.shape)"
      ],
      "metadata": {
        "colab": {
          "base_uri": "https://localhost:8080/"
        },
        "id": "VrKqJC7erj4B",
        "outputId": "6b064af3-142a-4d97-de29-ff4a4e2a628b"
      },
      "execution_count": 45,
      "outputs": [
        {
          "output_type": "stream",
          "name": "stdout",
          "text": [
            "(2093, 30, 1)\n",
            "(2093,)\n"
          ]
        }
      ]
    },
    {
      "cell_type": "code",
      "source": [
        "predicted_value= regression.predict(xtest)"
      ],
      "metadata": {
        "colab": {
          "base_uri": "https://localhost:8080/"
        },
        "id": "hnGTj4dGrx_K",
        "outputId": "22cbccce-9fee-4ea9-9564-c14eabfa4778"
      },
      "execution_count": 46,
      "outputs": [
        {
          "output_type": "stream",
          "name": "stdout",
          "text": [
            "66/66 [==============================] - 2s 12ms/step\n"
          ]
        }
      ]
    },
    {
      "cell_type": "code",
      "source": [
        "predicted_value.shape"
      ],
      "metadata": {
        "colab": {
          "base_uri": "https://localhost:8080/"
        },
        "id": "8qPxyWnkr2ui",
        "outputId": "d63a44a6-3660-4a94-f9cd-bd39ddd075a7"
      },
      "execution_count": 47,
      "outputs": [
        {
          "output_type": "execute_result",
          "data": {
            "text/plain": [
              "(2093, 1)"
            ]
          },
          "metadata": {},
          "execution_count": 47
        }
      ]
    },
    {
      "cell_type": "code",
      "source": [
        "plt.figure(figsize=(20,10))\n",
        "plt.plot(y_test,'red',label='Actual Stock Prices')\n",
        "plt.plot(predicted_value*100,'blue',label='Predicted Prices')\n",
        "plt.xlabel('Time')\n",
        "plt.ylabel('Prices')\n",
        "plt.title('Actual Stock vs Predicted Prices')\n",
        "plt.legend(loc='best', fontsize=20)"
      ],
      "metadata": {
        "colab": {
          "base_uri": "https://localhost:8080/",
          "height": 477
        },
        "id": "7Qx3MrS6uek_",
        "outputId": "39c8c259-dab7-441e-dec5-e7b90a01763c"
      },
      "execution_count": 55,
      "outputs": [
        {
          "output_type": "execute_result",
          "data": {
            "text/plain": [
              "<matplotlib.legend.Legend at 0x7ff54df18250>"
            ]
          },
          "metadata": {},
          "execution_count": 55
        },
        {
          "output_type": "display_data",
          "data": {
            "text/plain": [
              "<Figure size 1440x720 with 1 Axes>"
            ],
            "image/png": "[encoded data removed]"
          },
          "metadata": {}
        }
      ]
    },
    {
      "cell_type": "markdown",
      "source": [
        "MSE="
      ],
      "metadata": {
        "id": "qHluidH3-Y1d"
      }
    },
    {
      "cell_type": "code",
      "source": [
        "print(mean_squared_error(ytest, predicted_value, squared = False))"
      ],
      "metadata": {
        "colab": {
          "base_uri": "https://localhost:8080/"
        },
        "id": "sjeFvdgx1zAw",
        "outputId": "0ac00afe-d764-419e-c037-fd7f3789dc06"
      },
      "execution_count": 49,
      "outputs": [
        {
          "output_type": "stream",
          "name": "stdout",
          "text": [
            "0.026697380266655017\n"
          ]
        }
      ]
    },
    {
      "cell_type": "markdown",
      "source": [
        "RMSE"
      ],
      "metadata": {
        "id": "GUpSMKEq-bTA"
      }
    },
    {
      "cell_type": "code",
      "source": [
        "print(mean_squared_error(ytest, predicted_value, squared = True))"
      ],
      "metadata": {
        "id": "XG-A1NWh-Vnf",
        "colab": {
          "base_uri": "https://localhost:8080/"
        },
        "outputId": "d1dcd7db-a181-4c95-f674-a56f66cf0afc"
      },
      "execution_count": 50,
      "outputs": [
        {
          "output_type": "stream",
          "name": "stdout",
          "text": [
            "0.0007127501131023807\n"
          ]
        }
      ]
    },
    {
      "cell_type": "markdown",
      "source": [
        "MAE and MAPE"
      ],
      "metadata": {
        "id": "dkUNAxM7-ern"
      }
    },
    {
      "cell_type": "code",
      "source": [
        "from sklearn.metrics import mean_absolute_error\n",
        "mae= np.mean(np.abs(predicted_value - ytest))\n",
        "from keras.metrics.metrics import mean_absolute_percentage_error\n",
        "mape = (np.mean(np.abs(predicted_value - ytest) /ytest))\n",
        "\n",
        "print(\"MAE:\", mae)\n",
        "print(\"MAPE:\", mape)"
      ],
      "metadata": {
        "colab": {
          "base_uri": "https://localhost:8080/"
        },
        "id": "EwInBZcU-R9W",
        "outputId": "8b05c207-372e-4d9f-be09-038224134a3c"
      },
      "execution_count": 58,
      "outputs": [
        {
          "output_type": "stream",
          "name": "stdout",
          "text": [
            "MAE: 0.33840326649918934\n",
            "MAPE: inf\n"
          ]
        },
        {
          "output_type": "stream",
          "name": "stderr",
          "text": [
            "<ipython-input-58-8bdb9dcf6672>:4: RuntimeWarning: divide by zero encountered in true_divide\n",
            "  mape = (np.mean(np.abs(predicted_value - ytest) /ytest))\n"
          ]
        }
      ]
    }
  ]
}